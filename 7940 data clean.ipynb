{
 "cells": [
  {
   "cell_type": "code",
   "execution_count": 2,
   "id": "d215483f-4e3f-42ed-a23f-d2dc1b0c63e8",
   "metadata": {},
   "outputs": [
    {
     "name": "stdout",
     "output_type": "stream",
     "text": [
      "Looking in indexes: http://mirrors.aliyun.com/pypi/simple\n",
      "Requirement already satisfied: seaborn in ./miniconda3/lib/python3.8/site-packages (0.11.2)\n",
      "Requirement already satisfied: matplotlib>=2.2 in ./miniconda3/lib/python3.8/site-packages (from seaborn) (3.5.1)\n",
      "Requirement already satisfied: pandas>=0.23 in ./miniconda3/lib/python3.8/site-packages (from seaborn) (1.4.2)\n",
      "Requirement already satisfied: scipy>=1.0 in ./miniconda3/lib/python3.8/site-packages (from seaborn) (1.8.0)\n",
      "Requirement already satisfied: numpy>=1.15 in ./miniconda3/lib/python3.8/site-packages (from seaborn) (1.22.0)\n",
      "Requirement already satisfied: pillow>=6.2.0 in ./miniconda3/lib/python3.8/site-packages (from matplotlib>=2.2->seaborn) (9.0.0)\n",
      "Requirement already satisfied: kiwisolver>=1.0.1 in ./miniconda3/lib/python3.8/site-packages (from matplotlib>=2.2->seaborn) (1.3.2)\n",
      "Requirement already satisfied: pyparsing>=2.2.1 in ./miniconda3/lib/python3.8/site-packages (from matplotlib>=2.2->seaborn) (3.0.6)\n",
      "Requirement already satisfied: cycler>=0.10 in ./miniconda3/lib/python3.8/site-packages (from matplotlib>=2.2->seaborn) (0.11.0)\n",
      "Requirement already satisfied: packaging>=20.0 in ./miniconda3/lib/python3.8/site-packages (from matplotlib>=2.2->seaborn) (21.3)\n",
      "Requirement already satisfied: fonttools>=4.22.0 in ./miniconda3/lib/python3.8/site-packages (from matplotlib>=2.2->seaborn) (4.28.5)\n",
      "Requirement already satisfied: python-dateutil>=2.7 in ./miniconda3/lib/python3.8/site-packages (from matplotlib>=2.2->seaborn) (2.8.2)\n",
      "Requirement already satisfied: pytz>=2020.1 in ./miniconda3/lib/python3.8/site-packages (from pandas>=0.23->seaborn) (2021.3)\n",
      "Requirement already satisfied: six>=1.5 in ./miniconda3/lib/python3.8/site-packages (from python-dateutil>=2.7->matplotlib>=2.2->seaborn) (1.16.0)\n",
      "\u001b[33mWARNING: Running pip as the 'root' user can result in broken permissions and conflicting behaviour with the system package manager. It is recommended to use a virtual environment instead: https://pip.pypa.io/warnings/venv\u001b[0m\n",
      "Looking in indexes: http://mirrors.aliyun.com/pypi/simple\n",
      "Requirement already satisfied: sklearn in ./miniconda3/lib/python3.8/site-packages (0.0)\n",
      "Requirement already satisfied: scikit-learn in ./miniconda3/lib/python3.8/site-packages (from sklearn) (1.0.2)\n",
      "Requirement already satisfied: threadpoolctl>=2.0.0 in ./miniconda3/lib/python3.8/site-packages (from scikit-learn->sklearn) (3.1.0)\n",
      "Requirement already satisfied: joblib>=0.11 in ./miniconda3/lib/python3.8/site-packages (from scikit-learn->sklearn) (1.0.1)\n",
      "Requirement already satisfied: numpy>=1.14.6 in ./miniconda3/lib/python3.8/site-packages (from scikit-learn->sklearn) (1.22.0)\n",
      "Requirement already satisfied: scipy>=1.1.0 in ./miniconda3/lib/python3.8/site-packages (from scikit-learn->sklearn) (1.8.0)\n",
      "\u001b[33mWARNING: Running pip as the 'root' user can result in broken permissions and conflicting behaviour with the system package manager. It is recommended to use a virtual environment instead: https://pip.pypa.io/warnings/venv\u001b[0m\n",
      "Looking in indexes: http://mirrors.aliyun.com/pypi/simple\n",
      "Requirement already satisfied: pandas_profiling in ./miniconda3/lib/python3.8/site-packages (3.1.0)\n",
      "Requirement already satisfied: PyYAML>=5.0.0 in ./miniconda3/lib/python3.8/site-packages (from pandas_profiling) (6.0)\n",
      "Requirement already satisfied: htmlmin>=0.1.12 in ./miniconda3/lib/python3.8/site-packages (from pandas_profiling) (0.1.12)\n",
      "Requirement already satisfied: pandas!=1.0.0,!=1.0.1,!=1.0.2,!=1.1.0,>=0.25.3 in ./miniconda3/lib/python3.8/site-packages (from pandas_profiling) (1.4.2)\n",
      "Requirement already satisfied: missingno>=0.4.2 in ./miniconda3/lib/python3.8/site-packages (from pandas_profiling) (0.5.1)\n",
      "Requirement already satisfied: visions[type_image_path]==0.7.4 in ./miniconda3/lib/python3.8/site-packages (from pandas_profiling) (0.7.4)\n",
      "Requirement already satisfied: tangled-up-in-unicode==0.1.0 in ./miniconda3/lib/python3.8/site-packages (from pandas_profiling) (0.1.0)\n",
      "Requirement already satisfied: requests>=2.24.0 in ./miniconda3/lib/python3.8/site-packages (from pandas_profiling) (2.25.1)\n",
      "Requirement already satisfied: tqdm>=4.48.2 in ./miniconda3/lib/python3.8/site-packages (from pandas_profiling) (4.61.2)\n",
      "Requirement already satisfied: seaborn>=0.10.1 in ./miniconda3/lib/python3.8/site-packages (from pandas_profiling) (0.11.2)\n",
      "Requirement already satisfied: jinja2>=2.11.1 in ./miniconda3/lib/python3.8/site-packages (from pandas_profiling) (3.0.3)\n",
      "Requirement already satisfied: markupsafe~=2.0.1 in ./miniconda3/lib/python3.8/site-packages (from pandas_profiling) (2.0.1)\n",
      "Requirement already satisfied: multimethod>=1.4 in ./miniconda3/lib/python3.8/site-packages (from pandas_profiling) (1.8)\n",
      "Requirement already satisfied: joblib~=1.0.1 in ./miniconda3/lib/python3.8/site-packages (from pandas_profiling) (1.0.1)\n",
      "Requirement already satisfied: numpy>=1.16.0 in ./miniconda3/lib/python3.8/site-packages (from pandas_profiling) (1.22.0)\n",
      "Requirement already satisfied: phik>=0.11.1 in ./miniconda3/lib/python3.8/site-packages (from pandas_profiling) (0.12.2)\n",
      "Requirement already satisfied: scipy>=1.4.1 in ./miniconda3/lib/python3.8/site-packages (from pandas_profiling) (1.8.0)\n",
      "Requirement already satisfied: matplotlib>=3.2.0 in ./miniconda3/lib/python3.8/site-packages (from pandas_profiling) (3.5.1)\n",
      "Requirement already satisfied: pydantic>=1.8.1 in ./miniconda3/lib/python3.8/site-packages (from pandas_profiling) (1.9.0)\n",
      "Requirement already satisfied: attrs>=19.3.0 in ./miniconda3/lib/python3.8/site-packages (from visions[type_image_path]==0.7.4->pandas_profiling) (21.4.0)\n",
      "Requirement already satisfied: networkx>=2.4 in ./miniconda3/lib/python3.8/site-packages (from visions[type_image_path]==0.7.4->pandas_profiling) (2.8)\n",
      "Requirement already satisfied: Pillow in ./miniconda3/lib/python3.8/site-packages (from visions[type_image_path]==0.7.4->pandas_profiling) (9.0.0)\n",
      "Requirement already satisfied: imagehash in ./miniconda3/lib/python3.8/site-packages (from visions[type_image_path]==0.7.4->pandas_profiling) (4.2.1)\n",
      "Requirement already satisfied: python-dateutil>=2.7 in ./miniconda3/lib/python3.8/site-packages (from matplotlib>=3.2.0->pandas_profiling) (2.8.2)\n",
      "Requirement already satisfied: fonttools>=4.22.0 in ./miniconda3/lib/python3.8/site-packages (from matplotlib>=3.2.0->pandas_profiling) (4.28.5)\n",
      "Requirement already satisfied: packaging>=20.0 in ./miniconda3/lib/python3.8/site-packages (from matplotlib>=3.2.0->pandas_profiling) (21.3)\n",
      "Requirement already satisfied: pyparsing>=2.2.1 in ./miniconda3/lib/python3.8/site-packages (from matplotlib>=3.2.0->pandas_profiling) (3.0.6)\n",
      "Requirement already satisfied: cycler>=0.10 in ./miniconda3/lib/python3.8/site-packages (from matplotlib>=3.2.0->pandas_profiling) (0.11.0)\n",
      "Requirement already satisfied: kiwisolver>=1.0.1 in ./miniconda3/lib/python3.8/site-packages (from matplotlib>=3.2.0->pandas_profiling) (1.3.2)\n",
      "Requirement already satisfied: pytz>=2020.1 in ./miniconda3/lib/python3.8/site-packages (from pandas!=1.0.0,!=1.0.1,!=1.0.2,!=1.1.0,>=0.25.3->pandas_profiling) (2021.3)\n",
      "Requirement already satisfied: typing-extensions>=3.7.4.3 in ./miniconda3/lib/python3.8/site-packages (from pydantic>=1.8.1->pandas_profiling) (4.2.0)\n",
      "Requirement already satisfied: six>=1.5 in ./miniconda3/lib/python3.8/site-packages (from python-dateutil>=2.7->matplotlib>=3.2.0->pandas_profiling) (1.16.0)\n",
      "Requirement already satisfied: chardet<5,>=3.0.2 in ./miniconda3/lib/python3.8/site-packages (from requests>=2.24.0->pandas_profiling) (4.0.0)\n",
      "Requirement already satisfied: urllib3<1.27,>=1.21.1 in ./miniconda3/lib/python3.8/site-packages (from requests>=2.24.0->pandas_profiling) (1.26.6)\n",
      "Requirement already satisfied: certifi>=2017.4.17 in ./miniconda3/lib/python3.8/site-packages (from requests>=2.24.0->pandas_profiling) (2021.5.30)\n",
      "Requirement already satisfied: idna<3,>=2.5 in ./miniconda3/lib/python3.8/site-packages (from requests>=2.24.0->pandas_profiling) (2.10)\n",
      "Requirement already satisfied: PyWavelets in ./miniconda3/lib/python3.8/site-packages (from imagehash->visions[type_image_path]==0.7.4->pandas_profiling) (1.3.0)\n",
      "\u001b[33mWARNING: Running pip as the 'root' user can result in broken permissions and conflicting behaviour with the system package manager. It is recommended to use a virtual environment instead: https://pip.pypa.io/warnings/venv\u001b[0m\n"
     ]
    }
   ],
   "source": [
    "!pip install seaborn\n",
    "!pip install sklearn\n",
    "!pip install pandas_profiling"
   ]
  },
  {
   "cell_type": "code",
   "execution_count": 2,
   "id": "e3d8cfff-e0a7-42ae-9adf-b9bda428ee22",
   "metadata": {},
   "outputs": [],
   "source": [
    "import matplotlib.pyplot as plt \n",
    "import seaborn as sns\n",
    "from mpl_toolkits.mplot3d import Axes3D\n",
    "from sklearn.preprocessing import StandardScaler\n",
    "import pandas_profiling\n",
    "import re\n",
    "import gc\n",
    "from tqdm.notebook import trange, tqdm\n",
    "import pandas as pd\n",
    "import numpy as np\n",
    "import zipfile\n",
    "import copy\n",
    "import time\n",
    "\n",
    "%matplotlib inline\n",
    "\n",
    "pd.set_option('display.max_columns',None)"
   ]
  },
  {
   "cell_type": "code",
   "execution_count": 3,
   "id": "14ca0c40-be87-49aa-a2d4-c694750a9f66",
   "metadata": {},
   "outputs": [
    {
     "name": "stderr",
     "output_type": "stream",
     "text": [
      "/tmp/ipykernel_262/1999578732.py:30: DtypeWarning: Columns (6) have mixed types. Specify dtype option on import or set low_memory=False.\n",
      "  df = pd.read_csv(df, parse_dates=['Date'],usecols=useful_columns,dtype=dtypes)\n"
     ]
    }
   ],
   "source": [
    "useful_columns = ['Invoice/Item Number', 'Date', 'Store Number','Store Name',\n",
    "       'City', 'Zip Code','County', 'Category Name', 'Vendor Name',\n",
    "       'Item Number', 'Item Description', 'Pack', 'Bottle Volume (ml)',\n",
    "      'State Bottle Cost', 'State Bottle Retail', 'Bottles Sold',\n",
    "      'Sale (Dollars)', 'Volume Sold (Liters)','Volume Sold (Gallons)']\n",
    "\n",
    "dtypes = {\n",
    "'Invoice/Item Number':'object',\n",
    "'Store Number':'int16',\n",
    "'City':'object',\n",
    "'County':'object' , \n",
    "    'Category Name':'object', \n",
    "    'Vendor Name':'object',\n",
    "    'Item Number':'object', \n",
    "    'Item Description':'object', \n",
    "    'Pack':'int16',\n",
    "    'Bottle Volume (ml)':'int16',\n",
    "    'State Bottle Cost':'float16', \n",
    "    'State Bottle Retail':'float16', \n",
    "    'Bottles Sold':'float16',\n",
    "    'Sale (Dollars)':'float16', \n",
    "    'Volume Sold (Liters)':'float16',\n",
    "    'Volume Sold (Gallons)':'float16'\n",
    "}\n",
    "\n",
    "with zipfile.ZipFile('autodl-nas/Iowa_Liquor_Sales.csv.zip','r') as zipobj:\n",
    "    df=zipobj.open('Iowa_Liquor_Sales.csv')\n",
    "    #df = pd.read_csv('Iowa_Liquor_Sales.csv', parse_dates=['Date'], usecols=useful_columns,dtype=dtypes)\n",
    "    \n",
    "df = pd.read_csv(df, parse_dates=['Date'],usecols=useful_columns,dtype=dtypes)"
   ]
  },
  {
   "cell_type": "code",
   "execution_count": 12,
   "id": "3934f4ed-48d8-4f92-a6d9-0cba13942f09",
   "metadata": {},
   "outputs": [
    {
     "data": {
      "text/html": [
       "<div>\n",
       "<style scoped>\n",
       "    .dataframe tbody tr th:only-of-type {\n",
       "        vertical-align: middle;\n",
       "    }\n",
       "\n",
       "    .dataframe tbody tr th {\n",
       "        vertical-align: top;\n",
       "    }\n",
       "\n",
       "    .dataframe thead th {\n",
       "        text-align: right;\n",
       "    }\n",
       "</style>\n",
       "<table border=\"1\" class=\"dataframe\">\n",
       "  <thead>\n",
       "    <tr style=\"text-align: right;\">\n",
       "      <th></th>\n",
       "      <th>Invoice/Item Number</th>\n",
       "      <th>Date</th>\n",
       "      <th>Store Number</th>\n",
       "      <th>Store Name</th>\n",
       "      <th>Address</th>\n",
       "      <th>City</th>\n",
       "      <th>Zip Code</th>\n",
       "      <th>Store Location</th>\n",
       "      <th>County Number</th>\n",
       "      <th>County</th>\n",
       "      <th>Category</th>\n",
       "      <th>Category Name</th>\n",
       "      <th>Vendor Number</th>\n",
       "      <th>Vendor Name</th>\n",
       "      <th>Item Number</th>\n",
       "      <th>Item Description</th>\n",
       "      <th>Pack</th>\n",
       "      <th>Bottle Volume (ml)</th>\n",
       "      <th>State Bottle Cost</th>\n",
       "      <th>State Bottle Retail</th>\n",
       "      <th>Bottles Sold</th>\n",
       "      <th>Sale (Dollars)</th>\n",
       "      <th>Volume Sold (Liters)</th>\n",
       "      <th>Volume Sold (Gallons)</th>\n",
       "    </tr>\n",
       "  </thead>\n",
       "  <tbody>\n",
       "    <tr>\n",
       "      <th>0</th>\n",
       "      <td>S24127700024</td>\n",
       "      <td>2015-02-19</td>\n",
       "      <td>3678</td>\n",
       "      <td>Smoke Shop, The</td>\n",
       "      <td>1918 SE 14TH ST</td>\n",
       "      <td>DES MOINES</td>\n",
       "      <td>50320</td>\n",
       "      <td>POINT (-93.597011 41.570844)</td>\n",
       "      <td>77.0</td>\n",
       "      <td>Polk</td>\n",
       "      <td>1031200.0</td>\n",
       "      <td>VODKA FLAVORED</td>\n",
       "      <td>380.0</td>\n",
       "      <td>Phillips Beverage Company</td>\n",
       "      <td>41783</td>\n",
       "      <td>Uv Blue Raspberry Vodka Mini</td>\n",
       "      <td>6</td>\n",
       "      <td>500</td>\n",
       "      <td>4.89</td>\n",
       "      <td>7.34</td>\n",
       "      <td>2</td>\n",
       "      <td>14.68</td>\n",
       "      <td>1.00</td>\n",
       "      <td>0.26</td>\n",
       "    </tr>\n",
       "    <tr>\n",
       "      <th>1</th>\n",
       "      <td>S15066200002</td>\n",
       "      <td>2013-10-10</td>\n",
       "      <td>2633</td>\n",
       "      <td>Hy-Vee #3 / BDI / Des Moines</td>\n",
       "      <td>3221 SE 14TH ST</td>\n",
       "      <td>DES MOINES</td>\n",
       "      <td>50320</td>\n",
       "      <td>POINT (-93.596754 41.554101)</td>\n",
       "      <td>77.0</td>\n",
       "      <td>Polk</td>\n",
       "      <td>1082900.0</td>\n",
       "      <td>MISC. IMPORTED CORDIALS &amp; LIQUEURS</td>\n",
       "      <td>305.0</td>\n",
       "      <td>MHW Ltd</td>\n",
       "      <td>904969</td>\n",
       "      <td>Sabe Premiom Sake Double Barrel</td>\n",
       "      <td>6</td>\n",
       "      <td>750</td>\n",
       "      <td>14.99</td>\n",
       "      <td>22.49</td>\n",
       "      <td>6</td>\n",
       "      <td>134.94</td>\n",
       "      <td>4.50</td>\n",
       "      <td>1.19</td>\n",
       "    </tr>\n",
       "    <tr>\n",
       "      <th>2</th>\n",
       "      <td>S19323500030</td>\n",
       "      <td>2014-06-03</td>\n",
       "      <td>2607</td>\n",
       "      <td>Hy-Vee Wine and Spirits / Shenandoah</td>\n",
       "      <td>520 SO FREMONT</td>\n",
       "      <td>SHENANDOAH</td>\n",
       "      <td>51601</td>\n",
       "      <td>POINT (-95.385111 40.761736)</td>\n",
       "      <td>73.0</td>\n",
       "      <td>Page</td>\n",
       "      <td>1062200.0</td>\n",
       "      <td>PUERTO RICO &amp; VIRGIN ISLANDS RUM</td>\n",
       "      <td>434.0</td>\n",
       "      <td>Luxco-St Louis</td>\n",
       "      <td>45277</td>\n",
       "      <td>Paramount White Rum</td>\n",
       "      <td>12</td>\n",
       "      <td>1000</td>\n",
       "      <td>4.34</td>\n",
       "      <td>6.51</td>\n",
       "      <td>12</td>\n",
       "      <td>78.12</td>\n",
       "      <td>12.00</td>\n",
       "      <td>3.17</td>\n",
       "    </tr>\n",
       "    <tr>\n",
       "      <th>3</th>\n",
       "      <td>S23334500013</td>\n",
       "      <td>2015-01-06</td>\n",
       "      <td>4810</td>\n",
       "      <td>Kum &amp; Go #518 / Ankeny</td>\n",
       "      <td>3603 NE OTTERVIEW CIRCLE</td>\n",
       "      <td>ANKENY</td>\n",
       "      <td>50021</td>\n",
       "      <td>POINT (-93.572458 41.760989)</td>\n",
       "      <td>77.0</td>\n",
       "      <td>Polk</td>\n",
       "      <td>1062200.0</td>\n",
       "      <td>PUERTO RICO &amp; VIRGIN ISLANDS RUM</td>\n",
       "      <td>35.0</td>\n",
       "      <td>Bacardi U.S.A., Inc.</td>\n",
       "      <td>43121</td>\n",
       "      <td>Bacardi Superior Rum Mini</td>\n",
       "      <td>12</td>\n",
       "      <td>500</td>\n",
       "      <td>5.54</td>\n",
       "      <td>8.31</td>\n",
       "      <td>1</td>\n",
       "      <td>8.31</td>\n",
       "      <td>0.50</td>\n",
       "      <td>0.13</td>\n",
       "    </tr>\n",
       "    <tr>\n",
       "      <th>4</th>\n",
       "      <td>S09742200010</td>\n",
       "      <td>2012-12-27</td>\n",
       "      <td>4025</td>\n",
       "      <td>Karam Kaur Khasriya Llc</td>\n",
       "      <td>702 13TH ST</td>\n",
       "      <td>BELLE PLAINE</td>\n",
       "      <td>52208</td>\n",
       "      <td>POINT (-92.277759 41.897052)</td>\n",
       "      <td>6.0</td>\n",
       "      <td>Benton</td>\n",
       "      <td>1012100.0</td>\n",
       "      <td>CANADIAN WHISKIES</td>\n",
       "      <td>260.0</td>\n",
       "      <td>Diageo Americas</td>\n",
       "      <td>11298</td>\n",
       "      <td>Crown Royal Canadian Whisky</td>\n",
       "      <td>6</td>\n",
       "      <td>1750</td>\n",
       "      <td>31.00</td>\n",
       "      <td>46.49</td>\n",
       "      <td>2</td>\n",
       "      <td>92.98</td>\n",
       "      <td>3.50</td>\n",
       "      <td>0.92</td>\n",
       "    </tr>\n",
       "    <tr>\n",
       "      <th>...</th>\n",
       "      <td>...</td>\n",
       "      <td>...</td>\n",
       "      <td>...</td>\n",
       "      <td>...</td>\n",
       "      <td>...</td>\n",
       "      <td>...</td>\n",
       "      <td>...</td>\n",
       "      <td>...</td>\n",
       "      <td>...</td>\n",
       "      <td>...</td>\n",
       "      <td>...</td>\n",
       "      <td>...</td>\n",
       "      <td>...</td>\n",
       "      <td>...</td>\n",
       "      <td>...</td>\n",
       "      <td>...</td>\n",
       "      <td>...</td>\n",
       "      <td>...</td>\n",
       "      <td>...</td>\n",
       "      <td>...</td>\n",
       "      <td>...</td>\n",
       "      <td>...</td>\n",
       "      <td>...</td>\n",
       "      <td>...</td>\n",
       "    </tr>\n",
       "    <tr>\n",
       "      <th>19666758</th>\n",
       "      <td>S10600200004</td>\n",
       "      <td>2013-02-13</td>\n",
       "      <td>3864</td>\n",
       "      <td>Hometown Foods / Schaller</td>\n",
       "      <td>201 S MAIN ST PO BX 40</td>\n",
       "      <td>SCHALLER</td>\n",
       "      <td>51053</td>\n",
       "      <td>POINT (-95.29346 42.499481)</td>\n",
       "      <td>81.0</td>\n",
       "      <td>Sac</td>\n",
       "      <td>1071100.0</td>\n",
       "      <td>AMERICAN COCKTAILS</td>\n",
       "      <td>421.0</td>\n",
       "      <td>Sazerac Co., Inc.</td>\n",
       "      <td>59231</td>\n",
       "      <td>Ice Box Mudslide</td>\n",
       "      <td>6</td>\n",
       "      <td>1750</td>\n",
       "      <td>5.75</td>\n",
       "      <td>9.13</td>\n",
       "      <td>6</td>\n",
       "      <td>54.78</td>\n",
       "      <td>10.50</td>\n",
       "      <td>2.77</td>\n",
       "    </tr>\n",
       "    <tr>\n",
       "      <th>19666759</th>\n",
       "      <td>S23597800012</td>\n",
       "      <td>2015-01-21</td>\n",
       "      <td>5065</td>\n",
       "      <td>Circle S Gordon Drive</td>\n",
       "      <td>2520, GORDON DR</td>\n",
       "      <td>SIOUX CITY</td>\n",
       "      <td>51106</td>\n",
       "      <td>POINT (-96.376341 42.489845)</td>\n",
       "      <td>97.0</td>\n",
       "      <td>Woodbury</td>\n",
       "      <td>1081600.0</td>\n",
       "      <td>WHISKEY LIQUEUR</td>\n",
       "      <td>421.0</td>\n",
       "      <td>Sazerac Co., Inc.</td>\n",
       "      <td>64863</td>\n",
       "      <td>Fireball Cinnamon Whiskey</td>\n",
       "      <td>48</td>\n",
       "      <td>200</td>\n",
       "      <td>3.33</td>\n",
       "      <td>5.00</td>\n",
       "      <td>4</td>\n",
       "      <td>20.00</td>\n",
       "      <td>0.80</td>\n",
       "      <td>0.21</td>\n",
       "    </tr>\n",
       "    <tr>\n",
       "      <th>19666760</th>\n",
       "      <td>S29278700041</td>\n",
       "      <td>2015-11-24</td>\n",
       "      <td>3400</td>\n",
       "      <td>Last Stop Beverage Shop</td>\n",
       "      <td>2839 E. UNIVERSITY</td>\n",
       "      <td>DES MOINES</td>\n",
       "      <td>50317</td>\n",
       "      <td>POINT (-93.561517 41.600476)</td>\n",
       "      <td>77.0</td>\n",
       "      <td>Polk</td>\n",
       "      <td>1031080.0</td>\n",
       "      <td>VODKA 80 PROOF</td>\n",
       "      <td>380.0</td>\n",
       "      <td>Phillips Beverage Company</td>\n",
       "      <td>37336</td>\n",
       "      <td>Uv Vodka</td>\n",
       "      <td>12</td>\n",
       "      <td>750</td>\n",
       "      <td>6.50</td>\n",
       "      <td>9.75</td>\n",
       "      <td>12</td>\n",
       "      <td>117.00</td>\n",
       "      <td>9.00</td>\n",
       "      <td>2.38</td>\n",
       "    </tr>\n",
       "    <tr>\n",
       "      <th>19666761</th>\n",
       "      <td>S04908000004</td>\n",
       "      <td>2012-04-05</td>\n",
       "      <td>2579</td>\n",
       "      <td>Hy-Vee Food Store / Grinnell</td>\n",
       "      <td>320 WEST STREET SOUTH</td>\n",
       "      <td>GRINNELL</td>\n",
       "      <td>50112</td>\n",
       "      <td>POINT (-92.727343 41.7283)</td>\n",
       "      <td>79.0</td>\n",
       "      <td>Poweshiek</td>\n",
       "      <td>1062200.0</td>\n",
       "      <td>PUERTO RICO &amp; VIRGIN ISLANDS RUM</td>\n",
       "      <td>35.0</td>\n",
       "      <td>Bacardi U.S.A., Inc.</td>\n",
       "      <td>43128</td>\n",
       "      <td>Bacardi Superior Rum</td>\n",
       "      <td>6</td>\n",
       "      <td>1750</td>\n",
       "      <td>14.67</td>\n",
       "      <td>22.00</td>\n",
       "      <td>6</td>\n",
       "      <td>132.00</td>\n",
       "      <td>10.50</td>\n",
       "      <td>2.77</td>\n",
       "    </tr>\n",
       "    <tr>\n",
       "      <th>19666762</th>\n",
       "      <td>S09763500040</td>\n",
       "      <td>2012-12-28</td>\n",
       "      <td>4265</td>\n",
       "      <td>Kwik Stop 3 / Waterloo</td>\n",
       "      <td>1104 WASHINGTON ST</td>\n",
       "      <td>WATERLOO</td>\n",
       "      <td>50702</td>\n",
       "      <td>POINT (-92.336965 42.489106)</td>\n",
       "      <td>7.0</td>\n",
       "      <td>Black Hawk</td>\n",
       "      <td>1082900.0</td>\n",
       "      <td>MISC. IMPORTED CORDIALS &amp; LIQUEURS</td>\n",
       "      <td>192.0</td>\n",
       "      <td>Sidney Frank Importing Co.</td>\n",
       "      <td>65256</td>\n",
       "      <td>Jagermeister Liqueur</td>\n",
       "      <td>12</td>\n",
       "      <td>750</td>\n",
       "      <td>12.04</td>\n",
       "      <td>18.06</td>\n",
       "      <td>3</td>\n",
       "      <td>54.18</td>\n",
       "      <td>2.25</td>\n",
       "      <td>0.59</td>\n",
       "    </tr>\n",
       "  </tbody>\n",
       "</table>\n",
       "<p>19666763 rows × 24 columns</p>\n",
       "</div>"
      ],
      "text/plain": [
       "         Invoice/Item Number       Date  Store Number  \\\n",
       "0               S24127700024 2015-02-19          3678   \n",
       "1               S15066200002 2013-10-10          2633   \n",
       "2               S19323500030 2014-06-03          2607   \n",
       "3               S23334500013 2015-01-06          4810   \n",
       "4               S09742200010 2012-12-27          4025   \n",
       "...                      ...        ...           ...   \n",
       "19666758        S10600200004 2013-02-13          3864   \n",
       "19666759        S23597800012 2015-01-21          5065   \n",
       "19666760        S29278700041 2015-11-24          3400   \n",
       "19666761        S04908000004 2012-04-05          2579   \n",
       "19666762        S09763500040 2012-12-28          4265   \n",
       "\n",
       "                                    Store Name                   Address  \\\n",
       "0                              Smoke Shop, The           1918 SE 14TH ST   \n",
       "1                 Hy-Vee #3 / BDI / Des Moines           3221 SE 14TH ST   \n",
       "2         Hy-Vee Wine and Spirits / Shenandoah            520 SO FREMONT   \n",
       "3                       Kum & Go #518 / Ankeny  3603 NE OTTERVIEW CIRCLE   \n",
       "4                      Karam Kaur Khasriya Llc               702 13TH ST   \n",
       "...                                        ...                       ...   \n",
       "19666758             Hometown Foods / Schaller    201 S MAIN ST PO BX 40   \n",
       "19666759                 Circle S Gordon Drive           2520, GORDON DR   \n",
       "19666760               Last Stop Beverage Shop        2839 E. UNIVERSITY   \n",
       "19666761          Hy-Vee Food Store / Grinnell     320 WEST STREET SOUTH   \n",
       "19666762                Kwik Stop 3 / Waterloo        1104 WASHINGTON ST   \n",
       "\n",
       "                  City Zip Code                Store Location  County Number  \\\n",
       "0           DES MOINES    50320  POINT (-93.597011 41.570844)           77.0   \n",
       "1           DES MOINES    50320  POINT (-93.596754 41.554101)           77.0   \n",
       "2           SHENANDOAH    51601  POINT (-95.385111 40.761736)           73.0   \n",
       "3               ANKENY    50021  POINT (-93.572458 41.760989)           77.0   \n",
       "4         BELLE PLAINE    52208  POINT (-92.277759 41.897052)            6.0   \n",
       "...                ...      ...                           ...            ...   \n",
       "19666758      SCHALLER    51053   POINT (-95.29346 42.499481)           81.0   \n",
       "19666759    SIOUX CITY    51106  POINT (-96.376341 42.489845)           97.0   \n",
       "19666760    DES MOINES    50317  POINT (-93.561517 41.600476)           77.0   \n",
       "19666761      GRINNELL    50112    POINT (-92.727343 41.7283)           79.0   \n",
       "19666762      WATERLOO    50702  POINT (-92.336965 42.489106)            7.0   \n",
       "\n",
       "              County   Category                       Category Name  \\\n",
       "0               Polk  1031200.0                      VODKA FLAVORED   \n",
       "1               Polk  1082900.0  MISC. IMPORTED CORDIALS & LIQUEURS   \n",
       "2               Page  1062200.0    PUERTO RICO & VIRGIN ISLANDS RUM   \n",
       "3               Polk  1062200.0    PUERTO RICO & VIRGIN ISLANDS RUM   \n",
       "4             Benton  1012100.0                   CANADIAN WHISKIES   \n",
       "...              ...        ...                                 ...   \n",
       "19666758         Sac  1071100.0                  AMERICAN COCKTAILS   \n",
       "19666759    Woodbury  1081600.0                     WHISKEY LIQUEUR   \n",
       "19666760        Polk  1031080.0                      VODKA 80 PROOF   \n",
       "19666761   Poweshiek  1062200.0    PUERTO RICO & VIRGIN ISLANDS RUM   \n",
       "19666762  Black Hawk  1082900.0  MISC. IMPORTED CORDIALS & LIQUEURS   \n",
       "\n",
       "          Vendor Number                 Vendor Name Item Number  \\\n",
       "0                 380.0   Phillips Beverage Company       41783   \n",
       "1                 305.0                     MHW Ltd      904969   \n",
       "2                 434.0              Luxco-St Louis       45277   \n",
       "3                  35.0        Bacardi U.S.A., Inc.       43121   \n",
       "4                 260.0             Diageo Americas       11298   \n",
       "...                 ...                         ...         ...   \n",
       "19666758          421.0           Sazerac Co., Inc.       59231   \n",
       "19666759          421.0           Sazerac Co., Inc.       64863   \n",
       "19666760          380.0   Phillips Beverage Company       37336   \n",
       "19666761           35.0        Bacardi U.S.A., Inc.       43128   \n",
       "19666762          192.0  Sidney Frank Importing Co.       65256   \n",
       "\n",
       "                         Item Description  Pack  Bottle Volume (ml)  \\\n",
       "0            Uv Blue Raspberry Vodka Mini     6                 500   \n",
       "1         Sabe Premiom Sake Double Barrel     6                 750   \n",
       "2                     Paramount White Rum    12                1000   \n",
       "3               Bacardi Superior Rum Mini    12                 500   \n",
       "4             Crown Royal Canadian Whisky     6                1750   \n",
       "...                                   ...   ...                 ...   \n",
       "19666758                 Ice Box Mudslide     6                1750   \n",
       "19666759        Fireball Cinnamon Whiskey    48                 200   \n",
       "19666760                         Uv Vodka    12                 750   \n",
       "19666761             Bacardi Superior Rum     6                1750   \n",
       "19666762             Jagermeister Liqueur    12                 750   \n",
       "\n",
       "          State Bottle Cost  State Bottle Retail  Bottles Sold  \\\n",
       "0                      4.89                 7.34             2   \n",
       "1                     14.99                22.49             6   \n",
       "2                      4.34                 6.51            12   \n",
       "3                      5.54                 8.31             1   \n",
       "4                     31.00                46.49             2   \n",
       "...                     ...                  ...           ...   \n",
       "19666758               5.75                 9.13             6   \n",
       "19666759               3.33                 5.00             4   \n",
       "19666760               6.50                 9.75            12   \n",
       "19666761              14.67                22.00             6   \n",
       "19666762              12.04                18.06             3   \n",
       "\n",
       "          Sale (Dollars)  Volume Sold (Liters)  Volume Sold (Gallons)  \n",
       "0                  14.68                  1.00                   0.26  \n",
       "1                 134.94                  4.50                   1.19  \n",
       "2                  78.12                 12.00                   3.17  \n",
       "3                   8.31                  0.50                   0.13  \n",
       "4                  92.98                  3.50                   0.92  \n",
       "...                  ...                   ...                    ...  \n",
       "19666758           54.78                 10.50                   2.77  \n",
       "19666759           20.00                  0.80                   0.21  \n",
       "19666760          117.00                  9.00                   2.38  \n",
       "19666761          132.00                 10.50                   2.77  \n",
       "19666762           54.18                  2.25                   0.59  \n",
       "\n",
       "[19666763 rows x 24 columns]"
      ]
     },
     "execution_count": 12,
     "metadata": {},
     "output_type": "execute_result"
    }
   ],
   "source": [
    "df"
   ]
  },
  {
   "cell_type": "code",
   "execution_count": 13,
   "id": "0c9c9cfa-4619-4bdd-ab43-13b833848519",
   "metadata": {},
   "outputs": [],
   "source": [
    "# df1=df.iloc[:,0:12]"
   ]
  },
  {
   "cell_type": "code",
   "execution_count": 14,
   "id": "9ca18411-f067-444a-930b-34748d434052",
   "metadata": {},
   "outputs": [],
   "source": [
    "# df2=df.iloc[:,12:24]"
   ]
  },
  {
   "cell_type": "markdown",
   "id": "9d2f41b6-2ccd-486a-bdd0-c707e6ebbde6",
   "metadata": {},
   "source": [
    "# 生成数据报告"
   ]
  },
  {
   "cell_type": "code",
   "execution_count": 15,
   "id": "0ff569f5-e0bc-4efc-8824-18fc6831e71b",
   "metadata": {},
   "outputs": [
    {
     "data": {
      "application/vnd.jupyter.widget-view+json": {
       "model_id": "691d81d801a244cab93b88801519f1ca",
       "version_major": 2,
       "version_minor": 0
      },
      "text/plain": [
       "Summarize dataset:   0%|          | 0/5 [00:00<?, ?it/s]"
      ]
     },
     "metadata": {},
     "output_type": "display_data"
    },
    {
     "name": "stderr",
     "output_type": "stream",
     "text": [
      "/root/miniconda3/lib/python3.8/site-packages/scipy/stats/_stats_py.py:4868: RuntimeWarning: overflow encountered in long_scalars\n",
      "  (2 * xtie * ytie) / m + x0 * y0 / (9 * m * (size - 2)))\n"
     ]
    },
    {
     "data": {
      "application/vnd.jupyter.widget-view+json": {
       "model_id": "c5a94efec5f8467fab68c045b2a04fbb",
       "version_major": 2,
       "version_minor": 0
      },
      "text/plain": [
       "Generate report structure:   0%|          | 0/1 [00:00<?, ?it/s]"
      ]
     },
     "metadata": {},
     "output_type": "display_data"
    },
    {
     "data": {
      "application/vnd.jupyter.widget-view+json": {
       "model_id": "c2e5ba642abb456bb817b7fd8ba4f473",
       "version_major": 2,
       "version_minor": 0
      },
      "text/plain": [
       "Render HTML:   0%|          | 0/1 [00:00<?, ?it/s]"
      ]
     },
     "metadata": {},
     "output_type": "display_data"
    },
    {
     "data": {
      "application/vnd.jupyter.widget-view+json": {
       "model_id": "ac3211572c0343ea975b0d4cf28be6fc",
       "version_major": 2,
       "version_minor": 0
      },
      "text/plain": [
       "Export report to file:   0%|          | 0/1 [00:00<?, ?it/s]"
      ]
     },
     "metadata": {},
     "output_type": "display_data"
    },
    {
     "name": "stdout",
     "output_type": "stream",
     "text": [
      "CPU times: user 15min 23s, sys: 3min 47s, total: 19min 11s\n",
      "Wall time: 17min 43s\n"
     ]
    }
   ],
   "source": [
    "# %%time\n",
    "\n",
    "# pfr = pandas_profiling.ProfileReport(df1)\n",
    "# pfr.to_file(\"autodl-nas/ProfileReport1.html\")"
   ]
  },
  {
   "cell_type": "code",
   "execution_count": null,
   "id": "1d70161f-39f4-46bd-9ee9-6cce603e63a7",
   "metadata": {},
   "outputs": [
    {
     "data": {
      "application/vnd.jupyter.widget-view+json": {
       "model_id": "fec197c3a6d54a298462ce70138aef12",
       "version_major": 2,
       "version_minor": 0
      },
      "text/plain": [
       "Summarize dataset:   0%|          | 0/5 [00:00<?, ?it/s]"
      ]
     },
     "metadata": {},
     "output_type": "display_data"
    },
    {
     "name": "stderr",
     "output_type": "stream",
     "text": [
      "/root/miniconda3/lib/python3.8/site-packages/scipy/stats/_stats_py.py:4868: RuntimeWarning: overflow encountered in long_scalars\n",
      "  (2 * xtie * ytie) / m + x0 * y0 / (9 * m * (size - 2)))\n"
     ]
    },
    {
     "data": {
      "application/vnd.jupyter.widget-view+json": {
       "model_id": "6c7ef382b523469cbe99fbb9a616a622",
       "version_major": 2,
       "version_minor": 0
      },
      "text/plain": [
       "Generate report structure:   0%|          | 0/1 [00:00<?, ?it/s]"
      ]
     },
     "metadata": {},
     "output_type": "display_data"
    }
   ],
   "source": [
    "# %%time\n",
    "\n",
    "# pfr = pandas_profiling.ProfileReport(df2)\n",
    "# pfr.to_file(\"autodl-nas/ProfileReport2.html\")"
   ]
  },
  {
   "cell_type": "code",
   "execution_count": null,
   "id": "bf7ce9f4-79a9-44e3-8a52-e0573b1db2e7",
   "metadata": {},
   "outputs": [],
   "source": [
    "## IndexError: index -9223372036854775808 is out of bounds for axis 0 with size 158324     尝试对df重置索引试试\n",
    "\n",
    "## PicklingError: Could not pickle the task to send it to the workers."
   ]
  },
  {
   "cell_type": "code",
   "execution_count": null,
   "id": "7d598af5-dc9c-4b7e-a8ca-a1ac7b02b1c1",
   "metadata": {},
   "outputs": [],
   "source": []
  },
  {
   "cell_type": "code",
   "execution_count": 4,
   "id": "ac421a52-88ee-4b9a-834b-3429f6081933",
   "metadata": {},
   "outputs": [],
   "source": [
    "## 创建一个原数据集副本df_copy\n",
    "\n",
    "df_copy=copy.deepcopy(df)"
   ]
  },
  {
   "cell_type": "code",
   "execution_count": 5,
   "id": "8f716349-8b8b-46ae-9669-5fa153d909a1",
   "metadata": {},
   "outputs": [
    {
     "data": {
      "text/plain": [
       "1838.057424545288"
      ]
     },
     "execution_count": 5,
     "metadata": {},
     "output_type": "execute_result"
    }
   ],
   "source": [
    "## 内存使用情况\n",
    "df.memory_usage().sum() / 1024**2\n",
    "\n",
    "## 1838.057424545288"
   ]
  },
  {
   "cell_type": "code",
   "execution_count": 6,
   "id": "0bf14a10-b8c3-4b87-a701-d53f94ae9f61",
   "metadata": {},
   "outputs": [],
   "source": [
    "def basic_preprocessing(df):\n",
    "    \n",
    "    #选取所有为object的数据列\n",
    "    object_column_list = list(df.dtypes[df.dtypes == object].index)\n",
    "    \n",
    "    # 把object类型的列全部转为小写\n",
    "    for object_column in object_column_list:\n",
    "        df.loc[:,object_column] = df.loc[:,object_column].str.lower().str.strip().str.split().str.join(' ')\n",
    "        gc.collect()\n",
    "    \n",
    "    # 部分商店名称为商店（或连锁店）+商店后缀（加盟店）+数字，将其拆开\n",
    "    df[['Store Name','Store Subname']] = df['Store Name'].str.rsplit(pat=\" / \", expand=True, n=1)\n",
    "    df[['Store Name','Store SubNumber']] = df['Store Name'].str.rsplit(pat=\" #\", expand=True, n=1)\n",
    "    \n",
    "    return df"
   ]
  },
  {
   "cell_type": "code",
   "execution_count": 7,
   "id": "6d653962-5e2b-4975-a316-e69b5c503388",
   "metadata": {},
   "outputs": [
    {
     "name": "stdout",
     "output_type": "stream",
     "text": [
      "CPU times: user 8min 14s, sys: 58.6 s, total: 9min 12s\n",
      "Wall time: 9min 12s\n"
     ]
    },
    {
     "data": {
      "text/html": [
       "<div>\n",
       "<style scoped>\n",
       "    .dataframe tbody tr th:only-of-type {\n",
       "        vertical-align: middle;\n",
       "    }\n",
       "\n",
       "    .dataframe tbody tr th {\n",
       "        vertical-align: top;\n",
       "    }\n",
       "\n",
       "    .dataframe thead th {\n",
       "        text-align: right;\n",
       "    }\n",
       "</style>\n",
       "<table border=\"1\" class=\"dataframe\">\n",
       "  <thead>\n",
       "    <tr style=\"text-align: right;\">\n",
       "      <th></th>\n",
       "      <th>Invoice/Item Number</th>\n",
       "      <th>Date</th>\n",
       "      <th>Store Number</th>\n",
       "      <th>Store Name</th>\n",
       "      <th>City</th>\n",
       "      <th>Zip Code</th>\n",
       "      <th>County</th>\n",
       "      <th>Category Name</th>\n",
       "      <th>Vendor Name</th>\n",
       "      <th>Item Number</th>\n",
       "      <th>Item Description</th>\n",
       "      <th>Pack</th>\n",
       "      <th>Bottle Volume (ml)</th>\n",
       "      <th>State Bottle Cost</th>\n",
       "      <th>State Bottle Retail</th>\n",
       "      <th>Bottles Sold</th>\n",
       "      <th>Sale (Dollars)</th>\n",
       "      <th>Volume Sold (Liters)</th>\n",
       "      <th>Volume Sold (Gallons)</th>\n",
       "      <th>Store Subname</th>\n",
       "      <th>Store SubNumber</th>\n",
       "    </tr>\n",
       "  </thead>\n",
       "  <tbody>\n",
       "    <tr>\n",
       "      <th>0</th>\n",
       "      <td>s24127700024</td>\n",
       "      <td>2015-02-19</td>\n",
       "      <td>3678</td>\n",
       "      <td>smoke shop, the</td>\n",
       "      <td>des moines</td>\n",
       "      <td>50320</td>\n",
       "      <td>polk</td>\n",
       "      <td>vodka flavored</td>\n",
       "      <td>phillips beverage company</td>\n",
       "      <td>41783</td>\n",
       "      <td>uv blue raspberry vodka mini</td>\n",
       "      <td>6</td>\n",
       "      <td>500</td>\n",
       "      <td>4.890625</td>\n",
       "      <td>7.339844</td>\n",
       "      <td>2.0</td>\n",
       "      <td>14.679688</td>\n",
       "      <td>1.000000</td>\n",
       "      <td>0.260010</td>\n",
       "      <td>None</td>\n",
       "      <td>None</td>\n",
       "    </tr>\n",
       "    <tr>\n",
       "      <th>1</th>\n",
       "      <td>s15066200002</td>\n",
       "      <td>2013-10-10</td>\n",
       "      <td>2633</td>\n",
       "      <td>hy-vee</td>\n",
       "      <td>des moines</td>\n",
       "      <td>50320</td>\n",
       "      <td>polk</td>\n",
       "      <td>misc. imported cordials &amp; liqueurs</td>\n",
       "      <td>mhw ltd</td>\n",
       "      <td>904969</td>\n",
       "      <td>sabe premiom sake double barrel</td>\n",
       "      <td>6</td>\n",
       "      <td>750</td>\n",
       "      <td>14.992188</td>\n",
       "      <td>22.484375</td>\n",
       "      <td>6.0</td>\n",
       "      <td>135.000000</td>\n",
       "      <td>4.500000</td>\n",
       "      <td>1.190430</td>\n",
       "      <td>des moines</td>\n",
       "      <td>3 / bdi</td>\n",
       "    </tr>\n",
       "    <tr>\n",
       "      <th>2</th>\n",
       "      <td>s19323500030</td>\n",
       "      <td>2014-06-03</td>\n",
       "      <td>2607</td>\n",
       "      <td>hy-vee wine and spirits</td>\n",
       "      <td>shenandoah</td>\n",
       "      <td>51601</td>\n",
       "      <td>page</td>\n",
       "      <td>puerto rico &amp; virgin islands rum</td>\n",
       "      <td>luxco-st louis</td>\n",
       "      <td>45277</td>\n",
       "      <td>paramount white rum</td>\n",
       "      <td>12</td>\n",
       "      <td>1000</td>\n",
       "      <td>4.339844</td>\n",
       "      <td>6.511719</td>\n",
       "      <td>12.0</td>\n",
       "      <td>78.125000</td>\n",
       "      <td>12.000000</td>\n",
       "      <td>3.169922</td>\n",
       "      <td>shenandoah</td>\n",
       "      <td>None</td>\n",
       "    </tr>\n",
       "    <tr>\n",
       "      <th>3</th>\n",
       "      <td>s23334500013</td>\n",
       "      <td>2015-01-06</td>\n",
       "      <td>4810</td>\n",
       "      <td>kum &amp; go</td>\n",
       "      <td>ankeny</td>\n",
       "      <td>50021</td>\n",
       "      <td>polk</td>\n",
       "      <td>puerto rico &amp; virgin islands rum</td>\n",
       "      <td>bacardi u.s.a., inc.</td>\n",
       "      <td>43121</td>\n",
       "      <td>bacardi superior rum mini</td>\n",
       "      <td>12</td>\n",
       "      <td>500</td>\n",
       "      <td>5.539062</td>\n",
       "      <td>8.312500</td>\n",
       "      <td>1.0</td>\n",
       "      <td>8.312500</td>\n",
       "      <td>0.500000</td>\n",
       "      <td>0.130005</td>\n",
       "      <td>ankeny</td>\n",
       "      <td>518</td>\n",
       "    </tr>\n",
       "    <tr>\n",
       "      <th>4</th>\n",
       "      <td>s09742200010</td>\n",
       "      <td>2012-12-27</td>\n",
       "      <td>4025</td>\n",
       "      <td>karam kaur khasriya llc</td>\n",
       "      <td>belle plaine</td>\n",
       "      <td>52208</td>\n",
       "      <td>benton</td>\n",
       "      <td>canadian whiskies</td>\n",
       "      <td>diageo americas</td>\n",
       "      <td>11298</td>\n",
       "      <td>crown royal canadian whisky</td>\n",
       "      <td>6</td>\n",
       "      <td>1750</td>\n",
       "      <td>31.000000</td>\n",
       "      <td>46.500000</td>\n",
       "      <td>2.0</td>\n",
       "      <td>93.000000</td>\n",
       "      <td>3.500000</td>\n",
       "      <td>0.919922</td>\n",
       "      <td>None</td>\n",
       "      <td>None</td>\n",
       "    </tr>\n",
       "    <tr>\n",
       "      <th>...</th>\n",
       "      <td>...</td>\n",
       "      <td>...</td>\n",
       "      <td>...</td>\n",
       "      <td>...</td>\n",
       "      <td>...</td>\n",
       "      <td>...</td>\n",
       "      <td>...</td>\n",
       "      <td>...</td>\n",
       "      <td>...</td>\n",
       "      <td>...</td>\n",
       "      <td>...</td>\n",
       "      <td>...</td>\n",
       "      <td>...</td>\n",
       "      <td>...</td>\n",
       "      <td>...</td>\n",
       "      <td>...</td>\n",
       "      <td>...</td>\n",
       "      <td>...</td>\n",
       "      <td>...</td>\n",
       "      <td>...</td>\n",
       "      <td>...</td>\n",
       "    </tr>\n",
       "    <tr>\n",
       "      <th>19666758</th>\n",
       "      <td>s10600200004</td>\n",
       "      <td>2013-02-13</td>\n",
       "      <td>3864</td>\n",
       "      <td>hometown foods</td>\n",
       "      <td>schaller</td>\n",
       "      <td>51053</td>\n",
       "      <td>sac</td>\n",
       "      <td>american cocktails</td>\n",
       "      <td>sazerac co., inc.</td>\n",
       "      <td>59231</td>\n",
       "      <td>ice box mudslide</td>\n",
       "      <td>6</td>\n",
       "      <td>1750</td>\n",
       "      <td>5.750000</td>\n",
       "      <td>9.132812</td>\n",
       "      <td>6.0</td>\n",
       "      <td>54.781250</td>\n",
       "      <td>10.500000</td>\n",
       "      <td>2.769531</td>\n",
       "      <td>schaller</td>\n",
       "      <td>None</td>\n",
       "    </tr>\n",
       "    <tr>\n",
       "      <th>19666759</th>\n",
       "      <td>s23597800012</td>\n",
       "      <td>2015-01-21</td>\n",
       "      <td>5065</td>\n",
       "      <td>circle s gordon drive</td>\n",
       "      <td>sioux city</td>\n",
       "      <td>51106</td>\n",
       "      <td>woodbury</td>\n",
       "      <td>whiskey liqueur</td>\n",
       "      <td>sazerac co., inc.</td>\n",
       "      <td>64863</td>\n",
       "      <td>fireball cinnamon whiskey</td>\n",
       "      <td>48</td>\n",
       "      <td>200</td>\n",
       "      <td>3.330078</td>\n",
       "      <td>5.000000</td>\n",
       "      <td>4.0</td>\n",
       "      <td>20.000000</td>\n",
       "      <td>0.799805</td>\n",
       "      <td>0.209961</td>\n",
       "      <td>None</td>\n",
       "      <td>None</td>\n",
       "    </tr>\n",
       "    <tr>\n",
       "      <th>19666760</th>\n",
       "      <td>s29278700041</td>\n",
       "      <td>2015-11-24</td>\n",
       "      <td>3400</td>\n",
       "      <td>last stop beverage shop</td>\n",
       "      <td>des moines</td>\n",
       "      <td>50317</td>\n",
       "      <td>polk</td>\n",
       "      <td>vodka 80 proof</td>\n",
       "      <td>phillips beverage company</td>\n",
       "      <td>37336</td>\n",
       "      <td>uv vodka</td>\n",
       "      <td>12</td>\n",
       "      <td>750</td>\n",
       "      <td>6.500000</td>\n",
       "      <td>9.750000</td>\n",
       "      <td>12.0</td>\n",
       "      <td>117.000000</td>\n",
       "      <td>9.000000</td>\n",
       "      <td>2.380859</td>\n",
       "      <td>None</td>\n",
       "      <td>None</td>\n",
       "    </tr>\n",
       "    <tr>\n",
       "      <th>19666761</th>\n",
       "      <td>s04908000004</td>\n",
       "      <td>2012-04-05</td>\n",
       "      <td>2579</td>\n",
       "      <td>hy-vee food store</td>\n",
       "      <td>grinnell</td>\n",
       "      <td>50112</td>\n",
       "      <td>poweshiek</td>\n",
       "      <td>puerto rico &amp; virgin islands rum</td>\n",
       "      <td>bacardi u.s.a., inc.</td>\n",
       "      <td>43128</td>\n",
       "      <td>bacardi superior rum</td>\n",
       "      <td>6</td>\n",
       "      <td>1750</td>\n",
       "      <td>14.671875</td>\n",
       "      <td>22.000000</td>\n",
       "      <td>6.0</td>\n",
       "      <td>132.000000</td>\n",
       "      <td>10.500000</td>\n",
       "      <td>2.769531</td>\n",
       "      <td>grinnell</td>\n",
       "      <td>None</td>\n",
       "    </tr>\n",
       "    <tr>\n",
       "      <th>19666762</th>\n",
       "      <td>s09763500040</td>\n",
       "      <td>2012-12-28</td>\n",
       "      <td>4265</td>\n",
       "      <td>kwik stop 3</td>\n",
       "      <td>waterloo</td>\n",
       "      <td>50702</td>\n",
       "      <td>black hawk</td>\n",
       "      <td>misc. imported cordials &amp; liqueurs</td>\n",
       "      <td>sidney frank importing co.</td>\n",
       "      <td>65256</td>\n",
       "      <td>jagermeister liqueur</td>\n",
       "      <td>12</td>\n",
       "      <td>750</td>\n",
       "      <td>12.039062</td>\n",
       "      <td>18.062500</td>\n",
       "      <td>3.0</td>\n",
       "      <td>54.187500</td>\n",
       "      <td>2.250000</td>\n",
       "      <td>0.589844</td>\n",
       "      <td>waterloo</td>\n",
       "      <td>None</td>\n",
       "    </tr>\n",
       "  </tbody>\n",
       "</table>\n",
       "<p>19666763 rows × 21 columns</p>\n",
       "</div>"
      ],
      "text/plain": [
       "         Invoice/Item Number       Date  Store Number  \\\n",
       "0               s24127700024 2015-02-19          3678   \n",
       "1               s15066200002 2013-10-10          2633   \n",
       "2               s19323500030 2014-06-03          2607   \n",
       "3               s23334500013 2015-01-06          4810   \n",
       "4               s09742200010 2012-12-27          4025   \n",
       "...                      ...        ...           ...   \n",
       "19666758        s10600200004 2013-02-13          3864   \n",
       "19666759        s23597800012 2015-01-21          5065   \n",
       "19666760        s29278700041 2015-11-24          3400   \n",
       "19666761        s04908000004 2012-04-05          2579   \n",
       "19666762        s09763500040 2012-12-28          4265   \n",
       "\n",
       "                       Store Name          City Zip Code      County  \\\n",
       "0                 smoke shop, the    des moines    50320        polk   \n",
       "1                          hy-vee    des moines    50320        polk   \n",
       "2         hy-vee wine and spirits    shenandoah    51601        page   \n",
       "3                        kum & go        ankeny    50021        polk   \n",
       "4         karam kaur khasriya llc  belle plaine    52208      benton   \n",
       "...                           ...           ...      ...         ...   \n",
       "19666758           hometown foods      schaller    51053         sac   \n",
       "19666759    circle s gordon drive    sioux city    51106    woodbury   \n",
       "19666760  last stop beverage shop    des moines    50317        polk   \n",
       "19666761        hy-vee food store      grinnell    50112   poweshiek   \n",
       "19666762              kwik stop 3      waterloo    50702  black hawk   \n",
       "\n",
       "                               Category Name                 Vendor Name  \\\n",
       "0                             vodka flavored   phillips beverage company   \n",
       "1         misc. imported cordials & liqueurs                     mhw ltd   \n",
       "2           puerto rico & virgin islands rum              luxco-st louis   \n",
       "3           puerto rico & virgin islands rum        bacardi u.s.a., inc.   \n",
       "4                          canadian whiskies             diageo americas   \n",
       "...                                      ...                         ...   \n",
       "19666758                  american cocktails           sazerac co., inc.   \n",
       "19666759                     whiskey liqueur           sazerac co., inc.   \n",
       "19666760                      vodka 80 proof   phillips beverage company   \n",
       "19666761    puerto rico & virgin islands rum        bacardi u.s.a., inc.   \n",
       "19666762  misc. imported cordials & liqueurs  sidney frank importing co.   \n",
       "\n",
       "         Item Number                 Item Description  Pack  \\\n",
       "0              41783     uv blue raspberry vodka mini     6   \n",
       "1             904969  sabe premiom sake double barrel     6   \n",
       "2              45277              paramount white rum    12   \n",
       "3              43121        bacardi superior rum mini    12   \n",
       "4              11298      crown royal canadian whisky     6   \n",
       "...              ...                              ...   ...   \n",
       "19666758       59231                 ice box mudslide     6   \n",
       "19666759       64863        fireball cinnamon whiskey    48   \n",
       "19666760       37336                         uv vodka    12   \n",
       "19666761       43128             bacardi superior rum     6   \n",
       "19666762       65256             jagermeister liqueur    12   \n",
       "\n",
       "          Bottle Volume (ml)  State Bottle Cost  State Bottle Retail  \\\n",
       "0                        500           4.890625             7.339844   \n",
       "1                        750          14.992188            22.484375   \n",
       "2                       1000           4.339844             6.511719   \n",
       "3                        500           5.539062             8.312500   \n",
       "4                       1750          31.000000            46.500000   \n",
       "...                      ...                ...                  ...   \n",
       "19666758                1750           5.750000             9.132812   \n",
       "19666759                 200           3.330078             5.000000   \n",
       "19666760                 750           6.500000             9.750000   \n",
       "19666761                1750          14.671875            22.000000   \n",
       "19666762                 750          12.039062            18.062500   \n",
       "\n",
       "          Bottles Sold  Sale (Dollars)  Volume Sold (Liters)  \\\n",
       "0                  2.0       14.679688              1.000000   \n",
       "1                  6.0      135.000000              4.500000   \n",
       "2                 12.0       78.125000             12.000000   \n",
       "3                  1.0        8.312500              0.500000   \n",
       "4                  2.0       93.000000              3.500000   \n",
       "...                ...             ...                   ...   \n",
       "19666758           6.0       54.781250             10.500000   \n",
       "19666759           4.0       20.000000              0.799805   \n",
       "19666760          12.0      117.000000              9.000000   \n",
       "19666761           6.0      132.000000             10.500000   \n",
       "19666762           3.0       54.187500              2.250000   \n",
       "\n",
       "          Volume Sold (Gallons) Store Subname Store SubNumber  \n",
       "0                      0.260010          None            None  \n",
       "1                      1.190430    des moines         3 / bdi  \n",
       "2                      3.169922    shenandoah            None  \n",
       "3                      0.130005        ankeny             518  \n",
       "4                      0.919922          None            None  \n",
       "...                         ...           ...             ...  \n",
       "19666758               2.769531      schaller            None  \n",
       "19666759               0.209961          None            None  \n",
       "19666760               2.380859          None            None  \n",
       "19666761               2.769531      grinnell            None  \n",
       "19666762               0.589844      waterloo            None  \n",
       "\n",
       "[19666763 rows x 21 columns]"
      ]
     },
     "execution_count": 7,
     "metadata": {},
     "output_type": "execute_result"
    }
   ],
   "source": [
    "%%time\n",
    "\n",
    "basic_preprocessing(df)\n",
    "\n",
    "\n",
    "# CPU times: user 6min 44s, sys: 40.2 s, total: 7min 24s\n",
    "# Wall time: 7min 24s"
   ]
  },
  {
   "cell_type": "markdown",
   "id": "60146bad-b764-4aac-8737-8b8c775de51d",
   "metadata": {},
   "source": [
    "<font size=7>数据清洗<font>\n",
    "    \n",
    " <font size=4>空值查询处理<font>"
   ]
  },
  {
   "cell_type": "code",
   "execution_count": 16,
   "id": "00caebf5-2e99-4e20-832a-981d1a144e84",
   "metadata": {},
   "outputs": [
    {
     "name": "stdout",
     "output_type": "stream",
     "text": [
      "CPU times: user 27.9 s, sys: 2.61 s, total: 30.5 s\n",
      "Wall time: 30.5 s\n"
     ]
    },
    {
     "data": {
      "text/plain": [
       "10"
      ]
     },
     "execution_count": 16,
     "metadata": {},
     "output_type": "execute_result"
    }
   ],
   "source": [
    "\n",
    "%%time\n",
    "df.isnull().any().sum()\n",
    "#  10列存在空值"
   ]
  },
  {
   "cell_type": "code",
   "execution_count": 24,
   "id": "8346dc97-c989-4849-95e9-16af53cb791c",
   "metadata": {},
   "outputs": [
    {
     "data": {
      "text/plain": [
       "16619311"
      ]
     },
     "execution_count": 24,
     "metadata": {},
     "output_type": "execute_result"
    }
   ],
   "source": [
    "df.isnull().T.any().sum()   ##  数据集在进行文本分割后存在空集的行数为16619311"
   ]
  },
  {
   "cell_type": "code",
   "execution_count": 25,
   "id": "1a355cfe-d15e-4bf8-9a9d-8f6aa4f1ffb0",
   "metadata": {},
   "outputs": [
    {
     "data": {
      "text/plain": [
       "181386"
      ]
     },
     "execution_count": 25,
     "metadata": {},
     "output_type": "execute_result"
    }
   ],
   "source": [
    "df_copy.isnull().T.any().sum()    ##  原数据集（没有进行文本分割前）存在空值 的数量仅为181386"
   ]
  },
  {
   "cell_type": "code",
   "execution_count": 26,
   "id": "c3ae9190-032c-4583-a844-02c8a2f5a202",
   "metadata": {},
   "outputs": [
    {
     "data": {
      "text/plain": [
       "Vendor Name            1.525416e-07\n",
       "State Bottle Cost      5.084721e-07\n",
       "State Bottle Retail    5.084721e-07\n",
       "Sale (Dollars)         5.084721e-07\n",
       "Category Name          1.273214e-03\n",
       "City                   4.064014e-03\n",
       "Zip Code               4.066302e-03\n",
       "County                 7.969232e-03\n",
       "dtype: float64"
      ]
     },
     "execution_count": 26,
     "metadata": {},
     "output_type": "execute_result"
    }
   ],
   "source": [
    "## 原数据空值分布\n",
    "\n",
    "missing = df_copy.isnull().sum()/len(df_copy)\n",
    "missing = missing[missing > 0]\n",
    "missing.sort_values(inplace=True)\n",
    "missing\n",
    "\n",
    "\n",
    "# Vendor Name            1.525416e-07\n",
    "# State Bottle Cost      5.084721e-07\n",
    "# State Bottle Retail    5.084721e-07\n",
    "# Sale (Dollars)         5.084721e-07\n",
    "# Category Name          1.273214e-03\n",
    "# City                   4.064014e-03\n",
    "# Zip Code               4.066302e-03\n",
    "# County                 7.969232e-03"
   ]
  },
  {
   "cell_type": "code",
   "execution_count": 27,
   "id": "a918a0d7-c474-432e-b234-e5b4c6fa8ea0",
   "metadata": {},
   "outputs": [
    {
     "data": {
      "text/plain": [
       "<AxesSubplot:>"
      ]
     },
     "execution_count": 27,
     "metadata": {},
     "output_type": "execute_result"
    },
    {
     "data": {
      "image/png": "[encoded data removed]",
      "text/plain": [
       "<Figure size 432x288 with 1 Axes>"
      ]
     },
     "metadata": {
      "needs_background": "light"
     },
     "output_type": "display_data"
    }
   ],
   "source": [
    "missing.plot.bar()"
   ]
  },
  {
   "cell_type": "code",
   "execution_count": null,
   "id": "c4b737d6-ad51-41d4-85b8-0908b41d3839",
   "metadata": {},
   "outputs": [
    {
     "data": {
      "text/plain": [
       "Vendor Name            1.525416e-07\n",
       "State Bottle Cost      5.084721e-07\n",
       "State Bottle Retail    5.084721e-07\n",
       "Sale (Dollars)         5.084721e-07\n",
       "Category Name          1.273214e-03\n",
       "City                   4.064014e-03\n",
       "County                 7.969232e-03\n",
       "Store Subname          3.417586e-01\n",
       "Zip Code               4.317598e-01\n",
       "Store SubNumber        6.709722e-01\n",
       "dtype: float64"
      ]
     },
     "execution_count": 18,
     "metadata": {},
     "output_type": "execute_result"
    }
   ],
   "source": [
    "##  文本分割后数据\n",
    "\n",
    "missing = df.isnull().sum()/len(df)\n",
    "missing = missing[missing > 0]\n",
    "missing.sort_values(inplace=True)\n",
    "missing"
   ]
  },
  {
   "cell_type": "code",
   "execution_count": null,
   "id": "eafa830f-3548-43d0-846b-af2549401610",
   "metadata": {},
   "outputs": [
    {
     "data": {
      "text/plain": [
       "<AxesSubplot:>"
      ]
     },
     "execution_count": 19,
     "metadata": {},
     "output_type": "execute_result"
    },
    {
     "data": {
      "image/png": "[encoded data removed]",
      "text/plain": [
       "<Figure size 432x288 with 1 Axes>"
      ]
     },
     "metadata": {
      "needs_background": "light"
     },
     "output_type": "display_data"
    }
   ],
   "source": [
    "missing.plot.bar()"
   ]
  },
  {
   "cell_type": "markdown",
   "id": "0ee76bb1-e82c-400f-92a7-aff3e55971cf",
   "metadata": {},
   "source": [
    "如果后续分析没有使用坐标位置，那么大部分的空值可以忽略，然而通过查看坐标列信息，发现其数据信息为经纬度坐标轴，后续可以使用tableau的地图功能，所以该列信息比较重要。\n",
    "尝试弃用storelocation进行后续清洗工作。\n",
    "同时由于subname和subnumber缺失太多，一并删去。      "
   ]
  },
  {
   "cell_type": "code",
   "execution_count": 8,
   "id": "38a86555-d5a7-493a-bfba-28d8ec760985",
   "metadata": {},
   "outputs": [],
   "source": [
    "df.drop('Store Subname',axis = 1,inplace = True)"
   ]
  },
  {
   "cell_type": "code",
   "execution_count": 9,
   "id": "ba78c35f-3777-4cbb-88fa-167b00007fdf",
   "metadata": {},
   "outputs": [],
   "source": [
    "df.drop('Store SubNumber',axis = 1,inplace = True)"
   ]
  },
  {
   "cell_type": "code",
   "execution_count": 30,
   "id": "5b9235e9-e3cd-4477-ba40-c62be136bfbc",
   "metadata": {},
   "outputs": [
    {
     "data": {
      "text/plain": [
       "8578480"
      ]
     },
     "execution_count": 30,
     "metadata": {},
     "output_type": "execute_result"
    }
   ],
   "source": [
    "df.isnull().T.any().sum()"
   ]
  },
  {
   "cell_type": "markdown",
   "id": "5542f045-5446-4b73-8d17-2144f65b3953",
   "metadata": {},
   "source": [
    "<font size=2>删除了store subname  以及 store subnumber后  发现zip code的缺失值占比分布竟然变大了   从原数据的0.004 变成了0.4  但是考虑到后续可能并不需要使用到zip code这个地区编码  因而只需要将zip code列进行删除即可<font>"
   ]
  },
  {
   "cell_type": "code",
   "execution_count": 32,
   "id": "69c46652-b8b4-471d-99f0-118206ee3ff5",
   "metadata": {},
   "outputs": [
    {
     "data": {
      "text/plain": [
       "Vendor Name            1.525416e-07\n",
       "State Bottle Cost      5.084721e-07\n",
       "State Bottle Retail    5.084721e-07\n",
       "Sale (Dollars)         5.084721e-07\n",
       "Category Name          1.273214e-03\n",
       "City                   4.064014e-03\n",
       "County                 7.969232e-03\n",
       "Zip Code               4.317598e-01\n",
       "dtype: float64"
      ]
     },
     "execution_count": 32,
     "metadata": {},
     "output_type": "execute_result"
    }
   ],
   "source": [
    "##  删除了store subname  以及 store subnumber后  发现zip code的缺失值占比分布竟然变大了   从原数据的0.004 变成了0.4  但是考虑到后续可能并不需要使用到zip code这个地区邮政码  因而只需要将zip code列进行删除即可\n",
    "\n",
    "missing = df.isnull().sum()/len(df)\n",
    "missing = missing[missing > 0]\n",
    "missing.sort_values(inplace=True)\n",
    "missing"
   ]
  },
  {
   "cell_type": "code",
   "execution_count": 33,
   "id": "3c76cd17-3ea1-41ab-8f4e-6f23736744de",
   "metadata": {},
   "outputs": [
    {
     "data": {
      "text/plain": [
       "<AxesSubplot:>"
      ]
     },
     "execution_count": 33,
     "metadata": {},
     "output_type": "execute_result"
    },
    {
     "data": {
      "image/png": "[encoded data removed]",
      "text/plain": [
       "<Figure size 432x288 with 1 Axes>"
      ]
     },
     "metadata": {
      "needs_background": "light"
     },
     "output_type": "display_data"
    }
   ],
   "source": [
    "missing.plot.bar()"
   ]
  },
  {
   "cell_type": "code",
   "execution_count": 10,
   "id": "0daca0c1-8e3f-4c2f-a904-1b301b0ed0ab",
   "metadata": {},
   "outputs": [],
   "source": [
    "df.drop('Zip Code',axis = 1,inplace = True)"
   ]
  },
  {
   "cell_type": "code",
   "execution_count": 35,
   "id": "497a59a3-66d5-4d1f-a4cd-fa86677c00c5",
   "metadata": {},
   "outputs": [
    {
     "data": {
      "text/plain": [
       "181386"
      ]
     },
     "execution_count": 35,
     "metadata": {},
     "output_type": "execute_result"
    }
   ],
   "source": [
    "df.isnull().T.any().sum()    ##  在把  zip code 处理之后  空值数量与原数据集保持了一致     考虑是否直接把空值行进行删除？？  考虑到只会损失18万个数据量   好像是可以接受的   因而直接进行对存在空值行进行删除"
   ]
  },
  {
   "cell_type": "code",
   "execution_count": 36,
   "id": "9cff3c62-90d9-4940-b331-119bcf5b17b0",
   "metadata": {},
   "outputs": [
    {
     "data": {
      "text/plain": [
       "(19666763, 18)"
      ]
     },
     "execution_count": 36,
     "metadata": {},
     "output_type": "execute_result"
    }
   ],
   "source": [
    "df.shape"
   ]
  },
  {
   "cell_type": "code",
   "execution_count": 11,
   "id": "69e3f14f-c50f-482e-b391-0fdc86dd5ac0",
   "metadata": {},
   "outputs": [],
   "source": [
    "df = df.dropna(axis=0, how='any', thresh=None, subset=None, inplace=False)"
   ]
  },
  {
   "cell_type": "code",
   "execution_count": 12,
   "id": "0481f618-27d2-47f7-af19-4ea0d025945e",
   "metadata": {},
   "outputs": [
    {
     "data": {
      "text/plain": [
       "(19485377, 18)"
      ]
     },
     "execution_count": 12,
     "metadata": {},
     "output_type": "execute_result"
    }
   ],
   "source": [
    "df.shape     ##  清除空值后剩余  19485377个数据"
   ]
  },
  {
   "cell_type": "markdown",
   "id": "84c30db1-67dd-46cb-8fa9-0d93bc79e0db",
   "metadata": {},
   "source": [
    "<font size=4>重复值查询处理"
   ]
  },
  {
   "cell_type": "code",
   "execution_count": 39,
   "id": "8249cd15-9025-49f2-b7c9-0712e6251bba",
   "metadata": {},
   "outputs": [
    {
     "data": {
      "text/plain": [
       "19485377"
      ]
     },
     "execution_count": 39,
     "metadata": {},
     "output_type": "execute_result"
    }
   ],
   "source": [
    "df['Invoice/Item Number'].nunique()      ## 确认无重复值   nunique数量与df行数保持一致"
   ]
  },
  {
   "cell_type": "code",
   "execution_count": null,
   "id": "992762ec-9fdc-4bb4-8925-045e8521c45e",
   "metadata": {},
   "outputs": [],
   "source": []
  },
  {
   "cell_type": "markdown",
   "id": "d6d5456e-e0fe-4e79-aa34-f0232292a264",
   "metadata": {},
   "source": [
    "<font size=4>异常值查询处理\n",
    "\n",
    "<font size=2>将数据分为数值特征以及类别特征"
   ]
  },
  {
   "cell_type": "code",
   "execution_count": 13,
   "id": "a10a657f-5e4b-4de3-b54c-0a8d088b0210",
   "metadata": {},
   "outputs": [
    {
     "name": "stdout",
     "output_type": "stream",
     "text": [
      "['Store Number', 'Pack', 'Bottle Volume (ml)', 'State Bottle Cost', 'State Bottle Retail', 'Bottles Sold', 'Sale (Dollars)', 'Volume Sold (Liters)', 'Volume Sold (Gallons)']\n",
      "['Invoice/Item Number', 'Date', 'Store Name', 'City', 'County', 'Category Name', 'Vendor Name', 'Item Number', 'Item Description']\n"
     ]
    }
   ],
   "source": [
    "int_data=[]\n",
    "str_data=[]\n",
    "\n",
    "for i in range(len(df.iloc[0])):\n",
    "    if type(df.iloc[0,i]) in [np.int16,np.float16]:\n",
    "        int_data.append(df.columns[i])\n",
    "    else:\n",
    "        str_data.append(df.columns[i])\n",
    "        \n",
    "print(int_data)\n",
    "print(str_data)  \n",
    "\n",
    "\n",
    "# ['Store Number', 'Pack', 'Bottle Volume (ml)', 'State Bottle Cost', 'State Bottle Retail', 'Bottles Sold', 'Sale (Dollars)', 'Volume Sold (Liters)', 'Volume Sold (Gallons)']\n",
    "# ['Invoice/Item Number', 'Date', 'Store Name', 'City', 'County', 'Category Name', 'Vendor Name', 'Item Number', 'Item Description']"
   ]
  },
  {
   "cell_type": "code",
   "execution_count": 47,
   "id": "1b503936-6b4b-480a-839e-42c19b308374",
   "metadata": {},
   "outputs": [
    {
     "name": "stdout",
     "output_type": "stream",
     "text": [
      "<class 'pandas.core.frame.DataFrame'>\n",
      "Int64Index: 19485377 entries, 0 to 19666762\n",
      "Data columns (total 18 columns):\n",
      " #   Column                 Dtype         \n",
      "---  ------                 -----         \n",
      " 0   Invoice/Item Number    object        \n",
      " 1   Date                   datetime64[ns]\n",
      " 2   Store Number           int16         \n",
      " 3   Store Name             object        \n",
      " 4   City                   object        \n",
      " 5   County                 object        \n",
      " 6   Category Name          object        \n",
      " 7   Vendor Name            object        \n",
      " 8   Item Number            object        \n",
      " 9   Item Description       object        \n",
      " 10  Pack                   int16         \n",
      " 11  Bottle Volume (ml)     int16         \n",
      " 12  State Bottle Cost      float16       \n",
      " 13  State Bottle Retail    float16       \n",
      " 14  Bottles Sold           float16       \n",
      " 15  Sale (Dollars)         float16       \n",
      " 16  Volume Sold (Liters)   float16       \n",
      " 17  Volume Sold (Gallons)  float16       \n",
      "dtypes: datetime64[ns](1), float16(6), int16(3), object(8)\n",
      "memory usage: 1.8+ GB\n"
     ]
    }
   ],
   "source": [
    "df.info()"
   ]
  },
  {
   "cell_type": "code",
   "execution_count": 64,
   "id": "010f34cd-f95b-4c84-bad0-3b738e184ff5",
   "metadata": {},
   "outputs": [
    {
     "data": {
      "text/plain": [
       "-16608          2\n",
       "-15216         24\n",
       "-7608           2\n",
       " 0             10\n",
       " 12             1\n",
       " 15             1\n",
       " 20           992\n",
       " 25           252\n",
       " 50        293876\n",
       " 100       107219\n",
       " 150          672\n",
       " 175           18\n",
       " 200       704016\n",
       " 250          858\n",
       " 300        93446\n",
       " 301          130\n",
       " 355            7\n",
       " 375      1962642\n",
       " 400         1927\n",
       " 425           26\n",
       " 500       721984\n",
       " 502          349\n",
       " 600       215619\n",
       " 603          194\n",
       " 750      8737456\n",
       " 800        19876\n",
       " 850         2312\n",
       " 900          897\n",
       " 950          423\n",
       " 1000     2584740\n",
       " 1125         381\n",
       " 1200       19050\n",
       " 1420          63\n",
       " 1500         150\n",
       " 1508           3\n",
       " 1750     3908794\n",
       " 1800         694\n",
       " 1850        1883\n",
       " 1950         566\n",
       " 2000          23\n",
       " 2125          16\n",
       " 2250         356\n",
       " 2400        6789\n",
       " 2550          42\n",
       " 3000       94384\n",
       " 3500         248\n",
       " 3600         154\n",
       " 3900          15\n",
       " 4500          51\n",
       " 4800         476\n",
       " 6000        1231\n",
       " 7580           1\n",
       " 8928           8\n",
       " 9000           3\n",
       " 28392          1\n",
       " 31500         24\n",
       "Name: Bottle Volume (ml), dtype: int64"
      ]
     },
     "execution_count": 64,
     "metadata": {},
     "output_type": "execute_result"
    }
   ],
   "source": [
    "##  为什么bottle volume（ml） 会出现  负数以及 0 ？   可以考虑删除\n",
    "\n",
    "df['Bottle Volume (ml)'].value_counts(dropna=False).sort_index()"
   ]
  },
  {
   "cell_type": "code",
   "execution_count": 14,
   "id": "24cb8dda-4687-4349-808b-078d545c58f4",
   "metadata": {},
   "outputs": [],
   "source": [
    "## 删除 bottle volume 为0 以及负数的值\n",
    "\n",
    "df=df[df['Bottle Volume (ml)'] >0]"
   ]
  },
  {
   "cell_type": "code",
   "execution_count": 79,
   "id": "44973c1a-6a28-4746-ad13-247a26fc54f2",
   "metadata": {},
   "outputs": [
    {
     "data": {
      "text/plain": [
       "1        126210\n",
       "2           603\n",
       "3         15532\n",
       "4         22747\n",
       "5         38247\n",
       "6       5282461\n",
       "8         29282\n",
       "9          1070\n",
       "10       364552\n",
       "12     11317019\n",
       "15         1640\n",
       "16          383\n",
       "18          185\n",
       "20          562\n",
       "24      1765038\n",
       "30          207\n",
       "32            4\n",
       "44        30412\n",
       "48       488591\n",
       "60          478\n",
       "96            1\n",
       "120           3\n",
       "160           4\n",
       "288         100\n",
       "312          38\n",
       "336           8\n",
       "Name: Pack, dtype: int64"
      ]
     },
     "execution_count": 79,
     "metadata": {},
     "output_type": "execute_result"
    }
   ],
   "source": [
    "df['Pack'].value_counts(dropna=False).sort_index()"
   ]
  },
  {
   "cell_type": "code",
   "execution_count": 15,
   "id": "bf6c322a-f905-4b7f-b092-c7de07da74cf",
   "metadata": {},
   "outputs": [
    {
     "data": {
      "text/plain": [
       "0.0              9\n",
       "1.0        2220312\n",
       "2.0        2638104\n",
       "3.0        1969523\n",
       "4.0        1057445\n",
       "            ...   \n",
       "7632.0           1\n",
       "7920.0           4\n",
       "11120.0          1\n",
       "11952.0          1\n",
       "15000.0          2\n",
       "Name: Bottles Sold, Length: 581, dtype: int64"
      ]
     },
     "execution_count": 15,
     "metadata": {},
     "output_type": "execute_result"
    }
   ],
   "source": [
    "##  bottles sold 为什么可以是0 ？\n",
    "\n",
    "df['Bottles Sold'].value_counts(dropna=False).sort_index()"
   ]
  },
  {
   "cell_type": "code",
   "execution_count": 16,
   "id": "f354640b-d930-4df5-a971-f460b820ad9b",
   "metadata": {},
   "outputs": [],
   "source": [
    "##  删除bottles sold 等于0的行\n",
    "\n",
    "\n",
    "df=df[df['Bottles Sold'] >0]"
   ]
  },
  {
   "cell_type": "code",
   "execution_count": 66,
   "id": "e25980a3-e1ef-45ec-a9bd-49532dd42955",
   "metadata": {},
   "outputs": [
    {
     "data": {
      "text/plain": [
       "0.000000e+00    4919\n",
       "1.299805e+00       2\n",
       "1.339844e+00     177\n",
       "1.349609e+00     225\n",
       "1.429688e+00      28\n",
       "                ... \n",
       "6.332800e+04       1\n",
       "6.476800e+04       1\n",
       "6.480000e+04       1\n",
       "6.534400e+04       1\n",
       "inf               35\n",
       "Name: Sale (Dollars), Length: 11282, dtype: int64"
      ]
     },
     "execution_count": 66,
     "metadata": {},
     "output_type": "execute_result"
    }
   ],
   "source": [
    "##  sale 销售金额为什么可以是有0?    以及为什么会有无穷数  inf\n",
    "\n",
    "df['Sale (Dollars)'].value_counts().sort_index()"
   ]
  },
  {
   "cell_type": "code",
   "execution_count": 17,
   "id": "5e69a967-a605-4a78-b2b6-6c53fc30459f",
   "metadata": {},
   "outputs": [],
   "source": [
    "##  删除销售金额为0  以及销售金额为无穷数的行\n",
    "\n",
    "df=df[df['Sale (Dollars)']!=float('inf')]\n",
    "df=df[df['Sale (Dollars)']>0]"
   ]
  },
  {
   "cell_type": "code",
   "execution_count": 68,
   "id": "1258499d-7b7e-48a6-9cd2-da4597c56b21",
   "metadata": {},
   "outputs": [
    {
     "data": {
      "text/plain": [
       "0.000000            10\n",
       "0.020004           333\n",
       "0.029999             1\n",
       "0.040009           176\n",
       "0.049988        111382\n",
       "                 ...  \n",
       "8504.000000          1\n",
       "8960.000000          1\n",
       "11120.000000         1\n",
       "11816.000000         1\n",
       "15000.000000         2\n",
       "Name: Volume Sold (Liters), Length: 1312, dtype: int64"
      ]
     },
     "execution_count": 68,
     "metadata": {},
     "output_type": "execute_result"
    }
   ],
   "source": [
    "##   同样存在0值\n",
    "\n",
    "df['Volume Sold (Liters)'].value_counts().sort_index()"
   ]
  },
  {
   "cell_type": "code",
   "execution_count": 69,
   "id": "0a9a722f-6ec3-45fc-9ffd-291705a4be6c",
   "metadata": {},
   "outputs": [
    {
     "data": {
      "text/plain": [
       "0.000000          270\n",
       "0.010002       111715\n",
       "0.020004        62675\n",
       "0.029999        27603\n",
       "0.040009          536\n",
       "                ...  \n",
       "2246.000000         1\n",
       "2368.000000         1\n",
       "2938.000000         1\n",
       "3120.000000         1\n",
       "3962.000000         2\n",
       "Name: Volume Sold (Gallons), Length: 1409, dtype: int64"
      ]
     },
     "execution_count": 69,
     "metadata": {},
     "output_type": "execute_result"
    }
   ],
   "source": [
    "##   同样存在0值\n",
    "\n",
    "df['Volume Sold (Gallons)'].value_counts().sort_index()"
   ]
  },
  {
   "cell_type": "code",
   "execution_count": 98,
   "id": "27c3590e-7e2c-419d-b5c4-80e41ae4a70e",
   "metadata": {},
   "outputs": [
    {
     "data": {
      "text/plain": [
       "(array([1.9465893e+07, 1.1269000e+04, 2.4100000e+03, 4.2200000e+02,\n",
       "        1.7600000e+02, 8.7000000e+01, 5.6000000e+01, 4.2000000e+01,\n",
       "        1.2000000e+01, 1.0000000e+01]),\n",
       " array([1.300e+00, 6.536e+03, 1.307e+04, 1.960e+04, 2.614e+04, 3.267e+04,\n",
       "        3.920e+04, 4.573e+04, 5.229e+04, 5.882e+04, 6.534e+04],\n",
       "       dtype=float16),\n",
       " <BarContainer object of 10 artists>)"
      ]
     },
     "execution_count": 98,
     "metadata": {},
     "output_type": "execute_result"
    },
    {
     "data": {
      "image/png": "[encoded data removed]",
      "text/plain": [
       "<Figure size 432x288 with 1 Axes>"
      ]
     },
     "metadata": {
      "needs_background": "light"
     },
     "output_type": "display_data"
    }
   ],
   "source": [
    "plt.hist(df['Sale (Dollars)'])"
   ]
  },
  {
   "cell_type": "code",
   "execution_count": 101,
   "id": "1f9224dc-0d6a-4e1e-8c6d-7e287695a4a2",
   "metadata": {},
   "outputs": [
    {
     "data": {
      "text/plain": [
       "{'whiskers': [<matplotlib.lines.Line2D at 0x7f45e982d580>,\n",
       "  <matplotlib.lines.Line2D at 0x7f45e9831ac0>],\n",
       " 'caps': [<matplotlib.lines.Line2D at 0x7f45e9831d90>,\n",
       "  <matplotlib.lines.Line2D at 0x7f45e97b50a0>],\n",
       " 'boxes': [<matplotlib.lines.Line2D at 0x7f45e9818a30>],\n",
       " 'medians': [<matplotlib.lines.Line2D at 0x7f45e97b5370>],\n",
       " 'fliers': [<matplotlib.lines.Line2D at 0x7f45e97b5640>],\n",
       " 'means': []}"
      ]
     },
     "execution_count": 101,
     "metadata": {},
     "output_type": "execute_result"
    },
    {
     "data": {
      "image/png": "[encoded data removed]",
      "text/plain": [
       "<Figure size 432x288 with 1 Axes>"
      ]
     },
     "metadata": {
      "needs_background": "light"
     },
     "output_type": "display_data"
    }
   ],
   "source": [
    "plt.boxplot(df['Sale (Dollars)'])"
   ]
  },
  {
   "cell_type": "code",
   "execution_count": 99,
   "id": "14aacbaf-52a5-4bef-b55c-356330c38855",
   "metadata": {},
   "outputs": [
    {
     "data": {
      "text/plain": [
       "{'whiskers': [<matplotlib.lines.Line2D at 0x7f49500be1c0>,\n",
       "  <matplotlib.lines.Line2D at 0x7f49500be640>],\n",
       " 'caps': [<matplotlib.lines.Line2D at 0x7f49500beca0>,\n",
       "  <matplotlib.lines.Line2D at 0x7f49500bef10>],\n",
       " 'boxes': [<matplotlib.lines.Line2D at 0x7f48175b98b0>],\n",
       " 'medians': [<matplotlib.lines.Line2D at 0x7f49500be8e0>],\n",
       " 'fliers': [<matplotlib.lines.Line2D at 0x7f4950749550>],\n",
       " 'means': []}"
      ]
     },
     "execution_count": 99,
     "metadata": {},
     "output_type": "execute_result"
    },
    {
     "data": {
      "image/png": "[encoded data removed]",
      "text/plain": [
       "<Figure size 432x288 with 1 Axes>"
      ]
     },
     "metadata": {
      "needs_background": "light"
     },
     "output_type": "display_data"
    }
   ],
   "source": [
    "plt.boxplot(df['Volume Sold (Liters)'])"
   ]
  },
  {
   "cell_type": "code",
   "execution_count": 100,
   "id": "72583ef1-5bcc-4558-b62e-0198d7d81214",
   "metadata": {},
   "outputs": [
    {
     "data": {
      "text/plain": [
       "{'whiskers': [<matplotlib.lines.Line2D at 0x7f45e9809880>,\n",
       "  <matplotlib.lines.Line2D at 0x7f45e9810fd0>],\n",
       " 'caps': [<matplotlib.lines.Line2D at 0x7f45e98142e0>,\n",
       "  <matplotlib.lines.Line2D at 0x7f45e98145b0>],\n",
       " 'boxes': [<matplotlib.lines.Line2D at 0x7f45e9810b50>],\n",
       " 'medians': [<matplotlib.lines.Line2D at 0x7f45e9814880>],\n",
       " 'fliers': [<matplotlib.lines.Line2D at 0x7f45e9814b50>],\n",
       " 'means': []}"
      ]
     },
     "execution_count": 100,
     "metadata": {},
     "output_type": "execute_result"
    },
    {
     "data": {
      "image/png": "[encoded data removed]",
      "text/plain": [
       "<Figure size 432x288 with 1 Axes>"
      ]
     },
     "metadata": {
      "needs_background": "light"
     },
     "output_type": "display_data"
    }
   ],
   "source": [
    "plt.boxplot(df['Volume Sold (Gallons)'])"
   ]
  },
  {
   "cell_type": "code",
   "execution_count": 102,
   "id": "66958729-2f13-4d86-a771-53f67b10d27e",
   "metadata": {},
   "outputs": [
    {
     "data": {
      "text/plain": [
       "{'whiskers': [<matplotlib.lines.Line2D at 0x7f45e97df0a0>,\n",
       "  <matplotlib.lines.Line2D at 0x7f45e97df370>],\n",
       " 'caps': [<matplotlib.lines.Line2D at 0x7f45e97df640>,\n",
       "  <matplotlib.lines.Line2D at 0x7f45e97df910>],\n",
       " 'boxes': [<matplotlib.lines.Line2D at 0x7f48175b9580>],\n",
       " 'medians': [<matplotlib.lines.Line2D at 0x7f45e97dfbe0>],\n",
       " 'fliers': [<matplotlib.lines.Line2D at 0x7f45e97dfeb0>],\n",
       " 'means': []}"
      ]
     },
     "execution_count": 102,
     "metadata": {},
     "output_type": "execute_result"
    },
    {
     "data": {
      "image/png": "[encoded data removed]",
      "text/plain": [
       "<Figure size 432x288 with 1 Axes>"
      ]
     },
     "metadata": {
      "needs_background": "light"
     },
     "output_type": "display_data"
    }
   ],
   "source": [
    "plt.boxplot(df['Bottles Sold'])"
   ]
  },
  {
   "cell_type": "markdown",
   "id": "bae7c1c9-3ed7-4ad5-b46f-819f09f217af",
   "metadata": {},
   "source": [
    "<font size=3>大部分的连续型数值都呈现出右偏的倾向"
   ]
  },
  {
   "cell_type": "code",
   "execution_count": 104,
   "id": "cf0c1a9a-672a-4a82-a711-7a89ebb3a402",
   "metadata": {},
   "outputs": [
    {
     "data": {
      "text/plain": [
       "costco wholesale             39\n",
       "hy-vee                       27\n",
       "hy-vee food store            12\n",
       "sam's club 6344               7\n",
       "hy-vee wine and spirits       7\n",
       "sam's club 8162               5\n",
       "templeton distilling llc      4\n",
       "hy-vee food store / fleur     1\n",
       "sam's club 4973               1\n",
       "sam's club 6472               1\n",
       "sam's club 6514               1\n",
       "sam's club 6432               1\n",
       "sam's club 6568               1\n",
       "sam's club 6979               1\n",
       "central city 2                1\n",
       "fareway stores                1\n",
       "Name: Store Name, dtype: int64"
      ]
     },
     "execution_count": 104,
     "metadata": {},
     "output_type": "execute_result"
    }
   ],
   "source": [
    "df.loc[df['Sale (Dollars)'] > 40000]['Store Name'].value_counts()"
   ]
  },
  {
   "cell_type": "code",
   "execution_count": 105,
   "id": "7a1b3149-7051-41b0-a5f3-9b94859c8194",
   "metadata": {},
   "outputs": [
    {
     "data": {
      "text/plain": [
       "costco wholesale                      201\n",
       "fareway stores                        123\n",
       "hy-vee food store                      85\n",
       "hy-vee wine and spirits                71\n",
       "sam's club 6344                        22\n",
       "sam's club 8162                        21\n",
       "hy-vee                                 19\n",
       "hy-vee drugstore                       14\n",
       "sam's club 6568                        10\n",
       "sam's club 6514                         8\n",
       "anamosa family foods                    5\n",
       "brew coffee wine spirit and cigars      4\n",
       "hy-vee wine & spirits                   3\n",
       "jim and charlies affiliated             3\n",
       "sam's club 6979                         3\n",
       "jiffy                                   3\n",
       "cvs pharmacy                            3\n",
       "hy-vee food store / fleur               3\n",
       "ida liquor                              2\n",
       "pronto                                  2\n",
       "hy-vee fort dodge wine and spirits      2\n",
       "the music station                       2\n",
       "schnucks                                2\n",
       "sam's club 6432                         2\n",
       "tipton family foods                     1\n",
       "price chopper                           1\n",
       "beer thirty denison                     1\n",
       "sam's club 6472                         1\n",
       "sam's club 4973                         1\n",
       "fareway store                           1\n",
       "218 fuel express & chubby's liquor      1\n",
       "indy 66                                 1\n",
       "super saver iv                          1\n",
       "hy-vee store                            1\n",
       "cash saver                              1\n",
       "corridor ventures                       1\n",
       "quicker liquor store                    1\n",
       "Name: Store Name, dtype: int64"
      ]
     },
     "execution_count": 105,
     "metadata": {},
     "output_type": "execute_result"
    }
   ],
   "source": [
    "df.loc[df['Volume Sold (Liters)'] > 2000]['Store Name'].value_counts()"
   ]
  },
  {
   "cell_type": "code",
   "execution_count": 106,
   "id": "36c9b81a-da8d-486b-b732-a72cd7ea5157",
   "metadata": {},
   "outputs": [
    {
     "data": {
      "text/plain": [
       "costco wholesale           94\n",
       "hy-vee wine and spirits    12\n",
       "hy-vee food store           8\n",
       "sam's club 6344             5\n",
       "hy-vee                      5\n",
       "sam's club 8162             1\n",
       "sam's club 4973             1\n",
       "sam's club 6472             1\n",
       "sam's club 6514             1\n",
       "sam's club 6432             1\n",
       "sam's club 6568             1\n",
       "sam's club 6979             1\n",
       "fareway stores              1\n",
       "Name: Store Name, dtype: int64"
      ]
     },
     "execution_count": 106,
     "metadata": {},
     "output_type": "execute_result"
    }
   ],
   "source": [
    "df.loc[df['Volume Sold (Gallons)'] > 800]['Store Name'].value_counts()"
   ]
  },
  {
   "cell_type": "code",
   "execution_count": 107,
   "id": "5ac89e92-5869-4a1f-bf8f-abaaa50323bd",
   "metadata": {},
   "outputs": [
    {
     "data": {
      "text/plain": [
       "costco wholesale              78\n",
       "hy-vee                        19\n",
       "sam's club 8162               15\n",
       "hy-vee food store             13\n",
       "hy-vee wine and spirits       13\n",
       "prime mart                     2\n",
       "sam's club 6514                2\n",
       "sam's club 6344                2\n",
       "shop n save                    2\n",
       "leo1                           2\n",
       "mart stop                      1\n",
       "southside liquor & tobacco     1\n",
       "ali's liquor                   1\n",
       "fareway stores                 1\n",
       "sam's food                     1\n",
       "hy-vee wine & spirits          1\n",
       "Name: Store Name, dtype: int64"
      ]
     },
     "execution_count": 107,
     "metadata": {},
     "output_type": "execute_result"
    }
   ],
   "source": [
    "df.loc[df['Bottles Sold'] > 2000]['Store Name'].value_counts()"
   ]
  },
  {
   "cell_type": "markdown",
   "id": "03b62ffc-5517-48b6-8dc1-b7f080ebc595",
   "metadata": {},
   "source": [
    "<font size=6>对数据异常值进行盖帽法处理，即当数据超过了上限u_75 + 1.5*IQR则把数据修改成最大上限值   若超过了下限u_25 - 1.5*IQR 则把数据修改成最小下限"
   ]
  },
  {
   "cell_type": "code",
   "execution_count": 18,
   "id": "948234c6-b2ef-495d-8309-1da9dd22d354",
   "metadata": {},
   "outputs": [],
   "source": [
    "## del_cols:不用盖帽法处理的列名集合\n",
    "## df_data_1:待处理的数据框\n",
    "def OutliersDeal(df_data_1 , del_cols ):\n",
    "    import copy \n",
    "    df_data = copy.deepcopy(df_data_1.drop(del_cols , axis = 1))\n",
    "    colnames = df_data.columns.tolist()\n",
    "    for col_name in colnames:\n",
    "        u_75 = df_data[col_name].quantile(q = 0.75)\n",
    "        u_25 = df_data[col_name].quantile(q = 0.25)\n",
    "        IQR = u_75 - u_25\n",
    "        df_data.loc[df_data[col_name] > u_75 + 1.5*IQR , col_name] = u_75 + 1.5*IQR\n",
    "        df_data.loc[df_data[col_name] < u_25 - 1.5*IQR , col_name] = u_25 - 1.5*IQR\n",
    "        df_data_1[col_name] = df_data[col_name]\n",
    "    return df_data_1"
   ]
  },
  {
   "cell_type": "code",
   "execution_count": 20,
   "id": "d60bcd49-a34b-4203-a571-b9061f8fcca1",
   "metadata": {},
   "outputs": [
    {
     "data": {
      "text/html": [
       "<div>\n",
       "<style scoped>\n",
       "    .dataframe tbody tr th:only-of-type {\n",
       "        vertical-align: middle;\n",
       "    }\n",
       "\n",
       "    .dataframe tbody tr th {\n",
       "        vertical-align: top;\n",
       "    }\n",
       "\n",
       "    .dataframe thead th {\n",
       "        text-align: right;\n",
       "    }\n",
       "</style>\n",
       "<table border=\"1\" class=\"dataframe\">\n",
       "  <thead>\n",
       "    <tr style=\"text-align: right;\">\n",
       "      <th></th>\n",
       "      <th>Store Number</th>\n",
       "      <th>Pack</th>\n",
       "      <th>Bottle Volume (ml)</th>\n",
       "      <th>State Bottle Cost</th>\n",
       "      <th>State Bottle Retail</th>\n",
       "      <th>Bottles Sold</th>\n",
       "      <th>Sale (Dollars)</th>\n",
       "      <th>Volume Sold (Liters)</th>\n",
       "      <th>Volume Sold (Gallons)</th>\n",
       "    </tr>\n",
       "  </thead>\n",
       "  <tbody>\n",
       "    <tr>\n",
       "      <th>count</th>\n",
       "      <td>1.948038e+07</td>\n",
       "      <td>1.948038e+07</td>\n",
       "      <td>1.948038e+07</td>\n",
       "      <td>1.948038e+07</td>\n",
       "      <td>1.948038e+07</td>\n",
       "      <td>19480377.0</td>\n",
       "      <td>1.948038e+07</td>\n",
       "      <td>1.948038e+07</td>\n",
       "      <td>1.948038e+07</td>\n",
       "    </tr>\n",
       "    <tr>\n",
       "      <th>mean</th>\n",
       "      <td>3.682958e+03</td>\n",
       "      <td>1.227179e+01</td>\n",
       "      <td>9.115331e+02</td>\n",
       "      <td>NaN</td>\n",
       "      <td>NaN</td>\n",
       "      <td>NaN</td>\n",
       "      <td>NaN</td>\n",
       "      <td>NaN</td>\n",
       "      <td>NaN</td>\n",
       "    </tr>\n",
       "    <tr>\n",
       "      <th>std</th>\n",
       "      <td>1.023130e+03</td>\n",
       "      <td>7.656573e+00</td>\n",
       "      <td>5.007550e+02</td>\n",
       "      <td>NaN</td>\n",
       "      <td>NaN</td>\n",
       "      <td>0.0</td>\n",
       "      <td>NaN</td>\n",
       "      <td>0.000000e+00</td>\n",
       "      <td>0.000000e+00</td>\n",
       "    </tr>\n",
       "    <tr>\n",
       "      <th>min</th>\n",
       "      <td>2.106000e+03</td>\n",
       "      <td>1.000000e+00</td>\n",
       "      <td>1.200000e+01</td>\n",
       "      <td>1.899414e-01</td>\n",
       "      <td>2.900391e-01</td>\n",
       "      <td>1.0</td>\n",
       "      <td>1.299805e+00</td>\n",
       "      <td>2.000427e-02</td>\n",
       "      <td>0.000000e+00</td>\n",
       "    </tr>\n",
       "    <tr>\n",
       "      <th>25%</th>\n",
       "      <td>2.613000e+03</td>\n",
       "      <td>6.000000e+00</td>\n",
       "      <td>7.500000e+02</td>\n",
       "      <td>5.500000e+00</td>\n",
       "      <td>8.250000e+00</td>\n",
       "      <td>3.0</td>\n",
       "      <td>3.150000e+01</td>\n",
       "      <td>1.500000e+00</td>\n",
       "      <td>3.999023e-01</td>\n",
       "    </tr>\n",
       "    <tr>\n",
       "      <th>50%</th>\n",
       "      <td>3.773000e+03</td>\n",
       "      <td>1.200000e+01</td>\n",
       "      <td>7.500000e+02</td>\n",
       "      <td>8.203125e+00</td>\n",
       "      <td>1.236719e+01</td>\n",
       "      <td>6.0</td>\n",
       "      <td>7.168750e+01</td>\n",
       "      <td>5.101562e+00</td>\n",
       "      <td>1.339844e+00</td>\n",
       "    </tr>\n",
       "    <tr>\n",
       "      <th>75%</th>\n",
       "      <td>4.495000e+03</td>\n",
       "      <td>1.200000e+01</td>\n",
       "      <td>1.000000e+03</td>\n",
       "      <td>1.204688e+01</td>\n",
       "      <td>1.807812e+01</td>\n",
       "      <td>12.0</td>\n",
       "      <td>1.393750e+02</td>\n",
       "      <td>1.050000e+01</td>\n",
       "      <td>2.769531e+00</td>\n",
       "    </tr>\n",
       "    <tr>\n",
       "      <th>max</th>\n",
       "      <td>9.938000e+03</td>\n",
       "      <td>3.360000e+02</td>\n",
       "      <td>3.150000e+04</td>\n",
       "      <td>7.680000e+03</td>\n",
       "      <td>1.152000e+04</td>\n",
       "      <td>25.5</td>\n",
       "      <td>3.012500e+02</td>\n",
       "      <td>2.400000e+01</td>\n",
       "      <td>6.324219e+00</td>\n",
       "    </tr>\n",
       "  </tbody>\n",
       "</table>\n",
       "</div>"
      ],
      "text/plain": [
       "       Store Number          Pack  Bottle Volume (ml)  State Bottle Cost  \\\n",
       "count  1.948038e+07  1.948038e+07        1.948038e+07       1.948038e+07   \n",
       "mean   3.682958e+03  1.227179e+01        9.115331e+02                NaN   \n",
       "std    1.023130e+03  7.656573e+00        5.007550e+02                NaN   \n",
       "min    2.106000e+03  1.000000e+00        1.200000e+01       1.899414e-01   \n",
       "25%    2.613000e+03  6.000000e+00        7.500000e+02       5.500000e+00   \n",
       "50%    3.773000e+03  1.200000e+01        7.500000e+02       8.203125e+00   \n",
       "75%    4.495000e+03  1.200000e+01        1.000000e+03       1.204688e+01   \n",
       "max    9.938000e+03  3.360000e+02        3.150000e+04       7.680000e+03   \n",
       "\n",
       "       State Bottle Retail  Bottles Sold  Sale (Dollars)  \\\n",
       "count         1.948038e+07    19480377.0    1.948038e+07   \n",
       "mean                   NaN           NaN             NaN   \n",
       "std                    NaN           0.0             NaN   \n",
       "min           2.900391e-01           1.0    1.299805e+00   \n",
       "25%           8.250000e+00           3.0    3.150000e+01   \n",
       "50%           1.236719e+01           6.0    7.168750e+01   \n",
       "75%           1.807812e+01          12.0    1.393750e+02   \n",
       "max           1.152000e+04          25.5    3.012500e+02   \n",
       "\n",
       "       Volume Sold (Liters)  Volume Sold (Gallons)  \n",
       "count          1.948038e+07           1.948038e+07  \n",
       "mean                    NaN                    NaN  \n",
       "std            0.000000e+00           0.000000e+00  \n",
       "min            2.000427e-02           0.000000e+00  \n",
       "25%            1.500000e+00           3.999023e-01  \n",
       "50%            5.101562e+00           1.339844e+00  \n",
       "75%            1.050000e+01           2.769531e+00  \n",
       "max            2.400000e+01           6.324219e+00  "
      ]
     },
     "execution_count": 20,
     "metadata": {},
     "output_type": "execute_result"
    }
   ],
   "source": [
    "## 用盖帽法处理异常值\n",
    "df = OutliersDeal(df, ['Invoice/Item Number',\n",
    " 'Date',\n",
    " 'Store Number',\n",
    " 'Store Name',\n",
    " 'City',\n",
    " 'County',\n",
    " 'Category Name',\n",
    " 'Vendor Name',\n",
    " 'Item Number',\n",
    " 'Item Description',\n",
    " 'Pack',\n",
    " 'Bottle Volume (ml)',\n",
    " 'State Bottle Cost',\n",
    " 'State Bottle Retail'])\n",
    "df.describe()"
   ]
  },
  {
   "cell_type": "code",
   "execution_count": null,
   "id": "4e35996e-f27f-4b7e-860d-a9996b39de98",
   "metadata": {},
   "outputs": [],
   "source": []
  },
  {
   "cell_type": "code",
   "execution_count": null,
   "id": "70ae09e9-d8ed-4d4e-8846-7b4a47b99fe5",
   "metadata": {},
   "outputs": [],
   "source": []
  },
  {
   "cell_type": "markdown",
   "id": "b2573496-5322-4dce-97b1-ae67d0e50fd9",
   "metadata": {},
   "source": [
    "<font size=4>提取经纬度并进行合并"
   ]
  },
  {
   "cell_type": "code",
   "execution_count": 21,
   "id": "455cdb8c-1614-4a12-8936-2fc87297b4fe",
   "metadata": {},
   "outputs": [],
   "source": [
    "useful_columns = ['Invoice/Item Number','Store Location']\n",
    "\n",
    "with zipfile.ZipFile('autodl-nas/Iowa_Liquor_Sales.csv.zip','r') as zipobj:\n",
    "    loc=zipobj.open('Iowa_Liquor_Sales.csv')\n",
    "    #df = pd.read_csv('Iowa_Liquor_Sales.csv', parse_dates=['Date'], usecols=useful_columns,dtype=dtypes)\n",
    "    \n",
    "loc = pd.read_csv(loc, usecols=useful_columns)"
   ]
  },
  {
   "cell_type": "code",
   "execution_count": 22,
   "id": "cb370070-8341-49bf-b000-fa813fd6bd96",
   "metadata": {},
   "outputs": [
    {
     "data": {
      "text/html": [
       "<div>\n",
       "<style scoped>\n",
       "    .dataframe tbody tr th:only-of-type {\n",
       "        vertical-align: middle;\n",
       "    }\n",
       "\n",
       "    .dataframe tbody tr th {\n",
       "        vertical-align: top;\n",
       "    }\n",
       "\n",
       "    .dataframe thead th {\n",
       "        text-align: right;\n",
       "    }\n",
       "</style>\n",
       "<table border=\"1\" class=\"dataframe\">\n",
       "  <thead>\n",
       "    <tr style=\"text-align: right;\">\n",
       "      <th></th>\n",
       "      <th>Invoice/Item Number</th>\n",
       "      <th>Store Location</th>\n",
       "    </tr>\n",
       "  </thead>\n",
       "  <tbody>\n",
       "    <tr>\n",
       "      <th>0</th>\n",
       "      <td>S24127700024</td>\n",
       "      <td>POINT (-93.597011 41.570844)</td>\n",
       "    </tr>\n",
       "    <tr>\n",
       "      <th>1</th>\n",
       "      <td>S15066200002</td>\n",
       "      <td>POINT (-93.596754 41.554101)</td>\n",
       "    </tr>\n",
       "    <tr>\n",
       "      <th>2</th>\n",
       "      <td>S19323500030</td>\n",
       "      <td>POINT (-95.385111 40.761736)</td>\n",
       "    </tr>\n",
       "    <tr>\n",
       "      <th>3</th>\n",
       "      <td>S23334500013</td>\n",
       "      <td>POINT (-93.572458 41.760989)</td>\n",
       "    </tr>\n",
       "    <tr>\n",
       "      <th>4</th>\n",
       "      <td>S09742200010</td>\n",
       "      <td>POINT (-92.277759 41.897052)</td>\n",
       "    </tr>\n",
       "    <tr>\n",
       "      <th>...</th>\n",
       "      <td>...</td>\n",
       "      <td>...</td>\n",
       "    </tr>\n",
       "    <tr>\n",
       "      <th>19666758</th>\n",
       "      <td>S10600200004</td>\n",
       "      <td>POINT (-95.29346 42.499481)</td>\n",
       "    </tr>\n",
       "    <tr>\n",
       "      <th>19666759</th>\n",
       "      <td>S23597800012</td>\n",
       "      <td>POINT (-96.376341 42.489845)</td>\n",
       "    </tr>\n",
       "    <tr>\n",
       "      <th>19666760</th>\n",
       "      <td>S29278700041</td>\n",
       "      <td>POINT (-93.561517 41.600476)</td>\n",
       "    </tr>\n",
       "    <tr>\n",
       "      <th>19666761</th>\n",
       "      <td>S04908000004</td>\n",
       "      <td>POINT (-92.727343 41.7283)</td>\n",
       "    </tr>\n",
       "    <tr>\n",
       "      <th>19666762</th>\n",
       "      <td>S09763500040</td>\n",
       "      <td>POINT (-92.336965 42.489106)</td>\n",
       "    </tr>\n",
       "  </tbody>\n",
       "</table>\n",
       "<p>19666763 rows × 2 columns</p>\n",
       "</div>"
      ],
      "text/plain": [
       "         Invoice/Item Number                Store Location\n",
       "0               S24127700024  POINT (-93.597011 41.570844)\n",
       "1               S15066200002  POINT (-93.596754 41.554101)\n",
       "2               S19323500030  POINT (-95.385111 40.761736)\n",
       "3               S23334500013  POINT (-93.572458 41.760989)\n",
       "4               S09742200010  POINT (-92.277759 41.897052)\n",
       "...                      ...                           ...\n",
       "19666758        S10600200004   POINT (-95.29346 42.499481)\n",
       "19666759        S23597800012  POINT (-96.376341 42.489845)\n",
       "19666760        S29278700041  POINT (-93.561517 41.600476)\n",
       "19666761        S04908000004    POINT (-92.727343 41.7283)\n",
       "19666762        S09763500040  POINT (-92.336965 42.489106)\n",
       "\n",
       "[19666763 rows x 2 columns]"
      ]
     },
     "execution_count": 22,
     "metadata": {},
     "output_type": "execute_result"
    }
   ],
   "source": [
    "loc"
   ]
  },
  {
   "cell_type": "code",
   "execution_count": 126,
   "id": "64c7d21f-1b6b-4f60-91ee-b589904b3508",
   "metadata": {},
   "outputs": [
    {
     "data": {
      "text/plain": [
       "['POINT', '(-93.597011', '41.570844)']"
      ]
     },
     "execution_count": 126,
     "metadata": {},
     "output_type": "execute_result"
    }
   ],
   "source": [
    "# loc['Store Location'][0].split(' ')"
   ]
  },
  {
   "cell_type": "code",
   "execution_count": 136,
   "id": "d55fc4d9-29ce-4409-aa0d-61c3923e12ef",
   "metadata": {},
   "outputs": [],
   "source": [
    "# reg=r'POINT \\((.*)\\)'\n",
    "# example=re.findall(reg,loc['Store Location'][0])"
   ]
  },
  {
   "cell_type": "code",
   "execution_count": 138,
   "id": "1ec65516-a3c7-492a-9456-7282e5b4e912",
   "metadata": {},
   "outputs": [
    {
     "data": {
      "text/plain": [
       "['-93.597011', '41.570844']"
      ]
     },
     "execution_count": 138,
     "metadata": {},
     "output_type": "execute_result"
    }
   ],
   "source": [
    "# example[0].split(' ')"
   ]
  },
  {
   "cell_type": "code",
   "execution_count": null,
   "id": "61a9ce39-ba5d-4394-bd9d-58dc68e00daf",
   "metadata": {},
   "outputs": [],
   "source": [
    "#reg=r'POINT \\((.*)\\)'"
   ]
  },
  {
   "cell_type": "code",
   "execution_count": 26,
   "id": "e560b7a7-6b81-4f82-b772-f3bb459993d5",
   "metadata": {},
   "outputs": [],
   "source": [
    "loc=loc.dropna()"
   ]
  },
  {
   "cell_type": "code",
   "execution_count": 27,
   "id": "93165581-3514-49d4-977d-46b520cc97ce",
   "metadata": {},
   "outputs": [
    {
     "name": "stderr",
     "output_type": "stream",
     "text": [
      "/tmp/ipykernel_262/432687171.py:2: SettingWithCopyWarning: \n",
      "A value is trying to be set on a copy of a slice from a DataFrame.\n",
      "Try using .loc[row_indexer,col_indexer] = value instead\n",
      "\n",
      "See the caveats in the documentation: https://pandas.pydata.org/pandas-docs/stable/user_guide/indexing.html#returning-a-view-versus-a-copy\n",
      "  loc['location']= loc['Store Location'].map(lambda x:re.findall(reg,x)[0])\n"
     ]
    }
   ],
   "source": [
    "reg=r'POINT \\((.*)\\)'\n",
    "loc['location']= loc['Store Location'].map(lambda x:re.findall(reg,x)[0])\n"
   ]
  },
  {
   "cell_type": "code",
   "execution_count": 35,
   "id": "6696da13-50fb-4ccd-b1ac-40df4e768a15",
   "metadata": {},
   "outputs": [
    {
     "name": "stderr",
     "output_type": "stream",
     "text": [
      "/tmp/ipykernel_262/2300787339.py:1: SettingWithCopyWarning: \n",
      "A value is trying to be set on a copy of a slice from a DataFrame.\n",
      "Try using .loc[row_indexer,col_indexer] = value instead\n",
      "\n",
      "See the caveats in the documentation: https://pandas.pydata.org/pandas-docs/stable/user_guide/indexing.html#returning-a-view-versus-a-copy\n",
      "  loc['longtitude']=loc['location'].map(lambda x:x.split(' ')[0])\n",
      "/tmp/ipykernel_262/2300787339.py:2: SettingWithCopyWarning: \n",
      "A value is trying to be set on a copy of a slice from a DataFrame.\n",
      "Try using .loc[row_indexer,col_indexer] = value instead\n",
      "\n",
      "See the caveats in the documentation: https://pandas.pydata.org/pandas-docs/stable/user_guide/indexing.html#returning-a-view-versus-a-copy\n",
      "  loc['latitude']=loc['location'].map(lambda x:x.split(' ')[1])\n"
     ]
    }
   ],
   "source": [
    "loc['longtitude']=loc['location'].map(lambda x:x.split(' ')[0])\n",
    "loc['latitude']=loc['location'].map(lambda x:x.split(' ')[1])\n"
   ]
  },
  {
   "cell_type": "code",
   "execution_count": 37,
   "id": "d3723c1f-7014-4d8c-9475-d0a46460671d",
   "metadata": {},
   "outputs": [
    {
     "name": "stderr",
     "output_type": "stream",
     "text": [
      "/tmp/ipykernel_262/60798749.py:1: SettingWithCopyWarning: \n",
      "A value is trying to be set on a copy of a slice from a DataFrame.\n",
      "Try using .loc[row_indexer,col_indexer] = value instead\n",
      "\n",
      "See the caveats in the documentation: https://pandas.pydata.org/pandas-docs/stable/user_guide/indexing.html#returning-a-view-versus-a-copy\n",
      "  loc.loc[:,'Invoice/Item Number'] = loc.loc[:,'Invoice/Item Number'].str.lower().str.strip().str.split().str.join(' ')\n"
     ]
    }
   ],
   "source": [
    "loc.loc[:,'Invoice/Item Number'] = loc.loc[:,'Invoice/Item Number'].str.lower().str.strip().str.split().str.join(' ')"
   ]
  },
  {
   "cell_type": "code",
   "execution_count": 38,
   "id": "e8685bff-f916-4ac5-9c00-f51f69ed3a4f",
   "metadata": {},
   "outputs": [
    {
     "data": {
      "text/html": [
       "<div>\n",
       "<style scoped>\n",
       "    .dataframe tbody tr th:only-of-type {\n",
       "        vertical-align: middle;\n",
       "    }\n",
       "\n",
       "    .dataframe tbody tr th {\n",
       "        vertical-align: top;\n",
       "    }\n",
       "\n",
       "    .dataframe thead th {\n",
       "        text-align: right;\n",
       "    }\n",
       "</style>\n",
       "<table border=\"1\" class=\"dataframe\">\n",
       "  <thead>\n",
       "    <tr style=\"text-align: right;\">\n",
       "      <th></th>\n",
       "      <th>Invoice/Item Number</th>\n",
       "      <th>Store Location</th>\n",
       "      <th>location</th>\n",
       "      <th>longtitude</th>\n",
       "      <th>latitude</th>\n",
       "    </tr>\n",
       "  </thead>\n",
       "  <tbody>\n",
       "    <tr>\n",
       "      <th>0</th>\n",
       "      <td>s24127700024</td>\n",
       "      <td>POINT (-93.597011 41.570844)</td>\n",
       "      <td>-93.597011 41.570844</td>\n",
       "      <td>-93.597011</td>\n",
       "      <td>41.570844</td>\n",
       "    </tr>\n",
       "    <tr>\n",
       "      <th>1</th>\n",
       "      <td>s15066200002</td>\n",
       "      <td>POINT (-93.596754 41.554101)</td>\n",
       "      <td>-93.596754 41.554101</td>\n",
       "      <td>-93.596754</td>\n",
       "      <td>41.554101</td>\n",
       "    </tr>\n",
       "    <tr>\n",
       "      <th>2</th>\n",
       "      <td>s19323500030</td>\n",
       "      <td>POINT (-95.385111 40.761736)</td>\n",
       "      <td>-95.385111 40.761736</td>\n",
       "      <td>-95.385111</td>\n",
       "      <td>40.761736</td>\n",
       "    </tr>\n",
       "    <tr>\n",
       "      <th>3</th>\n",
       "      <td>s23334500013</td>\n",
       "      <td>POINT (-93.572458 41.760989)</td>\n",
       "      <td>-93.572458 41.760989</td>\n",
       "      <td>-93.572458</td>\n",
       "      <td>41.760989</td>\n",
       "    </tr>\n",
       "    <tr>\n",
       "      <th>4</th>\n",
       "      <td>s09742200010</td>\n",
       "      <td>POINT (-92.277759 41.897052)</td>\n",
       "      <td>-92.277759 41.897052</td>\n",
       "      <td>-92.277759</td>\n",
       "      <td>41.897052</td>\n",
       "    </tr>\n",
       "    <tr>\n",
       "      <th>...</th>\n",
       "      <td>...</td>\n",
       "      <td>...</td>\n",
       "      <td>...</td>\n",
       "      <td>...</td>\n",
       "      <td>...</td>\n",
       "    </tr>\n",
       "    <tr>\n",
       "      <th>19666758</th>\n",
       "      <td>s10600200004</td>\n",
       "      <td>POINT (-95.29346 42.499481)</td>\n",
       "      <td>-95.29346 42.499481</td>\n",
       "      <td>-95.29346</td>\n",
       "      <td>42.499481</td>\n",
       "    </tr>\n",
       "    <tr>\n",
       "      <th>19666759</th>\n",
       "      <td>s23597800012</td>\n",
       "      <td>POINT (-96.376341 42.489845)</td>\n",
       "      <td>-96.376341 42.489845</td>\n",
       "      <td>-96.376341</td>\n",
       "      <td>42.489845</td>\n",
       "    </tr>\n",
       "    <tr>\n",
       "      <th>19666760</th>\n",
       "      <td>s29278700041</td>\n",
       "      <td>POINT (-93.561517 41.600476)</td>\n",
       "      <td>-93.561517 41.600476</td>\n",
       "      <td>-93.561517</td>\n",
       "      <td>41.600476</td>\n",
       "    </tr>\n",
       "    <tr>\n",
       "      <th>19666761</th>\n",
       "      <td>s04908000004</td>\n",
       "      <td>POINT (-92.727343 41.7283)</td>\n",
       "      <td>-92.727343 41.7283</td>\n",
       "      <td>-92.727343</td>\n",
       "      <td>41.7283</td>\n",
       "    </tr>\n",
       "    <tr>\n",
       "      <th>19666762</th>\n",
       "      <td>s09763500040</td>\n",
       "      <td>POINT (-92.336965 42.489106)</td>\n",
       "      <td>-92.336965 42.489106</td>\n",
       "      <td>-92.336965</td>\n",
       "      <td>42.489106</td>\n",
       "    </tr>\n",
       "  </tbody>\n",
       "</table>\n",
       "<p>17780740 rows × 5 columns</p>\n",
       "</div>"
      ],
      "text/plain": [
       "         Invoice/Item Number                Store Location  \\\n",
       "0               s24127700024  POINT (-93.597011 41.570844)   \n",
       "1               s15066200002  POINT (-93.596754 41.554101)   \n",
       "2               s19323500030  POINT (-95.385111 40.761736)   \n",
       "3               s23334500013  POINT (-93.572458 41.760989)   \n",
       "4               s09742200010  POINT (-92.277759 41.897052)   \n",
       "...                      ...                           ...   \n",
       "19666758        s10600200004   POINT (-95.29346 42.499481)   \n",
       "19666759        s23597800012  POINT (-96.376341 42.489845)   \n",
       "19666760        s29278700041  POINT (-93.561517 41.600476)   \n",
       "19666761        s04908000004    POINT (-92.727343 41.7283)   \n",
       "19666762        s09763500040  POINT (-92.336965 42.489106)   \n",
       "\n",
       "                      location  longtitude   latitude  \n",
       "0         -93.597011 41.570844  -93.597011  41.570844  \n",
       "1         -93.596754 41.554101  -93.596754  41.554101  \n",
       "2         -95.385111 40.761736  -95.385111  40.761736  \n",
       "3         -93.572458 41.760989  -93.572458  41.760989  \n",
       "4         -92.277759 41.897052  -92.277759  41.897052  \n",
       "...                        ...         ...        ...  \n",
       "19666758   -95.29346 42.499481   -95.29346  42.499481  \n",
       "19666759  -96.376341 42.489845  -96.376341  42.489845  \n",
       "19666760  -93.561517 41.600476  -93.561517  41.600476  \n",
       "19666761    -92.727343 41.7283  -92.727343    41.7283  \n",
       "19666762  -92.336965 42.489106  -92.336965  42.489106  \n",
       "\n",
       "[17780740 rows x 5 columns]"
      ]
     },
     "execution_count": 38,
     "metadata": {},
     "output_type": "execute_result"
    }
   ],
   "source": [
    "loc"
   ]
  },
  {
   "cell_type": "code",
   "execution_count": 39,
   "id": "63b76c61-828e-4dcf-8a29-119ac0268456",
   "metadata": {},
   "outputs": [],
   "source": [
    "df_clean=pd.merge(df,loc,how='left',left_on='Invoice/Item Number',right_on='Invoice/Item Number')"
   ]
  },
  {
   "cell_type": "code",
   "execution_count": 40,
   "id": "3ee8a894-338a-46ab-94b4-6a2f9d28368e",
   "metadata": {},
   "outputs": [
    {
     "data": {
      "text/html": [
       "<div>\n",
       "<style scoped>\n",
       "    .dataframe tbody tr th:only-of-type {\n",
       "        vertical-align: middle;\n",
       "    }\n",
       "\n",
       "    .dataframe tbody tr th {\n",
       "        vertical-align: top;\n",
       "    }\n",
       "\n",
       "    .dataframe thead th {\n",
       "        text-align: right;\n",
       "    }\n",
       "</style>\n",
       "<table border=\"1\" class=\"dataframe\">\n",
       "  <thead>\n",
       "    <tr style=\"text-align: right;\">\n",
       "      <th></th>\n",
       "      <th>Invoice/Item Number</th>\n",
       "      <th>Date</th>\n",
       "      <th>Store Number</th>\n",
       "      <th>Store Name</th>\n",
       "      <th>City</th>\n",
       "      <th>County</th>\n",
       "      <th>Category Name</th>\n",
       "      <th>Vendor Name</th>\n",
       "      <th>Item Number</th>\n",
       "      <th>Item Description</th>\n",
       "      <th>Pack</th>\n",
       "      <th>Bottle Volume (ml)</th>\n",
       "      <th>State Bottle Cost</th>\n",
       "      <th>State Bottle Retail</th>\n",
       "      <th>Bottles Sold</th>\n",
       "      <th>Sale (Dollars)</th>\n",
       "      <th>Volume Sold (Liters)</th>\n",
       "      <th>Volume Sold (Gallons)</th>\n",
       "      <th>Store Location</th>\n",
       "      <th>location</th>\n",
       "      <th>longtitude</th>\n",
       "      <th>latitude</th>\n",
       "    </tr>\n",
       "  </thead>\n",
       "  <tbody>\n",
       "    <tr>\n",
       "      <th>0</th>\n",
       "      <td>s24127700024</td>\n",
       "      <td>2015-02-19</td>\n",
       "      <td>3678</td>\n",
       "      <td>smoke shop, the</td>\n",
       "      <td>des moines</td>\n",
       "      <td>polk</td>\n",
       "      <td>vodka flavored</td>\n",
       "      <td>phillips beverage company</td>\n",
       "      <td>41783</td>\n",
       "      <td>uv blue raspberry vodka mini</td>\n",
       "      <td>6</td>\n",
       "      <td>500</td>\n",
       "      <td>4.890625</td>\n",
       "      <td>7.339844</td>\n",
       "      <td>2.0</td>\n",
       "      <td>14.679688</td>\n",
       "      <td>1.000000</td>\n",
       "      <td>0.260010</td>\n",
       "      <td>POINT (-93.597011 41.570844)</td>\n",
       "      <td>-93.597011 41.570844</td>\n",
       "      <td>-93.597011</td>\n",
       "      <td>41.570844</td>\n",
       "    </tr>\n",
       "    <tr>\n",
       "      <th>1</th>\n",
       "      <td>s15066200002</td>\n",
       "      <td>2013-10-10</td>\n",
       "      <td>2633</td>\n",
       "      <td>hy-vee</td>\n",
       "      <td>des moines</td>\n",
       "      <td>polk</td>\n",
       "      <td>misc. imported cordials &amp; liqueurs</td>\n",
       "      <td>mhw ltd</td>\n",
       "      <td>904969</td>\n",
       "      <td>sabe premiom sake double barrel</td>\n",
       "      <td>6</td>\n",
       "      <td>750</td>\n",
       "      <td>14.992188</td>\n",
       "      <td>22.484375</td>\n",
       "      <td>6.0</td>\n",
       "      <td>135.000000</td>\n",
       "      <td>4.500000</td>\n",
       "      <td>1.190430</td>\n",
       "      <td>POINT (-93.596754 41.554101)</td>\n",
       "      <td>-93.596754 41.554101</td>\n",
       "      <td>-93.596754</td>\n",
       "      <td>41.554101</td>\n",
       "    </tr>\n",
       "    <tr>\n",
       "      <th>2</th>\n",
       "      <td>s19323500030</td>\n",
       "      <td>2014-06-03</td>\n",
       "      <td>2607</td>\n",
       "      <td>hy-vee wine and spirits</td>\n",
       "      <td>shenandoah</td>\n",
       "      <td>page</td>\n",
       "      <td>puerto rico &amp; virgin islands rum</td>\n",
       "      <td>luxco-st louis</td>\n",
       "      <td>45277</td>\n",
       "      <td>paramount white rum</td>\n",
       "      <td>12</td>\n",
       "      <td>1000</td>\n",
       "      <td>4.339844</td>\n",
       "      <td>6.511719</td>\n",
       "      <td>12.0</td>\n",
       "      <td>78.125000</td>\n",
       "      <td>12.000000</td>\n",
       "      <td>3.169922</td>\n",
       "      <td>POINT (-95.385111 40.761736)</td>\n",
       "      <td>-95.385111 40.761736</td>\n",
       "      <td>-95.385111</td>\n",
       "      <td>40.761736</td>\n",
       "    </tr>\n",
       "    <tr>\n",
       "      <th>3</th>\n",
       "      <td>s23334500013</td>\n",
       "      <td>2015-01-06</td>\n",
       "      <td>4810</td>\n",
       "      <td>kum &amp; go</td>\n",
       "      <td>ankeny</td>\n",
       "      <td>polk</td>\n",
       "      <td>puerto rico &amp; virgin islands rum</td>\n",
       "      <td>bacardi u.s.a., inc.</td>\n",
       "      <td>43121</td>\n",
       "      <td>bacardi superior rum mini</td>\n",
       "      <td>12</td>\n",
       "      <td>500</td>\n",
       "      <td>5.539062</td>\n",
       "      <td>8.312500</td>\n",
       "      <td>1.0</td>\n",
       "      <td>8.312500</td>\n",
       "      <td>0.500000</td>\n",
       "      <td>0.130005</td>\n",
       "      <td>POINT (-93.572458 41.760989)</td>\n",
       "      <td>-93.572458 41.760989</td>\n",
       "      <td>-93.572458</td>\n",
       "      <td>41.760989</td>\n",
       "    </tr>\n",
       "    <tr>\n",
       "      <th>4</th>\n",
       "      <td>s09742200010</td>\n",
       "      <td>2012-12-27</td>\n",
       "      <td>4025</td>\n",
       "      <td>karam kaur khasriya llc</td>\n",
       "      <td>belle plaine</td>\n",
       "      <td>benton</td>\n",
       "      <td>canadian whiskies</td>\n",
       "      <td>diageo americas</td>\n",
       "      <td>11298</td>\n",
       "      <td>crown royal canadian whisky</td>\n",
       "      <td>6</td>\n",
       "      <td>1750</td>\n",
       "      <td>31.000000</td>\n",
       "      <td>46.500000</td>\n",
       "      <td>2.0</td>\n",
       "      <td>93.000000</td>\n",
       "      <td>3.500000</td>\n",
       "      <td>0.919922</td>\n",
       "      <td>POINT (-92.277759 41.897052)</td>\n",
       "      <td>-92.277759 41.897052</td>\n",
       "      <td>-92.277759</td>\n",
       "      <td>41.897052</td>\n",
       "    </tr>\n",
       "    <tr>\n",
       "      <th>...</th>\n",
       "      <td>...</td>\n",
       "      <td>...</td>\n",
       "      <td>...</td>\n",
       "      <td>...</td>\n",
       "      <td>...</td>\n",
       "      <td>...</td>\n",
       "      <td>...</td>\n",
       "      <td>...</td>\n",
       "      <td>...</td>\n",
       "      <td>...</td>\n",
       "      <td>...</td>\n",
       "      <td>...</td>\n",
       "      <td>...</td>\n",
       "      <td>...</td>\n",
       "      <td>...</td>\n",
       "      <td>...</td>\n",
       "      <td>...</td>\n",
       "      <td>...</td>\n",
       "      <td>...</td>\n",
       "      <td>...</td>\n",
       "      <td>...</td>\n",
       "      <td>...</td>\n",
       "    </tr>\n",
       "    <tr>\n",
       "      <th>19480372</th>\n",
       "      <td>s10600200004</td>\n",
       "      <td>2013-02-13</td>\n",
       "      <td>3864</td>\n",
       "      <td>hometown foods</td>\n",
       "      <td>schaller</td>\n",
       "      <td>sac</td>\n",
       "      <td>american cocktails</td>\n",
       "      <td>sazerac co., inc.</td>\n",
       "      <td>59231</td>\n",
       "      <td>ice box mudslide</td>\n",
       "      <td>6</td>\n",
       "      <td>1750</td>\n",
       "      <td>5.750000</td>\n",
       "      <td>9.132812</td>\n",
       "      <td>6.0</td>\n",
       "      <td>54.781250</td>\n",
       "      <td>10.500000</td>\n",
       "      <td>2.769531</td>\n",
       "      <td>POINT (-95.29346 42.499481)</td>\n",
       "      <td>-95.29346 42.499481</td>\n",
       "      <td>-95.29346</td>\n",
       "      <td>42.499481</td>\n",
       "    </tr>\n",
       "    <tr>\n",
       "      <th>19480373</th>\n",
       "      <td>s23597800012</td>\n",
       "      <td>2015-01-21</td>\n",
       "      <td>5065</td>\n",
       "      <td>circle s gordon drive</td>\n",
       "      <td>sioux city</td>\n",
       "      <td>woodbury</td>\n",
       "      <td>whiskey liqueur</td>\n",
       "      <td>sazerac co., inc.</td>\n",
       "      <td>64863</td>\n",
       "      <td>fireball cinnamon whiskey</td>\n",
       "      <td>48</td>\n",
       "      <td>200</td>\n",
       "      <td>3.330078</td>\n",
       "      <td>5.000000</td>\n",
       "      <td>4.0</td>\n",
       "      <td>20.000000</td>\n",
       "      <td>0.799805</td>\n",
       "      <td>0.209961</td>\n",
       "      <td>POINT (-96.376341 42.489845)</td>\n",
       "      <td>-96.376341 42.489845</td>\n",
       "      <td>-96.376341</td>\n",
       "      <td>42.489845</td>\n",
       "    </tr>\n",
       "    <tr>\n",
       "      <th>19480374</th>\n",
       "      <td>s29278700041</td>\n",
       "      <td>2015-11-24</td>\n",
       "      <td>3400</td>\n",
       "      <td>last stop beverage shop</td>\n",
       "      <td>des moines</td>\n",
       "      <td>polk</td>\n",
       "      <td>vodka 80 proof</td>\n",
       "      <td>phillips beverage company</td>\n",
       "      <td>37336</td>\n",
       "      <td>uv vodka</td>\n",
       "      <td>12</td>\n",
       "      <td>750</td>\n",
       "      <td>6.500000</td>\n",
       "      <td>9.750000</td>\n",
       "      <td>12.0</td>\n",
       "      <td>117.000000</td>\n",
       "      <td>9.000000</td>\n",
       "      <td>2.380859</td>\n",
       "      <td>POINT (-93.561517 41.600476)</td>\n",
       "      <td>-93.561517 41.600476</td>\n",
       "      <td>-93.561517</td>\n",
       "      <td>41.600476</td>\n",
       "    </tr>\n",
       "    <tr>\n",
       "      <th>19480375</th>\n",
       "      <td>s04908000004</td>\n",
       "      <td>2012-04-05</td>\n",
       "      <td>2579</td>\n",
       "      <td>hy-vee food store</td>\n",
       "      <td>grinnell</td>\n",
       "      <td>poweshiek</td>\n",
       "      <td>puerto rico &amp; virgin islands rum</td>\n",
       "      <td>bacardi u.s.a., inc.</td>\n",
       "      <td>43128</td>\n",
       "      <td>bacardi superior rum</td>\n",
       "      <td>6</td>\n",
       "      <td>1750</td>\n",
       "      <td>14.671875</td>\n",
       "      <td>22.000000</td>\n",
       "      <td>6.0</td>\n",
       "      <td>132.000000</td>\n",
       "      <td>10.500000</td>\n",
       "      <td>2.769531</td>\n",
       "      <td>POINT (-92.727343 41.7283)</td>\n",
       "      <td>-92.727343 41.7283</td>\n",
       "      <td>-92.727343</td>\n",
       "      <td>41.7283</td>\n",
       "    </tr>\n",
       "    <tr>\n",
       "      <th>19480376</th>\n",
       "      <td>s09763500040</td>\n",
       "      <td>2012-12-28</td>\n",
       "      <td>4265</td>\n",
       "      <td>kwik stop 3</td>\n",
       "      <td>waterloo</td>\n",
       "      <td>black hawk</td>\n",
       "      <td>misc. imported cordials &amp; liqueurs</td>\n",
       "      <td>sidney frank importing co.</td>\n",
       "      <td>65256</td>\n",
       "      <td>jagermeister liqueur</td>\n",
       "      <td>12</td>\n",
       "      <td>750</td>\n",
       "      <td>12.039062</td>\n",
       "      <td>18.062500</td>\n",
       "      <td>3.0</td>\n",
       "      <td>54.187500</td>\n",
       "      <td>2.250000</td>\n",
       "      <td>0.589844</td>\n",
       "      <td>POINT (-92.336965 42.489106)</td>\n",
       "      <td>-92.336965 42.489106</td>\n",
       "      <td>-92.336965</td>\n",
       "      <td>42.489106</td>\n",
       "    </tr>\n",
       "  </tbody>\n",
       "</table>\n",
       "<p>19480377 rows × 22 columns</p>\n",
       "</div>"
      ],
      "text/plain": [
       "         Invoice/Item Number       Date  Store Number  \\\n",
       "0               s24127700024 2015-02-19          3678   \n",
       "1               s15066200002 2013-10-10          2633   \n",
       "2               s19323500030 2014-06-03          2607   \n",
       "3               s23334500013 2015-01-06          4810   \n",
       "4               s09742200010 2012-12-27          4025   \n",
       "...                      ...        ...           ...   \n",
       "19480372        s10600200004 2013-02-13          3864   \n",
       "19480373        s23597800012 2015-01-21          5065   \n",
       "19480374        s29278700041 2015-11-24          3400   \n",
       "19480375        s04908000004 2012-04-05          2579   \n",
       "19480376        s09763500040 2012-12-28          4265   \n",
       "\n",
       "                       Store Name          City      County  \\\n",
       "0                 smoke shop, the    des moines        polk   \n",
       "1                          hy-vee    des moines        polk   \n",
       "2         hy-vee wine and spirits    shenandoah        page   \n",
       "3                        kum & go        ankeny        polk   \n",
       "4         karam kaur khasriya llc  belle plaine      benton   \n",
       "...                           ...           ...         ...   \n",
       "19480372           hometown foods      schaller         sac   \n",
       "19480373    circle s gordon drive    sioux city    woodbury   \n",
       "19480374  last stop beverage shop    des moines        polk   \n",
       "19480375        hy-vee food store      grinnell   poweshiek   \n",
       "19480376              kwik stop 3      waterloo  black hawk   \n",
       "\n",
       "                               Category Name                 Vendor Name  \\\n",
       "0                             vodka flavored   phillips beverage company   \n",
       "1         misc. imported cordials & liqueurs                     mhw ltd   \n",
       "2           puerto rico & virgin islands rum              luxco-st louis   \n",
       "3           puerto rico & virgin islands rum        bacardi u.s.a., inc.   \n",
       "4                          canadian whiskies             diageo americas   \n",
       "...                                      ...                         ...   \n",
       "19480372                  american cocktails           sazerac co., inc.   \n",
       "19480373                     whiskey liqueur           sazerac co., inc.   \n",
       "19480374                      vodka 80 proof   phillips beverage company   \n",
       "19480375    puerto rico & virgin islands rum        bacardi u.s.a., inc.   \n",
       "19480376  misc. imported cordials & liqueurs  sidney frank importing co.   \n",
       "\n",
       "         Item Number                 Item Description  Pack  \\\n",
       "0              41783     uv blue raspberry vodka mini     6   \n",
       "1             904969  sabe premiom sake double barrel     6   \n",
       "2              45277              paramount white rum    12   \n",
       "3              43121        bacardi superior rum mini    12   \n",
       "4              11298      crown royal canadian whisky     6   \n",
       "...              ...                              ...   ...   \n",
       "19480372       59231                 ice box mudslide     6   \n",
       "19480373       64863        fireball cinnamon whiskey    48   \n",
       "19480374       37336                         uv vodka    12   \n",
       "19480375       43128             bacardi superior rum     6   \n",
       "19480376       65256             jagermeister liqueur    12   \n",
       "\n",
       "          Bottle Volume (ml)  State Bottle Cost  State Bottle Retail  \\\n",
       "0                        500           4.890625             7.339844   \n",
       "1                        750          14.992188            22.484375   \n",
       "2                       1000           4.339844             6.511719   \n",
       "3                        500           5.539062             8.312500   \n",
       "4                       1750          31.000000            46.500000   \n",
       "...                      ...                ...                  ...   \n",
       "19480372                1750           5.750000             9.132812   \n",
       "19480373                 200           3.330078             5.000000   \n",
       "19480374                 750           6.500000             9.750000   \n",
       "19480375                1750          14.671875            22.000000   \n",
       "19480376                 750          12.039062            18.062500   \n",
       "\n",
       "          Bottles Sold  Sale (Dollars)  Volume Sold (Liters)  \\\n",
       "0                  2.0       14.679688              1.000000   \n",
       "1                  6.0      135.000000              4.500000   \n",
       "2                 12.0       78.125000             12.000000   \n",
       "3                  1.0        8.312500              0.500000   \n",
       "4                  2.0       93.000000              3.500000   \n",
       "...                ...             ...                   ...   \n",
       "19480372           6.0       54.781250             10.500000   \n",
       "19480373           4.0       20.000000              0.799805   \n",
       "19480374          12.0      117.000000              9.000000   \n",
       "19480375           6.0      132.000000             10.500000   \n",
       "19480376           3.0       54.187500              2.250000   \n",
       "\n",
       "          Volume Sold (Gallons)                Store Location  \\\n",
       "0                      0.260010  POINT (-93.597011 41.570844)   \n",
       "1                      1.190430  POINT (-93.596754 41.554101)   \n",
       "2                      3.169922  POINT (-95.385111 40.761736)   \n",
       "3                      0.130005  POINT (-93.572458 41.760989)   \n",
       "4                      0.919922  POINT (-92.277759 41.897052)   \n",
       "...                         ...                           ...   \n",
       "19480372               2.769531   POINT (-95.29346 42.499481)   \n",
       "19480373               0.209961  POINT (-96.376341 42.489845)   \n",
       "19480374               2.380859  POINT (-93.561517 41.600476)   \n",
       "19480375               2.769531    POINT (-92.727343 41.7283)   \n",
       "19480376               0.589844  POINT (-92.336965 42.489106)   \n",
       "\n",
       "                      location  longtitude   latitude  \n",
       "0         -93.597011 41.570844  -93.597011  41.570844  \n",
       "1         -93.596754 41.554101  -93.596754  41.554101  \n",
       "2         -95.385111 40.761736  -95.385111  40.761736  \n",
       "3         -93.572458 41.760989  -93.572458  41.760989  \n",
       "4         -92.277759 41.897052  -92.277759  41.897052  \n",
       "...                        ...         ...        ...  \n",
       "19480372   -95.29346 42.499481   -95.29346  42.499481  \n",
       "19480373  -96.376341 42.489845  -96.376341  42.489845  \n",
       "19480374  -93.561517 41.600476  -93.561517  41.600476  \n",
       "19480375    -92.727343 41.7283  -92.727343    41.7283  \n",
       "19480376  -92.336965 42.489106  -92.336965  42.489106  \n",
       "\n",
       "[19480377 rows x 22 columns]"
      ]
     },
     "execution_count": 40,
     "metadata": {},
     "output_type": "execute_result"
    }
   ],
   "source": [
    "df_clean"
   ]
  },
  {
   "cell_type": "code",
   "execution_count": 42,
   "id": "a590c5bc-25d1-42e4-b532-db3083ad23e4",
   "metadata": {},
   "outputs": [],
   "source": [
    "df_clean=df_clean.drop(['Store Location','location'],axis=1)"
   ]
  },
  {
   "cell_type": "code",
   "execution_count": 44,
   "id": "9e533510-1afe-48fd-bcad-77f3d3fa77bd",
   "metadata": {},
   "outputs": [],
   "source": [
    "gg=df_clean.to_csv('autodl-nas/data_clean_2.csv')"
   ]
  },
  {
   "cell_type": "code",
   "execution_count": 48,
   "id": "f65ab0b7-5105-4080-a0dd-34a2592ffdf7",
   "metadata": {},
   "outputs": [],
   "source": [
    "# 生成压缩文件\n",
    "z=zipfile.ZipFile('autodl-nas/data_clean_2.zip','w',zipfile.ZIP_DEFLATED)\n",
    "z.write('autodl-nas/data_clean_2.csv')\n",
    "z.close()"
   ]
  },
  {
   "cell_type": "code",
   "execution_count": null,
   "id": "23e22b4f-3e6c-4d03-a22c-4dceb77a4228",
   "metadata": {},
   "outputs": [],
   "source": []
  }
 ],
 "metadata": {
  "kernelspec": {
   "display_name": "Python 3 (ipykernel)",
   "language": "python",
   "name": "python3"
  },
  "language_info": {
   "codemirror_mode": {
    "name": "ipython",
    "version": 3
   },
   "file_extension": ".py",
   "mimetype": "text/x-python",
   "name": "python",
   "nbconvert_exporter": "python",
   "pygments_lexer": "ipython3",
   "version": "3.8.10"
  },
  "toc-autonumbering": false,
  "toc-showmarkdowntxt": false
 },
 "nbformat": 4,
 "nbformat_minor": 5
}
