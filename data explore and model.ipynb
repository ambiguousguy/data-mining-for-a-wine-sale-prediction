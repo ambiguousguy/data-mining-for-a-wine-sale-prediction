{
 "cells": [
  {
   "cell_type": "code",
   "execution_count": 114,
   "id": "76a61ac1-30ad-4916-b276-8024f69dad93",
   "metadata": {},
   "outputs": [
    {
     "name": "stdout",
     "output_type": "stream",
     "text": [
      "Looking in indexes: http://mirrors.aliyun.com/pypi/simple\n",
      "Requirement already satisfied: pandas in ./miniconda3/lib/python3.8/site-packages (1.4.2)\n",
      "Requirement already satisfied: python-dateutil>=2.8.1 in ./miniconda3/lib/python3.8/site-packages (from pandas) (2.8.2)\n",
      "Requirement already satisfied: numpy>=1.18.5 in ./miniconda3/lib/python3.8/site-packages (from pandas) (1.22.0)\n",
      "Requirement already satisfied: pytz>=2020.1 in ./miniconda3/lib/python3.8/site-packages (from pandas) (2021.3)\n",
      "Requirement already satisfied: six>=1.5 in ./miniconda3/lib/python3.8/site-packages (from python-dateutil>=2.8.1->pandas) (1.16.0)\n",
      "\u001b[33mWARNING: Running pip as the 'root' user can result in broken permissions and conflicting behaviour with the system package manager. It is recommended to use a virtual environment instead: https://pip.pypa.io/warnings/venv\u001b[0m\n"
     ]
    }
   ],
   "source": [
    "!pip install pandas"
   ]
  },
  {
   "cell_type": "code",
   "execution_count": 115,
   "id": "b25a3ee2-1cf3-4eb5-8ebe-2053d2786f51",
   "metadata": {},
   "outputs": [
    {
     "name": "stdout",
     "output_type": "stream",
     "text": [
      "Looking in indexes: http://mirrors.aliyun.com/pypi/simple\n",
      "Requirement already satisfied: statsmodels in ./miniconda3/lib/python3.8/site-packages (0.13.2)\n",
      "Requirement already satisfied: pandas>=0.25 in ./miniconda3/lib/python3.8/site-packages (from statsmodels) (1.4.2)\n",
      "Requirement already satisfied: scipy>=1.3 in ./miniconda3/lib/python3.8/site-packages (from statsmodels) (1.8.0)\n",
      "Requirement already satisfied: numpy>=1.17 in ./miniconda3/lib/python3.8/site-packages (from statsmodels) (1.22.0)\n",
      "Requirement already satisfied: packaging>=21.3 in ./miniconda3/lib/python3.8/site-packages (from statsmodels) (21.3)\n",
      "Requirement already satisfied: patsy>=0.5.2 in ./miniconda3/lib/python3.8/site-packages (from statsmodels) (0.5.2)\n",
      "Requirement already satisfied: pyparsing!=3.0.5,>=2.0.2 in ./miniconda3/lib/python3.8/site-packages (from packaging>=21.3->statsmodels) (3.0.6)\n",
      "Requirement already satisfied: pytz>=2020.1 in ./miniconda3/lib/python3.8/site-packages (from pandas>=0.25->statsmodels) (2021.3)\n",
      "Requirement already satisfied: python-dateutil>=2.8.1 in ./miniconda3/lib/python3.8/site-packages (from pandas>=0.25->statsmodels) (2.8.2)\n",
      "Requirement already satisfied: six in ./miniconda3/lib/python3.8/site-packages (from patsy>=0.5.2->statsmodels) (1.16.0)\n",
      "\u001b[33mWARNING: Running pip as the 'root' user can result in broken permissions and conflicting behaviour with the system package manager. It is recommended to use a virtual environment instead: https://pip.pypa.io/warnings/venv\u001b[0m\n"
     ]
    }
   ],
   "source": [
    "!pip install statsmodels"
   ]
  },
  {
   "cell_type": "code",
   "execution_count": 116,
   "id": "e34e11f8-8ed1-44a4-9284-11766acddd7d",
   "metadata": {},
   "outputs": [
    {
     "name": "stdout",
     "output_type": "stream",
     "text": [
      "Looking in indexes: http://mirrors.aliyun.com/pypi/simple\n",
      "Requirement already satisfied: sklearn in ./miniconda3/lib/python3.8/site-packages (0.0)\n",
      "Requirement already satisfied: scikit-learn in ./miniconda3/lib/python3.8/site-packages (from sklearn) (1.0.2)\n",
      "Requirement already satisfied: threadpoolctl>=2.0.0 in ./miniconda3/lib/python3.8/site-packages (from scikit-learn->sklearn) (3.1.0)\n",
      "Requirement already satisfied: joblib>=0.11 in ./miniconda3/lib/python3.8/site-packages (from scikit-learn->sklearn) (1.1.0)\n",
      "Requirement already satisfied: scipy>=1.1.0 in ./miniconda3/lib/python3.8/site-packages (from scikit-learn->sklearn) (1.8.0)\n",
      "Requirement already satisfied: numpy>=1.14.6 in ./miniconda3/lib/python3.8/site-packages (from scikit-learn->sklearn) (1.22.0)\n",
      "\u001b[33mWARNING: Running pip as the 'root' user can result in broken permissions and conflicting behaviour with the system package manager. It is recommended to use a virtual environment instead: https://pip.pypa.io/warnings/venv\u001b[0m\n"
     ]
    }
   ],
   "source": [
    "!pip install sklearn"
   ]
  },
  {
   "cell_type": "code",
   "execution_count": 117,
   "id": "c33fd446-5dc0-4d91-953c-0e16f147544d",
   "metadata": {},
   "outputs": [],
   "source": [
    "import pandas as pd\n",
    "import numpy as np\n",
    "import datetime\n",
    "import copy\n",
    "import math\n",
    "from statsmodels.tsa.stattools import adfuller\n",
    "import  matplotlib.pyplot as plt\n",
    "from sklearn.metrics import mean_squared_error,mean_absolute_error\n",
    "import pickle\n",
    "from sklearn.metrics import r2_score"
   ]
  },
  {
   "cell_type": "code",
   "execution_count": 118,
   "id": "63aecff2-0acc-4c72-876b-7592b08ced8d",
   "metadata": {},
   "outputs": [],
   "source": [
    "df=pd.read_csv(r'autodl-nas/data_clean.csv')"
   ]
  },
  {
   "cell_type": "code",
   "execution_count": 119,
   "id": "1f157328-9cf5-47c9-bc18-e730d1d192d6",
   "metadata": {},
   "outputs": [],
   "source": [
    "df_copy=copy.deepcopy(df)"
   ]
  },
  {
   "cell_type": "code",
   "execution_count": 120,
   "id": "8903c491-2ac3-4712-8627-24f0656e48d8",
   "metadata": {},
   "outputs": [
    {
     "data": {
      "text/html": [
       "<div>\n",
       "<style scoped>\n",
       "    .dataframe tbody tr th:only-of-type {\n",
       "        vertical-align: middle;\n",
       "    }\n",
       "\n",
       "    .dataframe tbody tr th {\n",
       "        vertical-align: top;\n",
       "    }\n",
       "\n",
       "    .dataframe thead th {\n",
       "        text-align: right;\n",
       "    }\n",
       "</style>\n",
       "<table border=\"1\" class=\"dataframe\">\n",
       "  <thead>\n",
       "    <tr style=\"text-align: right;\">\n",
       "      <th></th>\n",
       "      <th>Unnamed: 0</th>\n",
       "      <th>Invoice/Item Number</th>\n",
       "      <th>Date</th>\n",
       "      <th>Store Number</th>\n",
       "      <th>Store Name</th>\n",
       "      <th>City</th>\n",
       "      <th>County</th>\n",
       "      <th>Category Name</th>\n",
       "      <th>Vendor Name</th>\n",
       "      <th>Item Number</th>\n",
       "      <th>Item Description</th>\n",
       "      <th>Pack</th>\n",
       "      <th>Bottle Volume (ml)</th>\n",
       "      <th>State Bottle Cost</th>\n",
       "      <th>State Bottle Retail</th>\n",
       "      <th>Bottles Sold</th>\n",
       "      <th>Sale (Dollars)</th>\n",
       "      <th>Volume Sold (Liters)</th>\n",
       "      <th>Volume Sold (Gallons)</th>\n",
       "      <th>location</th>\n",
       "    </tr>\n",
       "  </thead>\n",
       "  <tbody>\n",
       "    <tr>\n",
       "      <th>0</th>\n",
       "      <td>0</td>\n",
       "      <td>s24127700024</td>\n",
       "      <td>2015-02-19</td>\n",
       "      <td>3678</td>\n",
       "      <td>smoke shop, the</td>\n",
       "      <td>des moines</td>\n",
       "      <td>polk</td>\n",
       "      <td>vodka flavored</td>\n",
       "      <td>phillips beverage company</td>\n",
       "      <td>41783</td>\n",
       "      <td>uv blue raspberry vodka mini</td>\n",
       "      <td>6</td>\n",
       "      <td>500</td>\n",
       "      <td>4.89</td>\n",
       "      <td>7.34</td>\n",
       "      <td>2.0</td>\n",
       "      <td>14.68</td>\n",
       "      <td>1.00</td>\n",
       "      <td>0.26</td>\n",
       "      <td>-93.597011 41.570844</td>\n",
       "    </tr>\n",
       "    <tr>\n",
       "      <th>1</th>\n",
       "      <td>1</td>\n",
       "      <td>s15066200002</td>\n",
       "      <td>2013-10-10</td>\n",
       "      <td>2633</td>\n",
       "      <td>hy-vee</td>\n",
       "      <td>des moines</td>\n",
       "      <td>polk</td>\n",
       "      <td>misc. imported cordials &amp; liqueurs</td>\n",
       "      <td>mhw ltd</td>\n",
       "      <td>904969</td>\n",
       "      <td>sabe premiom sake double barrel</td>\n",
       "      <td>6</td>\n",
       "      <td>750</td>\n",
       "      <td>14.99</td>\n",
       "      <td>22.48</td>\n",
       "      <td>6.0</td>\n",
       "      <td>135.00</td>\n",
       "      <td>4.50</td>\n",
       "      <td>1.19</td>\n",
       "      <td>-93.596754 41.554101</td>\n",
       "    </tr>\n",
       "    <tr>\n",
       "      <th>2</th>\n",
       "      <td>2</td>\n",
       "      <td>s19323500030</td>\n",
       "      <td>2014-06-03</td>\n",
       "      <td>2607</td>\n",
       "      <td>hy-vee wine and spirits</td>\n",
       "      <td>shenandoah</td>\n",
       "      <td>page</td>\n",
       "      <td>puerto rico &amp; virgin islands rum</td>\n",
       "      <td>luxco-st louis</td>\n",
       "      <td>45277</td>\n",
       "      <td>paramount white rum</td>\n",
       "      <td>12</td>\n",
       "      <td>1000</td>\n",
       "      <td>4.34</td>\n",
       "      <td>6.51</td>\n",
       "      <td>12.0</td>\n",
       "      <td>78.10</td>\n",
       "      <td>12.00</td>\n",
       "      <td>3.17</td>\n",
       "      <td>-95.385111 40.761736</td>\n",
       "    </tr>\n",
       "    <tr>\n",
       "      <th>3</th>\n",
       "      <td>3</td>\n",
       "      <td>s23334500013</td>\n",
       "      <td>2015-01-06</td>\n",
       "      <td>4810</td>\n",
       "      <td>kum &amp; go</td>\n",
       "      <td>ankeny</td>\n",
       "      <td>polk</td>\n",
       "      <td>puerto rico &amp; virgin islands rum</td>\n",
       "      <td>bacardi u.s.a., inc.</td>\n",
       "      <td>43121</td>\n",
       "      <td>bacardi superior rum mini</td>\n",
       "      <td>12</td>\n",
       "      <td>500</td>\n",
       "      <td>5.54</td>\n",
       "      <td>8.31</td>\n",
       "      <td>1.0</td>\n",
       "      <td>8.31</td>\n",
       "      <td>0.50</td>\n",
       "      <td>0.13</td>\n",
       "      <td>-93.572458 41.760989</td>\n",
       "    </tr>\n",
       "    <tr>\n",
       "      <th>4</th>\n",
       "      <td>4</td>\n",
       "      <td>s09742200010</td>\n",
       "      <td>2012-12-27</td>\n",
       "      <td>4025</td>\n",
       "      <td>karam kaur khasriya llc</td>\n",
       "      <td>belle plaine</td>\n",
       "      <td>benton</td>\n",
       "      <td>canadian whiskies</td>\n",
       "      <td>diageo americas</td>\n",
       "      <td>11298</td>\n",
       "      <td>crown royal canadian whisky</td>\n",
       "      <td>6</td>\n",
       "      <td>1750</td>\n",
       "      <td>31.00</td>\n",
       "      <td>46.50</td>\n",
       "      <td>2.0</td>\n",
       "      <td>93.00</td>\n",
       "      <td>3.50</td>\n",
       "      <td>0.92</td>\n",
       "      <td>-92.277759 41.897052</td>\n",
       "    </tr>\n",
       "    <tr>\n",
       "      <th>...</th>\n",
       "      <td>...</td>\n",
       "      <td>...</td>\n",
       "      <td>...</td>\n",
       "      <td>...</td>\n",
       "      <td>...</td>\n",
       "      <td>...</td>\n",
       "      <td>...</td>\n",
       "      <td>...</td>\n",
       "      <td>...</td>\n",
       "      <td>...</td>\n",
       "      <td>...</td>\n",
       "      <td>...</td>\n",
       "      <td>...</td>\n",
       "      <td>...</td>\n",
       "      <td>...</td>\n",
       "      <td>...</td>\n",
       "      <td>...</td>\n",
       "      <td>...</td>\n",
       "      <td>...</td>\n",
       "      <td>...</td>\n",
       "    </tr>\n",
       "    <tr>\n",
       "      <th>19480372</th>\n",
       "      <td>19480372</td>\n",
       "      <td>s10600200004</td>\n",
       "      <td>2013-02-13</td>\n",
       "      <td>3864</td>\n",
       "      <td>hometown foods</td>\n",
       "      <td>schaller</td>\n",
       "      <td>sac</td>\n",
       "      <td>american cocktails</td>\n",
       "      <td>sazerac co., inc.</td>\n",
       "      <td>59231</td>\n",
       "      <td>ice box mudslide</td>\n",
       "      <td>6</td>\n",
       "      <td>1750</td>\n",
       "      <td>5.75</td>\n",
       "      <td>9.13</td>\n",
       "      <td>6.0</td>\n",
       "      <td>54.78</td>\n",
       "      <td>10.50</td>\n",
       "      <td>2.77</td>\n",
       "      <td>-95.29346 42.499481</td>\n",
       "    </tr>\n",
       "    <tr>\n",
       "      <th>19480373</th>\n",
       "      <td>19480373</td>\n",
       "      <td>s23597800012</td>\n",
       "      <td>2015-01-21</td>\n",
       "      <td>5065</td>\n",
       "      <td>circle s gordon drive</td>\n",
       "      <td>sioux city</td>\n",
       "      <td>woodbury</td>\n",
       "      <td>whiskey liqueur</td>\n",
       "      <td>sazerac co., inc.</td>\n",
       "      <td>64863</td>\n",
       "      <td>fireball cinnamon whiskey</td>\n",
       "      <td>48</td>\n",
       "      <td>200</td>\n",
       "      <td>3.33</td>\n",
       "      <td>5.00</td>\n",
       "      <td>4.0</td>\n",
       "      <td>20.00</td>\n",
       "      <td>0.80</td>\n",
       "      <td>0.21</td>\n",
       "      <td>-96.376341 42.489845</td>\n",
       "    </tr>\n",
       "    <tr>\n",
       "      <th>19480374</th>\n",
       "      <td>19480374</td>\n",
       "      <td>s29278700041</td>\n",
       "      <td>2015-11-24</td>\n",
       "      <td>3400</td>\n",
       "      <td>last stop beverage shop</td>\n",
       "      <td>des moines</td>\n",
       "      <td>polk</td>\n",
       "      <td>vodka 80 proof</td>\n",
       "      <td>phillips beverage company</td>\n",
       "      <td>37336</td>\n",
       "      <td>uv vodka</td>\n",
       "      <td>12</td>\n",
       "      <td>750</td>\n",
       "      <td>6.50</td>\n",
       "      <td>9.75</td>\n",
       "      <td>12.0</td>\n",
       "      <td>117.00</td>\n",
       "      <td>9.00</td>\n",
       "      <td>2.38</td>\n",
       "      <td>-93.561517 41.600476</td>\n",
       "    </tr>\n",
       "    <tr>\n",
       "      <th>19480375</th>\n",
       "      <td>19480375</td>\n",
       "      <td>s04908000004</td>\n",
       "      <td>2012-04-05</td>\n",
       "      <td>2579</td>\n",
       "      <td>hy-vee food store</td>\n",
       "      <td>grinnell</td>\n",
       "      <td>poweshiek</td>\n",
       "      <td>puerto rico &amp; virgin islands rum</td>\n",
       "      <td>bacardi u.s.a., inc.</td>\n",
       "      <td>43128</td>\n",
       "      <td>bacardi superior rum</td>\n",
       "      <td>6</td>\n",
       "      <td>1750</td>\n",
       "      <td>14.67</td>\n",
       "      <td>22.00</td>\n",
       "      <td>6.0</td>\n",
       "      <td>132.00</td>\n",
       "      <td>10.50</td>\n",
       "      <td>2.77</td>\n",
       "      <td>-92.727343 41.7283</td>\n",
       "    </tr>\n",
       "    <tr>\n",
       "      <th>19480376</th>\n",
       "      <td>19480376</td>\n",
       "      <td>s09763500040</td>\n",
       "      <td>2012-12-28</td>\n",
       "      <td>4265</td>\n",
       "      <td>kwik stop 3</td>\n",
       "      <td>waterloo</td>\n",
       "      <td>black hawk</td>\n",
       "      <td>misc. imported cordials &amp; liqueurs</td>\n",
       "      <td>sidney frank importing co.</td>\n",
       "      <td>65256</td>\n",
       "      <td>jagermeister liqueur</td>\n",
       "      <td>12</td>\n",
       "      <td>750</td>\n",
       "      <td>12.04</td>\n",
       "      <td>18.06</td>\n",
       "      <td>3.0</td>\n",
       "      <td>54.20</td>\n",
       "      <td>2.25</td>\n",
       "      <td>0.59</td>\n",
       "      <td>-92.336965 42.489106</td>\n",
       "    </tr>\n",
       "  </tbody>\n",
       "</table>\n",
       "<p>19480377 rows × 20 columns</p>\n",
       "</div>"
      ],
      "text/plain": [
       "          Unnamed: 0 Invoice/Item Number        Date  Store Number  \\\n",
       "0                  0        s24127700024  2015-02-19          3678   \n",
       "1                  1        s15066200002  2013-10-10          2633   \n",
       "2                  2        s19323500030  2014-06-03          2607   \n",
       "3                  3        s23334500013  2015-01-06          4810   \n",
       "4                  4        s09742200010  2012-12-27          4025   \n",
       "...              ...                 ...         ...           ...   \n",
       "19480372    19480372        s10600200004  2013-02-13          3864   \n",
       "19480373    19480373        s23597800012  2015-01-21          5065   \n",
       "19480374    19480374        s29278700041  2015-11-24          3400   \n",
       "19480375    19480375        s04908000004  2012-04-05          2579   \n",
       "19480376    19480376        s09763500040  2012-12-28          4265   \n",
       "\n",
       "                       Store Name          City      County  \\\n",
       "0                 smoke shop, the    des moines        polk   \n",
       "1                          hy-vee    des moines        polk   \n",
       "2         hy-vee wine and spirits    shenandoah        page   \n",
       "3                        kum & go        ankeny        polk   \n",
       "4         karam kaur khasriya llc  belle plaine      benton   \n",
       "...                           ...           ...         ...   \n",
       "19480372           hometown foods      schaller         sac   \n",
       "19480373    circle s gordon drive    sioux city    woodbury   \n",
       "19480374  last stop beverage shop    des moines        polk   \n",
       "19480375        hy-vee food store      grinnell   poweshiek   \n",
       "19480376              kwik stop 3      waterloo  black hawk   \n",
       "\n",
       "                               Category Name                 Vendor Name  \\\n",
       "0                             vodka flavored   phillips beverage company   \n",
       "1         misc. imported cordials & liqueurs                     mhw ltd   \n",
       "2           puerto rico & virgin islands rum              luxco-st louis   \n",
       "3           puerto rico & virgin islands rum        bacardi u.s.a., inc.   \n",
       "4                          canadian whiskies             diageo americas   \n",
       "...                                      ...                         ...   \n",
       "19480372                  american cocktails           sazerac co., inc.   \n",
       "19480373                     whiskey liqueur           sazerac co., inc.   \n",
       "19480374                      vodka 80 proof   phillips beverage company   \n",
       "19480375    puerto rico & virgin islands rum        bacardi u.s.a., inc.   \n",
       "19480376  misc. imported cordials & liqueurs  sidney frank importing co.   \n",
       "\n",
       "         Item Number                 Item Description  Pack  \\\n",
       "0              41783     uv blue raspberry vodka mini     6   \n",
       "1             904969  sabe premiom sake double barrel     6   \n",
       "2              45277              paramount white rum    12   \n",
       "3              43121        bacardi superior rum mini    12   \n",
       "4              11298      crown royal canadian whisky     6   \n",
       "...              ...                              ...   ...   \n",
       "19480372       59231                 ice box mudslide     6   \n",
       "19480373       64863        fireball cinnamon whiskey    48   \n",
       "19480374       37336                         uv vodka    12   \n",
       "19480375       43128             bacardi superior rum     6   \n",
       "19480376       65256             jagermeister liqueur    12   \n",
       "\n",
       "          Bottle Volume (ml)  State Bottle Cost  State Bottle Retail  \\\n",
       "0                        500               4.89                 7.34   \n",
       "1                        750              14.99                22.48   \n",
       "2                       1000               4.34                 6.51   \n",
       "3                        500               5.54                 8.31   \n",
       "4                       1750              31.00                46.50   \n",
       "...                      ...                ...                  ...   \n",
       "19480372                1750               5.75                 9.13   \n",
       "19480373                 200               3.33                 5.00   \n",
       "19480374                 750               6.50                 9.75   \n",
       "19480375                1750              14.67                22.00   \n",
       "19480376                 750              12.04                18.06   \n",
       "\n",
       "          Bottles Sold  Sale (Dollars)  Volume Sold (Liters)  \\\n",
       "0                  2.0           14.68                  1.00   \n",
       "1                  6.0          135.00                  4.50   \n",
       "2                 12.0           78.10                 12.00   \n",
       "3                  1.0            8.31                  0.50   \n",
       "4                  2.0           93.00                  3.50   \n",
       "...                ...             ...                   ...   \n",
       "19480372           6.0           54.78                 10.50   \n",
       "19480373           4.0           20.00                  0.80   \n",
       "19480374          12.0          117.00                  9.00   \n",
       "19480375           6.0          132.00                 10.50   \n",
       "19480376           3.0           54.20                  2.25   \n",
       "\n",
       "          Volume Sold (Gallons)              location  \n",
       "0                          0.26  -93.597011 41.570844  \n",
       "1                          1.19  -93.596754 41.554101  \n",
       "2                          3.17  -95.385111 40.761736  \n",
       "3                          0.13  -93.572458 41.760989  \n",
       "4                          0.92  -92.277759 41.897052  \n",
       "...                         ...                   ...  \n",
       "19480372                   2.77   -95.29346 42.499481  \n",
       "19480373                   0.21  -96.376341 42.489845  \n",
       "19480374                   2.38  -93.561517 41.600476  \n",
       "19480375                   2.77    -92.727343 41.7283  \n",
       "19480376                   0.59  -92.336965 42.489106  \n",
       "\n",
       "[19480377 rows x 20 columns]"
      ]
     },
     "execution_count": 120,
     "metadata": {},
     "output_type": "execute_result"
    }
   ],
   "source": [
    "df"
   ]
  },
  {
   "cell_type": "markdown",
   "id": "05292d34-4c4e-4cc3-9436-60b89a3065e0",
   "metadata": {},
   "source": [
    "<font size=5>首先明确我们需要预测的是要以月为单位的sale  因而需要先把日期格式改成year-month 的格式再进行分组排序操作"
   ]
  },
  {
   "cell_type": "code",
   "execution_count": 121,
   "id": "1b03d42a-1b0a-42cd-8b70-4148cbe8ca8d",
   "metadata": {},
   "outputs": [],
   "source": [
    "# print(datetime.datetime.strptime(df['Date'][0],'%Y-%m-%d'))"
   ]
  },
  {
   "cell_type": "code",
   "execution_count": 122,
   "id": "11f991f3-efa7-4ade-b4d0-0dbd8a591223",
   "metadata": {},
   "outputs": [],
   "source": [
    "# a=datetime.datetime.strptime(df['Date'][0],'%Y-%m-%d')"
   ]
  },
  {
   "cell_type": "code",
   "execution_count": 123,
   "id": "cd7f7257-a563-4856-bc00-f079bf19edbf",
   "metadata": {},
   "outputs": [
    {
     "name": "stdout",
     "output_type": "stream",
     "text": [
      "CPU times: user 2min 31s, sys: 3.29 s, total: 2min 34s\n",
      "Wall time: 2min 34s\n"
     ]
    }
   ],
   "source": [
    "%%time\n",
    "df['Date']=df['Date'].map(lambda x:datetime.datetime.strptime(x,'%Y-%m-%d'))"
   ]
  },
  {
   "cell_type": "code",
   "execution_count": 124,
   "id": "3d6a371f-43f1-459c-a212-b66501e2ebfc",
   "metadata": {},
   "outputs": [],
   "source": [
    "df['year_month']=df['Date'].map(lambda x:datetime.datetime.strftime(x,'%Y-%m'))"
   ]
  },
  {
   "cell_type": "markdown",
   "id": "01072aca-472b-4b21-83b0-60e91786c71f",
   "metadata": {},
   "source": [
    "<font size=5>生成分组数据集  保存到sales"
   ]
  },
  {
   "cell_type": "code",
   "execution_count": 125,
   "id": "c0c089d2-ce64-46c2-8e82-569fec7999a1",
   "metadata": {},
   "outputs": [],
   "source": [
    "sales=df.groupby(['County','year_month'])['Sale (Dollars)'].sum()"
   ]
  },
  {
   "cell_type": "code",
   "execution_count": 126,
   "id": "ee6cda19-73f3-4d7a-b681-626f5cfb1a8c",
   "metadata": {},
   "outputs": [
    {
     "data": {
      "text/plain": [
       "County  year_month\n",
       "adair   2012-01       24965.97\n",
       "        2012-02       28078.03\n",
       "        2012-03       25379.89\n",
       "        2012-04       36606.81\n",
       "        2012-05       35783.13\n",
       "                        ...   \n",
       "wright  2020-05       71600.37\n",
       "        2020-06       81208.40\n",
       "        2020-07       70382.92\n",
       "        2020-08       78304.91\n",
       "        2020-09       84895.10\n",
       "Name: Sale (Dollars), Length: 10382, dtype: float64"
      ]
     },
     "execution_count": 126,
     "metadata": {},
     "output_type": "execute_result"
    }
   ],
   "source": [
    "sales"
   ]
  },
  {
   "cell_type": "markdown",
   "id": "2b4033ff-d643-4549-bb56-2c92d23fdd8a",
   "metadata": {},
   "source": [
    "<font size=5>再次明确需要预测的目标county:  polk linn scott"
   ]
  },
  {
   "cell_type": "code",
   "execution_count": 127,
   "id": "28614305-6e89-4bd3-8b80-4f42e7a7b9b5",
   "metadata": {},
   "outputs": [
    {
     "data": {
      "text/plain": [
       "<AxesSubplot:xlabel='year_month'>"
      ]
     },
     "execution_count": 127,
     "metadata": {},
     "output_type": "execute_result"
    },
    {
     "data": {
      "image/png": "[encoded data removed]",
      "text/plain": [
       "<Figure size 432x288 with 1 Axes>"
      ]
     },
     "metadata": {
      "needs_background": "light"
     },
     "output_type": "display_data"
    }
   ],
   "source": [
    "## 数据集具有明显的趋势性  需要对数据集进行处理  使其具有平稳性\n",
    "\n",
    "sales['polk'].plot(kind='line')"
   ]
  },
  {
   "cell_type": "code",
   "execution_count": 128,
   "id": "4ae73fcc-d3a4-4338-8f41-aada9f6bf013",
   "metadata": {},
   "outputs": [
    {
     "data": {
      "text/plain": [
       "<AxesSubplot:xlabel='year_month'>"
      ]
     },
     "execution_count": 128,
     "metadata": {},
     "output_type": "execute_result"
    },
    {
     "data": {
      "image/png": "[encoded data removed]",
      "text/plain": [
       "<Figure size 432x288 with 1 Axes>"
      ]
     },
     "metadata": {
      "needs_background": "light"
     },
     "output_type": "display_data"
    }
   ],
   "source": [
    "## 对数据取对数  观察平稳性情况\n",
    "\n",
    "sales['polk'].map(np.log).plot(kind='line')"
   ]
  },
  {
   "cell_type": "code",
   "execution_count": 129,
   "id": "a7ddabd4-8f37-4f00-bd50-4f379834fe42",
   "metadata": {},
   "outputs": [
    {
     "data": {
      "text/plain": [
       "<AxesSubplot:xlabel='year_month'>"
      ]
     },
     "execution_count": 129,
     "metadata": {},
     "output_type": "execute_result"
    },
    {
     "data": {
      "image/png": "[encoded data removed]",
      "text/plain": [
       "<Figure size 432x288 with 1 Axes>"
      ]
     },
     "metadata": {
      "needs_background": "light"
     },
     "output_type": "display_data"
    }
   ],
   "source": [
    "## 对数据做一阶差分  观察平稳性情况  发现其平稳性具有明星好转\n",
    "\n",
    "sales['polk'].diff(1).plot(kind='line')"
   ]
  },
  {
   "cell_type": "code",
   "execution_count": 130,
   "id": "8329fc7d-cdc5-4a27-a92d-684cc3bb71d0",
   "metadata": {},
   "outputs": [
    {
     "data": {
      "text/plain": [
       "<AxesSubplot:xlabel='year_month'>"
      ]
     },
     "execution_count": 130,
     "metadata": {},
     "output_type": "execute_result"
    },
    {
     "data": {
      "image/png": "[encoded data removed]",
      "text/plain": [
       "<Figure size 432x288 with 1 Axes>"
      ]
     },
     "metadata": {
      "needs_background": "light"
     },
     "output_type": "display_data"
    }
   ],
   "source": [
    "sales['linn'].plot(kind='line')"
   ]
  },
  {
   "cell_type": "code",
   "execution_count": 131,
   "id": "e2de6c7e-75a5-4dd7-a16f-811285da2a63",
   "metadata": {},
   "outputs": [
    {
     "data": {
      "text/plain": [
       "<AxesSubplot:xlabel='year_month'>"
      ]
     },
     "execution_count": 131,
     "metadata": {},
     "output_type": "execute_result"
    },
    {
     "data": {
      "image/png": "[encoded data removed]",
      "text/plain": [
       "<Figure size 432x288 with 1 Axes>"
      ]
     },
     "metadata": {
      "needs_background": "light"
     },
     "output_type": "display_data"
    }
   ],
   "source": [
    "sales['scott'].plot(kind='line')"
   ]
  },
  {
   "cell_type": "markdown",
   "id": "26d44c2b-84c8-4fa3-b8bf-30a60fa985ba",
   "metadata": {},
   "source": [
    "<font size=7>建模"
   ]
  },
  {
   "cell_type": "markdown",
   "id": "79df064b-e8c6-47e9-84f5-5963fc9fb6f4",
   "metadata": {},
   "source": [
    "# ARIMA"
   ]
  },
  {
   "cell_type": "code",
   "execution_count": 132,
   "id": "1ad7aa4d-4646-4cd1-90af-2a28e723cdfe",
   "metadata": {},
   "outputs": [],
   "source": [
    "polk=pd.DataFrame({'sale':sales['polk'].values},index=sales['polk'].index)"
   ]
  },
  {
   "cell_type": "code",
   "execution_count": 133,
   "id": "c7bd5151-ceb9-40c6-ba7d-350b729a8cbf",
   "metadata": {},
   "outputs": [
    {
     "data": {
      "image/png": "[encoded data removed]",
      "text/plain": [
       "<Figure size 432x288 with 1 Axes>"
      ]
     },
     "metadata": {
      "needs_background": "light"
     },
     "output_type": "display_data"
    }
   ],
   "source": [
    "## acf判断\n",
    "\n",
    "\n",
    "from statsmodels.graphics.tsaplots import plot_acf\n",
    " \n",
    "plot_acf(polk).show()\n",
    "\n",
    "\n",
    "##  自相关图并不是拖尾也不是截尾   说明原数据不具有稳定性"
   ]
  },
  {
   "cell_type": "markdown",
   "id": "8f1f3d54-2ddb-46a6-9053-8d041464e436",
   "metadata": {},
   "source": [
    "### 平稳性检测"
   ]
  },
  {
   "cell_type": "code",
   "execution_count": 134,
   "id": "3abf2c6e-0eda-4851-bb5c-b89f85e0a7aa",
   "metadata": {},
   "outputs": [],
   "source": [
    "\n",
    "# 1 平稳性检测\n",
    " \n",
    "from statsmodels.tsa.stattools import adfuller as ADF\n",
    " \n",
    " \n",
    "def tagADF(t):\n",
    "    result = pd.DataFrame(index=[\n",
    "            \"Test Statistic Value\", \"p-value\", \"Lags Used\", \n",
    "            \"Number of Observations Used\", \n",
    "            \"Critical Value(1%)\", \"Critical Value(5%)\", \"Critical Value(10%)\"\n",
    "        ], columns=['sale']\n",
    "    );\n",
    "    result['sale']['Test Statistic Value'] = t[0]\n",
    "    result['sale']['p-value'] = t[1]\n",
    "    result['sale']['Lags Used'] = t[2]\n",
    "    result['sale']['Number of Observations Used'] = t[3]\n",
    "    result['sale']['Critical Value(1%)'] = t[4]['1%']\n",
    "    result['sale']['Critical Value(5%)'] = t[4]['5%']\n",
    "    result['sale']['Critical Value(10%)'] = t[4]['10%']\n",
    "    return result;\n"
   ]
  },
  {
   "cell_type": "code",
   "execution_count": 135,
   "id": "50098010-7d0c-498c-bf27-b2a964ae04f8",
   "metadata": {},
   "outputs": [
    {
     "name": "stdout",
     "output_type": "stream",
     "text": [
      "原始序列的ADF检验结果为:                                  sale\n",
      "Test Statistic Value         2.739628\n",
      "p-value                      0.999088\n",
      "Lags Used                          13\n",
      "Number of Observations Used        91\n",
      "Critical Value(1%)          -3.504343\n",
      "Critical Value(5%)          -2.893866\n",
      "Critical Value(10%)         -2.584015\n"
     ]
    }
   ],
   "source": [
    "print('原始序列的ADF检验结果为:',tagADF(ADF(polk['sale'])))"
   ]
  },
  {
   "cell_type": "markdown",
   "id": "88bb53e9-9f13-4c4d-85b6-a22c4a78fa06",
   "metadata": {},
   "source": [
    "\n",
    "### 平稳判断：得到统计量大于三个置信度(1%,5%,10%)临界统计值，p值显著大于0.05，该序列为非平稳序列。"
   ]
  },
  {
   "cell_type": "code",
   "execution_count": 136,
   "id": "414da18d-f012-4689-b870-5517d07dfc43",
   "metadata": {},
   "outputs": [],
   "source": [
    "##  对原数据集进行一阶差分处理   并储存到d_polk中\n",
    "\n",
    "d_polk = polk.diff(1).dropna()\n",
    "d_polk.columns = ['d_sale']"
   ]
  },
  {
   "cell_type": "code",
   "execution_count": 137,
   "id": "66a4bcc7-acbb-4970-bd9b-3b182ef001a8",
   "metadata": {},
   "outputs": [
    {
     "data": {
      "text/plain": [
       "<AxesSubplot:xlabel='year_month'>"
      ]
     },
     "execution_count": 137,
     "metadata": {},
     "output_type": "execute_result"
    },
    {
     "data": {
      "image/png": "[encoded data removed]",
      "text/plain": [
       "<Figure size 432x288 with 1 Axes>"
      ]
     },
     "metadata": {
      "needs_background": "light"
     },
     "output_type": "display_data"
    }
   ],
   "source": [
    "## 差分处理后的分布展示\n",
    "\n",
    "d_polk.plot()"
   ]
  },
  {
   "cell_type": "code",
   "execution_count": 138,
   "id": "e6b6c708-5c59-4a60-80eb-5f9f5d342191",
   "metadata": {},
   "outputs": [
    {
     "data": {
      "image/png": "[encoded data removed]",
      "text/plain": [
       "<Figure size 432x288 with 1 Axes>"
      ]
     },
     "execution_count": 138,
     "metadata": {},
     "output_type": "execute_result"
    },
    {
     "data": {
      "image/png": "[encoded data removed]",
      "text/plain": [
       "<Figure size 432x288 with 1 Axes>"
      ]
     },
     "metadata": {
      "needs_background": "light"
     },
     "output_type": "display_data"
    }
   ],
   "source": [
    "## 差分处理后的自相关\n",
    "\n",
    "\n",
    "plot_acf(d_polk)"
   ]
  },
  {
   "cell_type": "code",
   "execution_count": 139,
   "id": "49788490-82e1-4af1-98e6-239d9d0a1bc9",
   "metadata": {},
   "outputs": [
    {
     "data": {
      "image/png": "[encoded data removed]",
      "text/plain": [
       "<Figure size 432x288 with 1 Axes>"
      ]
     },
     "metadata": {
      "needs_background": "light"
     },
     "output_type": "display_data"
    }
   ],
   "source": [
    "## 差分处理后的偏自相关\n",
    "\n",
    "from statsmodels.graphics.tsaplots import plot_pacf\n",
    " \n",
    "plot_pacf(d_polk).show()"
   ]
  },
  {
   "cell_type": "code",
   "execution_count": 140,
   "id": "adde710f-3eab-4b43-9219-1fc3fe008112",
   "metadata": {},
   "outputs": [
    {
     "name": "stdout",
     "output_type": "stream",
     "text": [
      "原始序列的ADF检验结果为:                                  sale\n",
      "Test Statistic Value        -3.741141\n",
      "p-value                       0.00357\n",
      "Lags Used                          13\n",
      "Number of Observations Used        90\n",
      "Critical Value(1%)           -3.50519\n",
      "Critical Value(5%)          -2.894232\n",
      "Critical Value(10%)          -2.58421\n"
     ]
    }
   ],
   "source": [
    "print('原始序列的ADF检验结果为:',tagADF(ADF(d_polk['d_sale'])))"
   ]
  },
  {
   "cell_type": "markdown",
   "id": "be2a7bfa-8a26-4df3-a9da-f51064fbcf11",
   "metadata": {},
   "source": [
    "### 经过差分处理后   在5%的置信区间下显著"
   ]
  },
  {
   "cell_type": "code",
   "execution_count": null,
   "id": "cc4e1ee4-e6bc-412b-b93a-efe45057301b",
   "metadata": {},
   "outputs": [],
   "source": []
  },
  {
   "cell_type": "markdown",
   "id": "34e20c9f-96c7-47d0-9909-824cfd622cca",
   "metadata": {},
   "source": [
    "## 创建train set 以及 test set 备用"
   ]
  },
  {
   "cell_type": "code",
   "execution_count": 141,
   "id": "1152daf2-0986-438d-90e0-3d5f1432b183",
   "metadata": {},
   "outputs": [
    {
     "data": {
      "text/plain": [
       "105"
      ]
     },
     "execution_count": 141,
     "metadata": {},
     "output_type": "execute_result"
    }
   ],
   "source": [
    "len(polk)"
   ]
  },
  {
   "cell_type": "code",
   "execution_count": 142,
   "id": "037dd80e-0be1-4e8b-a648-6c7d090efa7f",
   "metadata": {},
   "outputs": [],
   "source": [
    "## 以后6个月作为测试集   前面的月份则为训练集\n",
    "\n",
    "train_polk=polk[0:99]\n",
    "test_polk=polk[99:106]"
   ]
  },
  {
   "cell_type": "markdown",
   "id": "eb9e749d-bb20-4b29-9e6d-f3792a2d620c",
   "metadata": {},
   "source": [
    "##  p，q定阶"
   ]
  },
  {
   "cell_type": "code",
   "execution_count": 143,
   "id": "1a759c2a-ad1d-44f7-a3d3-af8dfc82d687",
   "metadata": {},
   "outputs": [],
   "source": [
    "#  p，q定阶\n",
    " \n",
    "from statsmodels.tsa.arima.model import ARIMA\n",
    " \n",
    "#一般阶数不超过length/10\n",
    " \n",
    "pmax = int(len(d_polk)/10) \n",
    " \n",
    " \n",
    "qmax= int(len(d_polk)/10)"
   ]
  },
  {
   "cell_type": "code",
   "execution_count": 144,
   "id": "901e4857-3884-4990-aae2-f5015c9ee4b8",
   "metadata": {},
   "outputs": [
    {
     "data": {
      "text/html": [
       "<div>\n",
       "<style scoped>\n",
       "    .dataframe tbody tr th:only-of-type {\n",
       "        vertical-align: middle;\n",
       "    }\n",
       "\n",
       "    .dataframe tbody tr th {\n",
       "        vertical-align: top;\n",
       "    }\n",
       "\n",
       "    .dataframe thead th {\n",
       "        text-align: right;\n",
       "    }\n",
       "</style>\n",
       "<table border=\"1\" class=\"dataframe\">\n",
       "  <thead>\n",
       "    <tr style=\"text-align: right;\">\n",
       "      <th></th>\n",
       "      <th>0</th>\n",
       "      <th>1</th>\n",
       "      <th>2</th>\n",
       "      <th>3</th>\n",
       "      <th>4</th>\n",
       "      <th>5</th>\n",
       "      <th>6</th>\n",
       "      <th>7</th>\n",
       "      <th>8</th>\n",
       "      <th>9</th>\n",
       "      <th>10</th>\n",
       "    </tr>\n",
       "  </thead>\n",
       "  <tbody>\n",
       "    <tr>\n",
       "      <th>0</th>\n",
       "      <td>3210.166885</td>\n",
       "      <td>3160.411544</td>\n",
       "      <td>3164.161732</td>\n",
       "      <td>3161.279453</td>\n",
       "      <td>3166.621247</td>\n",
       "      <td>3165.920459</td>\n",
       "      <td>3176.606866</td>\n",
       "      <td>3182.176909</td>\n",
       "      <td>3188.539485</td>\n",
       "      <td>3184.672446</td>\n",
       "      <td>3189.192717</td>\n",
       "    </tr>\n",
       "    <tr>\n",
       "      <th>1</th>\n",
       "      <td>3166.318357</td>\n",
       "      <td>3163.011429</td>\n",
       "      <td>3160.486177</td>\n",
       "      <td>3165.955922</td>\n",
       "      <td>3161.388282</td>\n",
       "      <td>3164.173097</td>\n",
       "      <td>3157.127031</td>\n",
       "      <td>3160.805991</td>\n",
       "      <td>3165.538069</td>\n",
       "      <td>3173.839325</td>\n",
       "      <td>3177.283780</td>\n",
       "    </tr>\n",
       "    <tr>\n",
       "      <th>2</th>\n",
       "      <td>3168.981044</td>\n",
       "      <td>3164.762773</td>\n",
       "      <td>3174.168640</td>\n",
       "      <td>3164.163095</td>\n",
       "      <td>3155.872506</td>\n",
       "      <td>3168.588180</td>\n",
       "      <td>3163.119230</td>\n",
       "      <td>3165.240970</td>\n",
       "      <td>3169.477926</td>\n",
       "      <td>3178.347831</td>\n",
       "      <td>3174.666361</td>\n",
       "    </tr>\n",
       "    <tr>\n",
       "      <th>3</th>\n",
       "      <td>3172.721261</td>\n",
       "      <td>3168.099530</td>\n",
       "      <td>3175.822584</td>\n",
       "      <td>3155.053254</td>\n",
       "      <td>3169.666398</td>\n",
       "      <td>3159.370731</td>\n",
       "      <td>3165.125778</td>\n",
       "      <td>3169.083640</td>\n",
       "      <td>3172.888521</td>\n",
       "      <td>3167.384455</td>\n",
       "      <td>3175.718687</td>\n",
       "    </tr>\n",
       "    <tr>\n",
       "      <th>4</th>\n",
       "      <td>3171.568197</td>\n",
       "      <td>3167.655971</td>\n",
       "      <td>3156.240184</td>\n",
       "      <td>3158.534754</td>\n",
       "      <td>3163.799446</td>\n",
       "      <td>3171.846595</td>\n",
       "      <td>3163.170943</td>\n",
       "      <td>3163.122008</td>\n",
       "      <td>3167.956140</td>\n",
       "      <td>3170.971022</td>\n",
       "      <td>3178.722617</td>\n",
       "    </tr>\n",
       "    <tr>\n",
       "      <th>5</th>\n",
       "      <td>3160.491651</td>\n",
       "      <td>3164.977556</td>\n",
       "      <td>3158.693007</td>\n",
       "      <td>3157.068812</td>\n",
       "      <td>3161.564505</td>\n",
       "      <td>3172.207945</td>\n",
       "      <td>3166.931014</td>\n",
       "      <td>3176.600273</td>\n",
       "      <td>3167.582235</td>\n",
       "      <td>3172.112809</td>\n",
       "      <td>3176.502137</td>\n",
       "    </tr>\n",
       "    <tr>\n",
       "      <th>6</th>\n",
       "      <td>3165.018710</td>\n",
       "      <td>3168.917697</td>\n",
       "      <td>3161.527362</td>\n",
       "      <td>3182.929610</td>\n",
       "      <td>3168.497507</td>\n",
       "      <td>3167.611607</td>\n",
       "      <td>3170.387163</td>\n",
       "      <td>3181.643844</td>\n",
       "      <td>3174.257173</td>\n",
       "      <td>3177.173769</td>\n",
       "      <td>3186.631623</td>\n",
       "    </tr>\n",
       "    <tr>\n",
       "      <th>7</th>\n",
       "      <td>3164.621146</td>\n",
       "      <td>3169.034747</td>\n",
       "      <td>3168.436329</td>\n",
       "      <td>3189.920484</td>\n",
       "      <td>3185.674148</td>\n",
       "      <td>3175.268813</td>\n",
       "      <td>3175.947171</td>\n",
       "      <td>3180.192197</td>\n",
       "      <td>3178.622386</td>\n",
       "      <td>3180.766161</td>\n",
       "      <td>3176.715761</td>\n",
       "    </tr>\n",
       "    <tr>\n",
       "      <th>8</th>\n",
       "      <td>3168.994810</td>\n",
       "      <td>3174.711493</td>\n",
       "      <td>3165.786989</td>\n",
       "      <td>3179.833619</td>\n",
       "      <td>3224.209728</td>\n",
       "      <td>3179.714346</td>\n",
       "      <td>3173.941852</td>\n",
       "      <td>3172.779426</td>\n",
       "      <td>3169.081714</td>\n",
       "      <td>3173.525913</td>\n",
       "      <td>3175.606319</td>\n",
       "    </tr>\n",
       "    <tr>\n",
       "      <th>9</th>\n",
       "      <td>3182.605944</td>\n",
       "      <td>3186.602887</td>\n",
       "      <td>3180.232385</td>\n",
       "      <td>3159.574169</td>\n",
       "      <td>3174.495274</td>\n",
       "      <td>3187.576962</td>\n",
       "      <td>3177.811202</td>\n",
       "      <td>3173.689297</td>\n",
       "      <td>3183.696179</td>\n",
       "      <td>3187.890718</td>\n",
       "      <td>3210.705637</td>\n",
       "    </tr>\n",
       "    <tr>\n",
       "      <th>10</th>\n",
       "      <td>3186.009844</td>\n",
       "      <td>3190.475563</td>\n",
       "      <td>3162.374425</td>\n",
       "      <td>3167.936220</td>\n",
       "      <td>3176.107252</td>\n",
       "      <td>3196.105132</td>\n",
       "      <td>3176.659759</td>\n",
       "      <td>3184.602576</td>\n",
       "      <td>3206.790003</td>\n",
       "      <td>3193.621100</td>\n",
       "      <td>3221.755746</td>\n",
       "    </tr>\n",
       "  </tbody>\n",
       "</table>\n",
       "</div>"
      ],
      "text/plain": [
       "             0            1            2            3            4   \\\n",
       "0   3210.166885  3160.411544  3164.161732  3161.279453  3166.621247   \n",
       "1   3166.318357  3163.011429  3160.486177  3165.955922  3161.388282   \n",
       "2   3168.981044  3164.762773  3174.168640  3164.163095  3155.872506   \n",
       "3   3172.721261  3168.099530  3175.822584  3155.053254  3169.666398   \n",
       "4   3171.568197  3167.655971  3156.240184  3158.534754  3163.799446   \n",
       "5   3160.491651  3164.977556  3158.693007  3157.068812  3161.564505   \n",
       "6   3165.018710  3168.917697  3161.527362  3182.929610  3168.497507   \n",
       "7   3164.621146  3169.034747  3168.436329  3189.920484  3185.674148   \n",
       "8   3168.994810  3174.711493  3165.786989  3179.833619  3224.209728   \n",
       "9   3182.605944  3186.602887  3180.232385  3159.574169  3174.495274   \n",
       "10  3186.009844  3190.475563  3162.374425  3167.936220  3176.107252   \n",
       "\n",
       "             5            6            7            8            9   \\\n",
       "0   3165.920459  3176.606866  3182.176909  3188.539485  3184.672446   \n",
       "1   3164.173097  3157.127031  3160.805991  3165.538069  3173.839325   \n",
       "2   3168.588180  3163.119230  3165.240970  3169.477926  3178.347831   \n",
       "3   3159.370731  3165.125778  3169.083640  3172.888521  3167.384455   \n",
       "4   3171.846595  3163.170943  3163.122008  3167.956140  3170.971022   \n",
       "5   3172.207945  3166.931014  3176.600273  3167.582235  3172.112809   \n",
       "6   3167.611607  3170.387163  3181.643844  3174.257173  3177.173769   \n",
       "7   3175.268813  3175.947171  3180.192197  3178.622386  3180.766161   \n",
       "8   3179.714346  3173.941852  3172.779426  3169.081714  3173.525913   \n",
       "9   3187.576962  3177.811202  3173.689297  3183.696179  3187.890718   \n",
       "10  3196.105132  3176.659759  3184.602576  3206.790003  3193.621100   \n",
       "\n",
       "             10  \n",
       "0   3189.192717  \n",
       "1   3177.283780  \n",
       "2   3174.666361  \n",
       "3   3175.718687  \n",
       "4   3178.722617  \n",
       "5   3176.502137  \n",
       "6   3186.631623  \n",
       "7   3176.715761  \n",
       "8   3175.606319  \n",
       "9   3210.705637  \n",
       "10  3221.755746  "
      ]
     },
     "execution_count": 144,
     "metadata": {},
     "output_type": "execute_result"
    }
   ],
   "source": [
    "#bic矩阵\n",
    " \n",
    "bic_matrix = [] \n",
    "for p in range(pmax+1):\n",
    "  tmp = []\n",
    "  for q in range(qmax+1):\n",
    "#存在部分报错，所以用try来跳过报错。\n",
    "    try: \n",
    "      tmp.append(ARIMA(polk, order=(p,1,q)).fit().bic)\n",
    "    except:\n",
    "      tmp.append(None)\n",
    "  bic_matrix.append(tmp)\n",
    " \n",
    "#从中可以找出最小值\n",
    " \n",
    "bic_matrix = pd.DataFrame(bic_matrix) \n",
    " \n",
    "bic_matrix"
   ]
  },
  {
   "cell_type": "code",
   "execution_count": 145,
   "id": "acf49cb7-9531-4654-8e4d-1157308b938a",
   "metadata": {},
   "outputs": [
    {
     "name": "stdout",
     "output_type": "stream",
     "text": [
      "BIC最小的p值和q值为：3、3\n"
     ]
    }
   ],
   "source": [
    "p,q = bic_matrix.stack().idxmin() \n",
    "\n",
    "print(u'BIC最小的p值和q值为：%s、%s' %(p,q))\n",
    "\n",
    "\n",
    "\n",
    "# BIC最小的p值和q值为：3,3"
   ]
  },
  {
   "cell_type": "code",
   "execution_count": 146,
   "id": "02dc251e-c828-447b-afc5-1e836ed6fb1a",
   "metadata": {},
   "outputs": [],
   "source": [
    "\n",
    "model_arima= ARIMA(polk, order=(3,1,3)).fit() \n",
    "forecast_polk=model_arima.forecast(15)"
   ]
  },
  {
   "cell_type": "code",
   "execution_count": 147,
   "id": "98c5e230-e10d-41c3-9312-6bc078f69440",
   "metadata": {},
   "outputs": [],
   "source": [
    "# forecast_polk=pd.DataFrame({'sale':forecast_polk})\n",
    "# forecast_polk=pd.concat([polk,forecast_polk],axis=0)"
   ]
  },
  {
   "cell_type": "code",
   "execution_count": 148,
   "id": "3fee2a26-8b8a-4cb3-8614-3c205af6e6f7",
   "metadata": {},
   "outputs": [],
   "source": [
    "data_predict=model_arima.predict(1,104)"
   ]
  },
  {
   "cell_type": "code",
   "execution_count": 149,
   "id": "21a253df-3808-4908-9d65-db0068b94594",
   "metadata": {},
   "outputs": [],
   "source": [
    "new_polk=polk[1:105]\n",
    "new_polk.index=list(data_predict.index)"
   ]
  },
  {
   "cell_type": "code",
   "execution_count": 150,
   "id": "1aee30ed-8df9-4220-8ab6-297aadfd0743",
   "metadata": {},
   "outputs": [],
   "source": [
    "data_forecast=model_arima.forecast(15)"
   ]
  },
  {
   "cell_type": "code",
   "execution_count": 151,
   "id": "87ea3c56-ba46-47b2-b20e-1da56af9aaf8",
   "metadata": {},
   "outputs": [
    {
     "data": {
      "text/plain": [
       "<matplotlib.legend.Legend at 0x7f03c6f11d00>"
      ]
     },
     "execution_count": 151,
     "metadata": {},
     "output_type": "execute_result"
    },
    {
     "data": {
      "image/png": "[encoded data removed]",
      "text/plain": [
       "<Figure size 864x576 with 1 Axes>"
      ]
     },
     "metadata": {
      "needs_background": "light"
     },
     "output_type": "display_data"
    }
   ],
   "source": [
    "plt.figure(figsize=(12, 8))\n",
    "\n",
    "x = list(range(len(data_predict)))\n",
    "x1=list(range(len(data_predict)+15))\n",
    "\n",
    "oral_line=plt.plot(new_polk, color=\"b\", label=\"原始数据\")\n",
    "\n",
    "predict_line=plt.plot(data_predict, color='r', label=\"预测数据\")\n",
    "\n",
    "forecast_line=plt.plot(data_forecast, color='y',label='forecast')\n",
    "labels=['oral','predict','forecast']\n",
    "\n",
    "plt.legend(labels, fontsize=20, loc='upper left')"
   ]
  },
  {
   "cell_type": "markdown",
   "id": "e2091b16-21cc-4718-a1de-2ddf1b2fff06",
   "metadata": {},
   "source": [
    "### 这块使用最后的10个月来观察模型的拟合程度   使用mse  msa  以及r2进行衡量评价"
   ]
  },
  {
   "cell_type": "code",
   "execution_count": 152,
   "id": "284fd61e-da4e-41ab-b214-100df38df5da",
   "metadata": {},
   "outputs": [],
   "source": [
    "predict_10 = data_predict[-11:]\n",
    "fact_10 = new_polk[-11:]"
   ]
  },
  {
   "cell_type": "code",
   "execution_count": 153,
   "id": "b37bbdb4-7ab9-47ce-a24b-5490f16e4008",
   "metadata": {},
   "outputs": [
    {
     "name": "stdout",
     "output_type": "stream",
     "text": [
      "MSE:  842772226777.4719 \n",
      " MAE:  790399.3286210742 \n",
      " R square:  -0.41404394182537185\n"
     ]
    }
   ],
   "source": [
    "mse = mean_squared_error(fact_10,predict_10)\n",
    "mae = mean_absolute_error(fact_10,predict_10)\n",
    "r2s = r2_score(fact_10,predict_10)\n",
    "print('MSE: ', mse, '\\n', 'MAE: ', mae, '\\n', 'R square: ', r2s)\n",
    "\n",
    "\n",
    "# MSE:  842772226777.4719 \n",
    "#  MAE:  790399.3286210742 \n",
    "#  R square:  -0.41404394182537185\n",
    "\n",
    "## 回归函数拟合效果差于取平均值时R2会为负数"
   ]
  },
  {
   "cell_type": "code",
   "execution_count": null,
   "id": "b33e486c-3f12-4b39-97ce-f837a74bdf8b",
   "metadata": {},
   "outputs": [],
   "source": []
  },
  {
   "cell_type": "code",
   "execution_count": null,
   "id": "0e603acb-a2b1-4639-a492-c43d70d710a1",
   "metadata": {},
   "outputs": [],
   "source": [
    "##  保存一下groupby(sales)的文件\n",
    "\n",
    "# import pickle\n",
    "\n",
    "# with open('autodl-nas/groupby.pkl', 'wb') as f:\n",
    "#     pickle.dump(sales, f)\n"
   ]
  },
  {
   "cell_type": "code",
   "execution_count": null,
   "id": "0dcc35b0-cf2a-41a4-a0ae-b4ce6553b938",
   "metadata": {},
   "outputs": [],
   "source": [
    "##   重新载入pickle文件   （groupby）   重新储存为sales\n",
    "\n",
    "f = open('autodl-nas/groupby.pkl','rb')\n",
    "\n",
    "sales=pickle.load(f)"
   ]
  },
  {
   "cell_type": "code",
   "execution_count": null,
   "id": "957b3ef9-30eb-4b4f-ad9f-9be0af273d44",
   "metadata": {},
   "outputs": [],
   "source": [
    "polk=sales['polk']"
   ]
  },
  {
   "cell_type": "code",
   "execution_count": null,
   "id": "e174a439-2c6f-4843-bacb-2b36503592e6",
   "metadata": {},
   "outputs": [],
   "source": [
    "d_polk = polk.diff(1).dropna()\n",
    "d_polk.columns = ['d_sale']"
   ]
  },
  {
   "cell_type": "markdown",
   "id": "52af948e-7d75-4963-93f8-c6fd814ad658",
   "metadata": {},
   "source": [
    "# SARIMA 预测模型"
   ]
  },
  {
   "cell_type": "markdown",
   "id": "7d2188de-79f1-454c-83f5-65a63f387419",
   "metadata": {},
   "source": [
    "SARIMA模型自回归阶数以及移动阶数 差分阶数直接套用ARIMA模型的调参结果p=3 q=3 d=1  \n",
    "\n",
    "在SARIMA模型中由于会对周期性规律进行捕捉因而需要加入新的季节性参数   SARIMAX(p, d, q) × (P, D, Q, s)\n",
    "\n",
    "P, D, Q, s ：\n",
    "P是SAR项的周期性阶数，比如你的数据的周期是12，与此同时，偏自相关系数在24， 36时呈现出周期性，那么就需要将Q值 取为1， 2\n",
    "D是季节项差分的阶数。一般是取1。\n",
    "Q时SMA的周期性阶数，同理Q，只不过这时需要看自相关系数了。\n",
    "s：代表你的周期是多少。比如我上面说的周期为12，则s=12."
   ]
  },
  {
   "cell_type": "markdown",
   "id": "7a777df0-e521-4825-93cb-21c06ff807f0",
   "metadata": {},
   "source": [
    "###  对季节性参数定阶  (P, D, Q, s)"
   ]
  },
  {
   "cell_type": "code",
   "execution_count": null,
   "id": "9ae84c3c-e06d-4874-9ef1-d3cebad5c3a4",
   "metadata": {},
   "outputs": [],
   "source": [
    "from statsmodels.tsa.statespace.sarimax import SARIMAX"
   ]
  },
  {
   "cell_type": "code",
   "execution_count": null,
   "id": "0fb418d6-2bb2-41b3-911f-93e2e0d84c8b",
   "metadata": {},
   "outputs": [],
   "source": [
    "from itertools import product\n",
    "\n",
    "# 季节项相关的参数\n",
    "Ps = range(0, 3)\n",
    "D = range(0,3)\n",
    "Qs = range(0,3)\n",
    "# 将参数打包，传入下面的数据，是哦那个BIC准则进行参数选择\n",
    "params_list = list(product(Ps, D, Qs))\n"
   ]
  },
  {
   "cell_type": "markdown",
   "id": "3f56aa9c-6601-429c-87b3-16858590d062",
   "metadata": {},
   "source": [
    "###  此处直接套用ARIMA的参数 （p=3 q=3 d=1）   只对季节性参数定阶"
   ]
  },
  {
   "cell_type": "code",
   "execution_count": 154,
   "id": "5ae66c34-1f39-49f5-9618-039681a3d411",
   "metadata": {},
   "outputs": [],
   "source": [
    "from tqdm import tqdm_notebook\n",
    "import warnings\n",
    "# 忽视在模型拟合中遇到的错误\n",
    "warnings.filterwarnings(\"ignore\")\n",
    "# 找最优的参数 SARIMAX\n",
    "def find_best_params(data:np.array, params_list):\n",
    "    result = []\n",
    "    best_bic = 100000\n",
    "    for param in tqdm_notebook(params_list):\n",
    "        # 模型拟合\n",
    "        # model = SARIMAX(data,order=(param[0], param[1], param[2]),seasonal_order=(param[3], param[4], param[5], 12)).fit(disp=-1)\n",
    "        model = SARIMAX(data, order=(3,1,3), seasonal_order=(param[0], param[1], param[2], 12)).fit(disp=-1)\n",
    "        bicc = model.bic # 拟合出模型的BIC值\n",
    "        # print(bic)\n",
    "        # 寻找最优的参数\n",
    "        if bicc < best_bic:\n",
    "            best_mode = model\n",
    "            best_bic = bicc\n",
    "            best_param = param\n",
    "        param_1 = (param[0], param[1], param[2])\n",
    "        param = 'SARIMA{}'.format(param_1)\n",
    "        print(param)\n",
    "        result.append([param, model.bic])\n",
    "\n",
    "    result_table = pd.DataFrame(result)\n",
    "    result_table.columns = ['parameters', 'bic']\n",
    "    result_table = result_table.sort_values(by='bic',ascending=True).reset_index(drop=True)\n",
    "    return result_table\n"
   ]
  },
  {
   "cell_type": "code",
   "execution_count": 155,
   "id": "e4c72f8d-2e4c-4ab2-b45b-5ab4b7c349cb",
   "metadata": {},
   "outputs": [
    {
     "data": {
      "application/vnd.jupyter.widget-view+json": {
       "model_id": "908379bb3d0943cd81aaa3f18cafb7ec",
       "version_major": 2,
       "version_minor": 0
      },
      "text/plain": [
       "  0%|          | 0/27 [00:00<?, ?it/s]"
      ]
     },
     "metadata": {},
     "output_type": "display_data"
    },
    {
     "name": "stdout",
     "output_type": "stream",
     "text": [
      "SARIMA(0, 0, 0)\n",
      "SARIMA(0, 0, 1)\n",
      "SARIMA(0, 0, 2)\n",
      "SARIMA(0, 1, 0)\n",
      "SARIMA(0, 1, 1)\n",
      "SARIMA(0, 1, 2)\n",
      "SARIMA(0, 2, 0)\n",
      "SARIMA(0, 2, 1)\n",
      "SARIMA(0, 2, 2)\n",
      "SARIMA(1, 0, 0)\n",
      "SARIMA(1, 0, 1)\n",
      "SARIMA(1, 0, 2)\n",
      "SARIMA(1, 1, 0)\n",
      "SARIMA(1, 1, 1)\n",
      "SARIMA(1, 1, 2)\n",
      "SARIMA(1, 2, 0)\n",
      "SARIMA(1, 2, 1)\n",
      "SARIMA(1, 2, 2)\n",
      "SARIMA(2, 0, 0)\n",
      "SARIMA(2, 0, 1)\n",
      "SARIMA(2, 0, 2)\n",
      "SARIMA(2, 1, 0)\n",
      "SARIMA(2, 1, 1)\n",
      "SARIMA(2, 1, 2)\n",
      "SARIMA(2, 2, 0)\n",
      "SARIMA(2, 2, 1)\n",
      "SARIMA(2, 2, 2)\n",
      "         parameters          bic\n",
      "0   SARIMA(0, 2, 1)  2389.300782\n",
      "1   SARIMA(0, 2, 2)  2393.667274\n",
      "2   SARIMA(1, 2, 1)  2393.675621\n",
      "3   SARIMA(1, 2, 2)  2397.043898\n",
      "4   SARIMA(2, 2, 1)  2397.090910\n",
      "5   SARIMA(2, 2, 2)  2401.069893\n",
      "6   SARIMA(2, 2, 0)  2404.482890\n",
      "7   SARIMA(1, 2, 0)  2406.500166\n",
      "8   SARIMA(0, 2, 0)  2411.949715\n",
      "9   SARIMA(0, 1, 1)  2722.326958\n",
      "10  SARIMA(1, 1, 0)  2726.669940\n",
      "11  SARIMA(2, 1, 0)  2726.879652\n",
      "12  SARIMA(1, 1, 1)  2728.243105\n",
      "13  SARIMA(0, 1, 2)  2728.960854\n",
      "14  SARIMA(1, 1, 2)  2731.340497\n",
      "15  SARIMA(2, 1, 1)  2732.572530\n",
      "16  SARIMA(2, 1, 2)  2738.369577\n",
      "17  SARIMA(0, 1, 0)  2749.167359\n",
      "18  SARIMA(1, 0, 0)  3135.534918\n",
      "19  SARIMA(2, 0, 0)  3139.329371\n",
      "20  SARIMA(1, 0, 1)  3139.582604\n",
      "21  SARIMA(0, 0, 2)  3143.369045\n",
      "22  SARIMA(2, 0, 1)  3143.396822\n",
      "23  SARIMA(2, 0, 2)  3147.542633\n",
      "24  SARIMA(0, 0, 1)  3148.615691\n",
      "25  SARIMA(1, 0, 2)  3151.042763\n",
      "26  SARIMA(0, 0, 0)  3155.053254\n"
     ]
    }
   ],
   "source": [
    "result_table = find_best_params(polk, params_list)\n",
    "print(result_table)\n",
    "\n",
    "\n",
    "# ##  对于SARIMA模型   最优参数可以确定为   （3,1,3）*（ 0,2,1,12）"
   ]
  },
  {
   "cell_type": "code",
   "execution_count": null,
   "id": "cf17e457-c93b-4682-bc63-d6183e0506ad",
   "metadata": {},
   "outputs": [],
   "source": [
    "model_sarima=SARIMAX(polk, order=(3, 1, 3), seasonal_order=(0, 2, 1, 12)).fit(disp=-1)"
   ]
  },
  {
   "cell_type": "code",
   "execution_count": null,
   "id": "e4bb9f80-36b8-4279-8d63-c611187040c8",
   "metadata": {},
   "outputs": [],
   "source": [
    "## 以后6个月作为测试集   前面的月份则为训练集\n",
    "\n",
    "# train_polk=polk[0:99]\n",
    "# test_polk=polk[99:106]\n"
   ]
  },
  {
   "cell_type": "code",
   "execution_count": null,
   "id": "d4216e06-85dd-4084-8249-7affd9c4fb6b",
   "metadata": {},
   "outputs": [],
   "source": [
    "data_predict=model_sarima.predict(1,104)"
   ]
  },
  {
   "cell_type": "code",
   "execution_count": null,
   "id": "b0a63d41-0077-46ed-966d-1b3bb5738a44",
   "metadata": {},
   "outputs": [],
   "source": [
    "new_polk=polk[1:105]\n",
    "new_polk.index=list(data_predict.index)"
   ]
  },
  {
   "cell_type": "code",
   "execution_count": null,
   "id": "1ca6de73-c99f-4a04-88b7-092ab909be65",
   "metadata": {},
   "outputs": [],
   "source": [
    "##  预测后15个月的销量\n",
    "\n",
    "data_forecast=model_sarima.forecast(15)\n"
   ]
  },
  {
   "cell_type": "code",
   "execution_count": null,
   "id": "55af0e35-f2a5-43f7-8e29-fc9fe4e7454a",
   "metadata": {},
   "outputs": [],
   "source": [
    "plt.figure(figsize=(12, 8))\n",
    "\n",
    "x = list(range(len(data_predict)))\n",
    "x1=list(range(len(data_predict)+15))\n",
    "\n",
    "oral_line=plt.plot(new_polk, color=\"b\", label=\"原始数据\")\n",
    "\n",
    "predict_line=plt.plot(data_predict, color='r', label=\"预测数据\")\n",
    "\n",
    "forecast_line=plt.plot(data_forecast, color='y',label='forecast')\n",
    "labels=['oral','predict','forecast']\n",
    "\n",
    "plt.legend(labels, fontsize=20, loc='upper left')"
   ]
  },
  {
   "cell_type": "code",
   "execution_count": null,
   "id": "e3f18e4a-ab66-4c21-a9b8-ed6743bc4cd4",
   "metadata": {},
   "outputs": [],
   "source": [
    "\n",
    "##  模型表现\n",
    "\n",
    "predict_10 = data_predict[-11:]\n",
    "fact_10 = new_polk[-11:]\n",
    "mse = mean_squared_error(fact_10,predict_10)\n",
    "mae = mean_absolute_error(fact_10,predict_10)\n",
    "r2s = r2_score(fact_10,predict_10)\n",
    "print('MSE: ', mse, '\\n', 'MAE: ', mae, '\\n', 'R square: ', r2s)\n",
    "\n",
    "\n",
    "# MSE:  250870714380.16223 \n",
    "#  MAE:  411317.88010497706 \n",
    "#  R square:  0.027284067764996922"
   ]
  },
  {
   "cell_type": "markdown",
   "id": "99c6005a-ea88-4cba-b2c0-3fc5dfbd1a3d",
   "metadata": {},
   "source": [
    "# 尝试Holt-winter 季节性预测算法\n",
    "\n",
    "### Holt-winter 季节性预测算法是一种三指数平滑方法(ExponentialSmoothing)。它包含三个主要部分：水平、趋势、季节性分量。"
   ]
  },
  {
   "cell_type": "code",
   "execution_count": null,
   "id": "85d0a690-dda1-43cf-b42b-e891595a757f",
   "metadata": {},
   "outputs": [],
   "source": [
    "from statsmodels.tsa.api import ExponentialSmoothing\n",
    "\n",
    "model_ES= ExponentialSmoothing(polk ,trend='add', seasonal='add').fit()"
   ]
  },
  {
   "cell_type": "code",
   "execution_count": null,
   "id": "4bd62489-068a-4c6e-8298-b84aa24d4d48",
   "metadata": {},
   "outputs": [],
   "source": [
    "data_predict=model_ES.predict(1,104)"
   ]
  },
  {
   "cell_type": "code",
   "execution_count": null,
   "id": "b8d1cabc-76d6-4a09-bec6-3220eb0a5dd7",
   "metadata": {},
   "outputs": [],
   "source": [
    "data_forecast=model_ES.forecast(15)"
   ]
  },
  {
   "cell_type": "code",
   "execution_count": null,
   "id": "3857f7db-b782-4392-81e3-9f2e8f55ad82",
   "metadata": {},
   "outputs": [],
   "source": [
    "plt.figure(figsize=(12, 8))\n",
    "\n",
    "x = list(range(len(data_predict)))\n",
    "x1=list(range(len(data_predict)+15))\n",
    "\n",
    "oral_line=plt.plot(new_polk, color=\"b\", label=\"原始数据\")\n",
    "\n",
    "predict_line=plt.plot(data_predict, color='r', label=\"预测数据\")\n",
    "\n",
    "forecast_line=plt.plot(data_forecast, color='y',label='forecast')\n",
    "labels=['oral','predict','forecast']\n",
    "\n",
    "plt.legend(labels, fontsize=20, loc='upper left')"
   ]
  },
  {
   "cell_type": "code",
   "execution_count": null,
   "id": "6541bbb4-39a0-4f10-83d7-5c8bd57d8b61",
   "metadata": {},
   "outputs": [],
   "source": [
    "##  模型表现\n",
    "\n",
    "predict_10 = data_predict[-11:]\n",
    "fact_10 = new_polk[-11:]\n",
    "mse = mean_squared_error(fact_10,predict_10)\n",
    "mae = mean_absolute_error(fact_10,predict_10)\n",
    "r2s = r2_score(fact_10,predict_10)\n",
    "print('MSE: ', mse, '\\n', 'MAE: ', mae, '\\n', 'R square: ', r2s)\n",
    "\n",
    "\n",
    "# MSE:  122599535267.92076 \n",
    "#  MAE:  288590.2857491322 \n",
    "#  R square:  0.5246375347781773"
   ]
  },
  {
   "cell_type": "markdown",
   "id": "464cf62d-2726-41f6-88dd-8dc87ebbe6fb",
   "metadata": {},
   "source": [
    "# conclusion:\n",
    "\n",
    "对上述的三个模型进行总结：\n",
    "\n",
    "ARIMA模型表现：\n",
    "\n",
    "MSE:  294820013948.2467 \n",
    "MAE:  447701.9826744748 \n",
    "R square:  -0.14312316372900002\n",
    "\n",
    "注： 回归函数拟合效果差于取平均值时R2会为负数\n",
    "\n",
    "\n",
    "SARIMA 模型表现：\n",
    "\n",
    "MSE:  250870714380.16223 \n",
    "MAE:  411317.88010497706 \n",
    "R square:  0.027284067764996922\n",
    " \n",
    "Holt-winter 模型表现：\n",
    "\n",
    "MSE:  122599535267.92076 \n",
    "MAE:  288590.2857491322 \n",
    "R square:  0.5246375347781773\n",
    "\n",
    " 综上， 在polk为例的case中， holt-winter的表现最佳， 因而我们将把该模型应用于其他的county的预测中"
   ]
  },
  {
   "cell_type": "markdown",
   "id": "f43814af-e43c-4290-9e40-415a4160c0cd",
   "metadata": {},
   "source": [
    "# MODEL APPICATION:"
   ]
  },
  {
   "cell_type": "markdown",
   "id": "e6b9e456-0ad9-402b-a5ff-d7840209bfd0",
   "metadata": {},
   "source": [
    "## FOR POLK:"
   ]
  },
  {
   "cell_type": "code",
   "execution_count": null,
   "id": "e9b58932-1335-4fd1-91da-4bd9ec9b2d4e",
   "metadata": {},
   "outputs": [],
   "source": [
    "polk=pd.DataFrame({'sale':sales['polk'].values},index=sales['polk'].index)"
   ]
  },
  {
   "cell_type": "code",
   "execution_count": null,
   "id": "3f3fa436-b955-42c0-9c01-4053c881c323",
   "metadata": {},
   "outputs": [],
   "source": [
    "from statsmodels.tsa.api import ExponentialSmoothing\n",
    "\n",
    "model_ES_polk= ExponentialSmoothing(polk ,trend='add', seasonal='add').fit()"
   ]
  },
  {
   "cell_type": "code",
   "execution_count": null,
   "id": "b1c50072-84fc-4961-9fe6-539007c4d480",
   "metadata": {},
   "outputs": [],
   "source": [
    "data_predict_polk=model_ES_polk.predict(1,104)\n",
    "data_forecast_polk=model_ES_polk.forecast(15)\n",
    "\n",
    "new_polk=polk[1:105]\n",
    "new_polk.index=list(data_predict_polk.index)\n"
   ]
  },
  {
   "cell_type": "code",
   "execution_count": null,
   "id": "370d7671-5d3f-4074-8923-b92e4b0364c8",
   "metadata": {},
   "outputs": [],
   "source": [
    "plt.figure(figsize=(12, 8))\n",
    "\n",
    "x = list(range(len(data_predict_polk)))\n",
    "x1=list(range(len(data_predict_polk)+15))\n",
    "\n",
    "oral_line=plt.plot(new_polk, color=\"b\", label=\"原始数据\")\n",
    "\n",
    "predict_line=plt.plot(data_predict_polk, color='r', label=\"预测数据\")\n",
    "\n",
    "forecast_line=plt.plot(data_forecast_polk, color='y',label='forecast')\n",
    "labels=['oral','predict','forecast']\n",
    "\n",
    "plt.legend(labels, fontsize=20, loc='upper left')"
   ]
  },
  {
   "cell_type": "code",
   "execution_count": null,
   "id": "3463e953-3d29-4193-a945-8e76272e859f",
   "metadata": {},
   "outputs": [],
   "source": [
    "##  forecast number:\n",
    "data_forecast_polk"
   ]
  },
  {
   "cell_type": "markdown",
   "id": "95a4e5f9-3227-4843-ac8c-de01d100b06c",
   "metadata": {},
   "source": [
    "## FOR Linn"
   ]
  },
  {
   "cell_type": "code",
   "execution_count": null,
   "id": "915da38b-0803-46fc-acb9-717ebe685c49",
   "metadata": {},
   "outputs": [],
   "source": [
    "linn=pd.DataFrame({'sale':sales['linn'].values},index=sales['linn'].index)"
   ]
  },
  {
   "cell_type": "code",
   "execution_count": null,
   "id": "a6cfaf96-c556-4f5b-94f5-62f14dfb8792",
   "metadata": {},
   "outputs": [],
   "source": [
    "model_ES_linn= ExponentialSmoothing(linn ,trend='add', seasonal='add').fit()"
   ]
  },
  {
   "cell_type": "code",
   "execution_count": null,
   "id": "5f077793-4c46-4b34-8470-90255f4c2995",
   "metadata": {},
   "outputs": [],
   "source": [
    "data_predict_linn=model_ES_linn.predict(1,104)\n",
    "data_forecast_linn=model_ES_linn.forecast(15)\n",
    "\n",
    "new_linn=linn[1:105]\n",
    "new_linn.index=list(data_predict_linn.index)"
   ]
  },
  {
   "cell_type": "code",
   "execution_count": null,
   "id": "8c817837-2922-416a-9392-466e6db81057",
   "metadata": {},
   "outputs": [],
   "source": [
    "plt.figure(figsize=(12, 8))\n",
    "\n",
    "x = list(range(len(data_predict_linn)))\n",
    "x1=list(range(len(data_predict_linn)+15))\n",
    "\n",
    "oral_line=plt.plot(new_linn, color=\"b\", label=\"原始数据\")\n",
    "\n",
    "predict_line=plt.plot(data_predict_linn, color='r', label=\"预测数据\")\n",
    "\n",
    "forecast_line=plt.plot(data_forecast_linn, color='y',label='forecast')\n",
    "labels=['oral','predict','forecast']\n",
    "\n",
    "plt.legend(labels, fontsize=20, loc='upper left')"
   ]
  },
  {
   "cell_type": "code",
   "execution_count": null,
   "id": "21b85cbf-9a06-46d7-813b-a17f9edc46a8",
   "metadata": {},
   "outputs": [],
   "source": [
    "##  forecast number:\n",
    "data_forecast_linn"
   ]
  },
  {
   "cell_type": "markdown",
   "id": "2ce88cf8-e106-458b-9e1d-701891af1605",
   "metadata": {},
   "source": [
    "## FOR scott"
   ]
  },
  {
   "cell_type": "code",
   "execution_count": null,
   "id": "6e1c9bd8-3521-4dc3-910c-7ebe7584cb7f",
   "metadata": {},
   "outputs": [],
   "source": [
    "scott=pd.DataFrame({'sale':sales['scott'].values},index=sales['scott'].index)"
   ]
  },
  {
   "cell_type": "code",
   "execution_count": null,
   "id": "ecebf186-61b9-4a3e-9084-f5201cde2851",
   "metadata": {},
   "outputs": [],
   "source": [
    "model_ES_scott= ExponentialSmoothing(scott ,trend='add', seasonal='add').fit()"
   ]
  },
  {
   "cell_type": "code",
   "execution_count": null,
   "id": "062c97cd-05ef-42b4-97d1-b619df7b2fb5",
   "metadata": {},
   "outputs": [],
   "source": [
    "data_predict_scott=model_ES_scott.predict(1,104)\n",
    "data_forecast_scott=model_ES_scott.forecast(15)\n",
    "\n",
    "new_scott=scott[1:105]\n",
    "new_scott.index=list(data_predict_scott.index)"
   ]
  },
  {
   "cell_type": "code",
   "execution_count": null,
   "id": "1ea371a1-e43e-4662-8452-a63266a317a4",
   "metadata": {},
   "outputs": [],
   "source": [
    "plt.figure(figsize=(12, 8))\n",
    "\n",
    "x = list(range(len(data_predict_scott)))\n",
    "x1=list(range(len(data_predict_scott)+15))\n",
    "\n",
    "oral_line=plt.plot(new_scott, color=\"b\", label=\"原始数据\")\n",
    "\n",
    "predict_line=plt.plot(data_predict_scott, color='r', label=\"预测数据\")\n",
    "\n",
    "forecast_line=plt.plot(data_forecast_scott, color='y',label='forecast')\n",
    "labels=['oral','predict','forecast']\n",
    "\n",
    "plt.legend(labels, fontsize=20, loc='upper left')"
   ]
  },
  {
   "cell_type": "code",
   "execution_count": null,
   "id": "0ad7ca58-1a8b-4160-b55e-c1af3daf82d6",
   "metadata": {},
   "outputs": [],
   "source": [
    "##  forecast number:\n",
    "data_forecast_scott"
   ]
  },
  {
   "cell_type": "code",
   "execution_count": null,
   "id": "8ba6ceb2-e581-4bbb-9601-c6a2058323a9",
   "metadata": {},
   "outputs": [],
   "source": []
  },
  {
   "cell_type": "code",
   "execution_count": null,
   "id": "de046d03-3b23-4293-acc7-9b5478c5f868",
   "metadata": {},
   "outputs": [],
   "source": []
  },
  {
   "cell_type": "code",
   "execution_count": null,
   "id": "5759ff4b-9748-40e6-b08e-cf3138dd77a1",
   "metadata": {},
   "outputs": [],
   "source": []
  },
  {
   "cell_type": "code",
   "execution_count": null,
   "id": "33b305d3-a85f-4996-8ac1-e27b6e1d86be",
   "metadata": {},
   "outputs": [],
   "source": []
  }
 ],
 "metadata": {
  "kernelspec": {
   "display_name": "Python 3 (ipykernel)",
   "language": "python",
   "name": "python3"
  },
  "language_info": {
   "codemirror_mode": {
    "name": "ipython",
    "version": 3
   },
   "file_extension": ".py",
   "mimetype": "text/x-python",
   "name": "python",
   "nbconvert_exporter": "python",
   "pygments_lexer": "ipython3",
   "version": "3.8.10"
  }
 },
 "nbformat": 4,
 "nbformat_minor": 5
}
